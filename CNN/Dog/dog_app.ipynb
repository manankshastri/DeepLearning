{
 "cells": [
  {
   "cell_type": "markdown",
   "metadata": {},
   "source": [
    "# Artificial Intelligence Nanodegree\n",
    "\n",
    "## Convolutional Neural Networks\n",
    "\n",
    "## Project: Write an Algorithm for a Dog Identification App \n",
    "\n",
    "---\n",
    "\n",
    "In this notebook, some template code has already been provided for you, and you will need to implement additional functionality to successfully complete this project. You will not need to modify the included code beyond what is requested. Sections that begin with **'(IMPLEMENTATION)'** in the header indicate that the following block of code will require additional functionality which you must provide. Instructions will be provided for each section, and the specifics of the implementation are marked in the code block with a 'TODO' statement. Please be sure to read the instructions carefully! \n",
    "\n",
    "> **Note**: Once you have completed all of the code implementations, you need to finalize your work by exporting the iPython Notebook as an HTML document. Before exporting the notebook to html, all of the code cells need to have been run so that reviewers can see the final implementation and output. You can then export the notebook by using the menu above and navigating to  \\n\",\n",
    "    \"**File -> Download as -> HTML (.html)**. Include the finished document along with this notebook as your submission.\n",
    "\n",
    "In addition to implementing code, there will be questions that you must answer which relate to the project and your implementation. Each section where you will answer a question is preceded by a **'Question X'** header. Carefully read each question and provide thorough answers in the following text boxes that begin with **'Answer:'**. Your project submission will be evaluated based on your answers to each of the questions and the implementation you provide.\n",
    "\n",
    ">**Note:** Code and Markdown cells can be executed using the **Shift + Enter** keyboard shortcut.  Markdown cells can be edited by double-clicking the cell to enter edit mode.\n",
    "\n",
    "The rubric contains _optional_ \"Stand Out Suggestions\" for enhancing the project beyond the minimum requirements. If you decide to pursue the \"Stand Out Suggestions\", you should include the code in this IPython notebook.\n",
    "\n",
    "\n",
    "\n",
    "---\n",
    "### Why We're Here \n",
    "\n",
    "In this notebook, you will make the first steps towards developing an algorithm that could be used as part of a mobile or web app.  At the end of this project, your code will accept any user-supplied image as input.  If a dog is detected in the image, it will provide an estimate of the dog's breed.  If a human is detected, it will provide an estimate of the dog breed that is most resembling.  The image below displays potential sample output of your finished project (... but we expect that each student's algorithm will behave differently!). \n",
    "\n",
    "![Sample Dog Output](images/sample_dog_output.png)\n",
    "\n",
    "In this real-world setting, you will need to piece together a series of models to perform different tasks; for instance, the algorithm that detects humans in an image will be different from the CNN that infers dog breed.  There are many points of possible failure, and no perfect algorithm exists.  Your imperfect solution will nonetheless create a fun user experience!\n",
    "\n",
    "### The Road Ahead\n",
    "\n",
    "We break the notebook into separate steps.  Feel free to use the links below to navigate the notebook.\n",
    "\n",
    "* [Step 0](#step0): Import Datasets\n",
    "* [Step 1](#step1): Detect Humans\n",
    "* [Step 2](#step2): Detect Dogs\n",
    "* [Step 3](#step3): Create a CNN to Classify Dog Breeds (from Scratch)\n",
    "* [Step 4](#step4): Use a CNN to Classify Dog Breeds (using Transfer Learning)\n",
    "* [Step 5](#step5): Create a CNN to Classify Dog Breeds (using Transfer Learning)\n",
    "* [Step 6](#step6): Write your Algorithm\n",
    "* [Step 7](#step7): Test Your Algorithm\n",
    "\n",
    "---\n",
    "<a id='step0'></a>\n",
    "## Step 0: Import Datasets\n",
    "\n",
    "### Import Dog Dataset\n",
    "\n",
    "In the code cell below, we import a dataset of dog images.  We populate a few variables through the use of the `load_files` function from the scikit-learn library:\n",
    "- `train_files`, `valid_files`, `test_files` - numpy arrays containing file paths to images\n",
    "- `train_targets`, `valid_targets`, `test_targets` - numpy arrays containing onehot-encoded classification labels \n",
    "- `dog_names` - list of string-valued dog breed names for translating labels"
   ]
  },
  {
   "cell_type": "code",
   "execution_count": 1,
   "metadata": {},
   "outputs": [
    {
     "name": "stderr",
     "output_type": "stream",
     "text": [
      "Using TensorFlow backend.\n"
     ]
    },
    {
     "name": "stdout",
     "output_type": "stream",
     "text": [
      "There are 133 total dog categories.\n",
      "There are 8351 total dog images.\n",
      "\n",
      "There are 6680 training dog images.\n",
      "There are 835 validation dog images.\n",
      "There are 836 test dog images.\n"
     ]
    }
   ],
   "source": [
    "from sklearn.datasets import load_files       \n",
    "from keras.utils import np_utils\n",
    "import numpy as np\n",
    "from glob import glob\n",
    "\n",
    "# define function to load train, test, and validation datasets\n",
    "def load_dataset(path):\n",
    "    data = load_files(path)\n",
    "    dog_files = np.array(data['filenames'])\n",
    "    dog_targets = np_utils.to_categorical(np.array(data['target']), 133)\n",
    "    return dog_files, dog_targets\n",
    "\n",
    "# load train, test, and validation datasets\n",
    "train_files, train_targets = load_dataset('dogImages/train')\n",
    "valid_files, valid_targets = load_dataset('dogImages/valid')\n",
    "test_files, test_targets = load_dataset('dogImages/test')\n",
    "\n",
    "# load list of dog names\n",
    "dog_names = [item[20:-1] for item in sorted(glob(\"dogImages/train/*/\"))]\n",
    "\n",
    "# print statistics about the dataset\n",
    "print('There are %d total dog categories.' % len(dog_names))\n",
    "print('There are %s total dog images.\\n' % len(np.hstack([train_files, valid_files, test_files])))\n",
    "print('There are %d training dog images.' % len(train_files))\n",
    "print('There are %d validation dog images.' % len(valid_files))\n",
    "print('There are %d test dog images.'% len(test_files))"
   ]
  },
  {
   "cell_type": "markdown",
   "metadata": {},
   "source": [
    "### Import Human Dataset\n",
    "\n",
    "In the code cell below, we import a dataset of human images, where the file paths are stored in the numpy array `human_files`."
   ]
  },
  {
   "cell_type": "code",
   "execution_count": 2,
   "metadata": {},
   "outputs": [
    {
     "name": "stdout",
     "output_type": "stream",
     "text": [
      "There are 13233 total human images.\n"
     ]
    }
   ],
   "source": [
    "import random\n",
    "random.seed(8675309)\n",
    "\n",
    "# load filenames in shuffled human dataset\n",
    "human_files = np.array(glob(\"lfw/*/*\"))\n",
    "random.shuffle(human_files)\n",
    "\n",
    "# print statistics about the dataset\n",
    "print('There are %d total human images.' % len(human_files))"
   ]
  },
  {
   "cell_type": "markdown",
   "metadata": {},
   "source": [
    "---\n",
    "<a id='step1'></a>\n",
    "## Step 1: Detect Humans\n",
    "\n",
    "We use OpenCV's implementation of [Haar feature-based cascade classifiers](http://docs.opencv.org/trunk/d7/d8b/tutorial_py_face_detection.html) to detect human faces in images.  OpenCV provides many pre-trained face detectors, stored as XML files on [github](https://github.com/opencv/opencv/tree/master/data/haarcascades).  We have downloaded one of these detectors and stored it in the `haarcascades` directory.\n",
    "\n",
    "In the next code cell, we demonstrate how to use this detector to find human faces in a sample image."
   ]
  },
  {
   "cell_type": "code",
   "execution_count": 3,
   "metadata": {},
   "outputs": [
    {
     "name": "stdout",
     "output_type": "stream",
     "text": [
      "Number of faces detected: 1\n"
     ]
    },
    {
     "data": {
      "image/png": "[encoded data removed]",
      "text/plain": [
       "<matplotlib.figure.Figure at 0x7e05518>"
      ]
     },
     "metadata": {},
     "output_type": "display_data"
    }
   ],
   "source": [
    "import cv2                \n",
    "import matplotlib.pyplot as plt                        \n",
    "%matplotlib inline                               \n",
    "\n",
    "# extract pre-trained face detector\n",
    "face_cascade = cv2.CascadeClassifier('haarcascades/haarcascade_frontalface_alt.xml')\n",
    "\n",
    "# load color (BGR) image\n",
    "img = cv2.imread(human_files[5])\n",
    "# convert BGR image to grayscale\n",
    "gray = cv2.cvtColor(img, cv2.COLOR_BGR2GRAY)\n",
    "\n",
    "# find faces in image\n",
    "faces = face_cascade.detectMultiScale(gray)\n",
    "\n",
    "# print number of faces detected in the image\n",
    "print('Number of faces detected:', len(faces))\n",
    "\n",
    "# get bounding box for each detected face\n",
    "for (x,y,w,h) in faces:\n",
    "    # add bounding box to color image\n",
    "    cv2.rectangle(img,(x,y),(x+w,y+h),(255,0,0),2)\n",
    "    \n",
    "# convert BGR image to RGB for plotting\n",
    "cv_rgb = cv2.cvtColor(img, cv2.COLOR_BGR2RGB)\n",
    "\n",
    "# display the image, along with bounding box\n",
    "plt.imshow(cv_rgb)\n",
    "plt.show()"
   ]
  },
  {
   "cell_type": "markdown",
   "metadata": {},
   "source": [
    "Before using any of the face detectors, it is standard procedure to convert the images to grayscale.  The `detectMultiScale` function executes the classifier stored in `face_cascade` and takes the grayscale image as a parameter.  \n",
    "\n",
    "In the above code, `faces` is a numpy array of detected faces, where each row corresponds to a detected face.  Each detected face is a 1D array with four entries that specifies the bounding box of the detected face.  The first two entries in the array (extracted in the above code as `x` and `y`) specify the horizontal and vertical positions of the top left corner of the bounding box.  The last two entries in the array (extracted here as `w` and `h`) specify the width and height of the box.\n",
    "\n",
    "### Write a Human Face Detector\n",
    "\n",
    "We can use this procedure to write a function that returns `True` if a human face is detected in an image and `False` otherwise.  This function, aptly named `face_detector`, takes a string-valued file path to an image as input and appears in the code block below."
   ]
  },
  {
   "cell_type": "code",
   "execution_count": 4,
   "metadata": {},
   "outputs": [],
   "source": [
    "# returns \"True\" if face is detected in image stored at img_path\n",
    "def face_detector(img_path):\n",
    "    img = cv2.imread(img_path)\n",
    "    gray = cv2.cvtColor(img, cv2.COLOR_BGR2GRAY)\n",
    "    faces = face_cascade.detectMultiScale(gray)\n",
    "    return len(faces) > 0"
   ]
  },
  {
   "cell_type": "markdown",
   "metadata": {},
   "source": [
    "### (IMPLEMENTATION) Assess the Human Face Detector\n",
    "\n",
    "__Question 1:__ Use the code cell below to test the performance of the `face_detector` function.  \n",
    "- What percentage of the first 100 images in `human_files` have a detected human face?  \n",
    "- What percentage of the first 100 images in `dog_files` have a detected human face? \n",
    "\n",
    "Ideally, we would like 100% of human images with a detected face and 0% of dog images with a detected face.  You will see that our algorithm falls short of this goal, but still gives acceptable performance.  We extract the file paths for the first 100 images from each of the datasets and store them in the numpy arrays `human_files_short` and `dog_files_short`.\n",
    "\n",
    "__Answer:__ "
   ]
  },
  {
   "cell_type": "code",
   "execution_count": 5,
   "metadata": {},
   "outputs": [
    {
     "name": "stdout",
     "output_type": "stream",
     "text": [
      "99 human faces detected in human files\n",
      "11 human faces detected in dog files\n"
     ]
    }
   ],
   "source": [
    "human_files_short = human_files[:100]\n",
    "dog_files_short = train_files[:100]\n",
    "# Do NOT modify the code above this line.\n",
    "\n",
    "## TODO: Test the performance of the face_detector algorithm \n",
    "## on the images in human_files_short and dog_files_short.\n",
    "h_in_h = np.sum([face_detector(i) for i in human_files_short])\n",
    "h_in_d = np.sum([face_detector(i) for i in dog_files_short])\n",
    "print(\"{} human faces detected in human files\".format(h_in_h))\n",
    "print(\"{} human faces detected in dog files\".format(h_in_d))"
   ]
  },
  {
   "cell_type": "markdown",
   "metadata": {},
   "source": [
    "__Question 2:__ This algorithmic choice necessitates that we communicate to the user that we accept human images only when they provide a clear view of a face (otherwise, we risk having unneccessarily frustrated users!). In your opinion, is this a reasonable expectation to pose on the user? If not, can you think of a way to detect humans in images that does not necessitate an image with a clearly presented face?\n",
    "\n",
    "__Answer:__\n",
    "\n",
    "We suggest the face detector from OpenCV as a potential way to detect human images in your algorithm, but you are free to explore other approaches, especially approaches that make use of deep learning :).  Please use the code cell below to design and test your own face detection algorithm.  If you decide to pursue this _optional_ task, report performance on each of the datasets."
   ]
  },
  {
   "cell_type": "code",
   "execution_count": 6,
   "metadata": {},
   "outputs": [],
   "source": [
    "## (Optional) TODO: Report the performance of another  \n",
    "## face detection algorithm on the LFW dataset\n",
    "### Feel free to use as many code cells as needed."
   ]
  },
  {
   "cell_type": "markdown",
   "metadata": {},
   "source": [
    "---\n",
    "<a id='step2'></a>\n",
    "## Step 2: Detect Dogs\n",
    "\n",
    "In this section, we use a pre-trained [ResNet-50](http://ethereon.github.io/netscope/#/gist/db945b393d40bfa26006) model to detect dogs in images.  Our first line of code downloads the ResNet-50 model, along with weights that have been trained on [ImageNet](http://www.image-net.org/), a very large, very popular dataset used for image classification and other vision tasks.  ImageNet contains over 10 million URLs, each linking to an image containing an object from one of [1000 categories](https://gist.github.com/yrevar/942d3a0ac09ec9e5eb3a).  Given an image, this pre-trained ResNet-50 model returns a prediction (derived from the available categories in ImageNet) for the object that is contained in the image."
   ]
  },
  {
   "cell_type": "code",
   "execution_count": 7,
   "metadata": {},
   "outputs": [],
   "source": [
    "from keras.applications.resnet50 import ResNet50\n",
    "\n",
    "# define ResNet50 model\n",
    "ResNet50_model = ResNet50(weights='imagenet')"
   ]
  },
  {
   "cell_type": "markdown",
   "metadata": {},
   "source": [
    "### Pre-process the Data\n",
    "\n",
    "When using TensorFlow as backend, Keras CNNs require a 4D array (which we'll also refer to as a 4D tensor) as input, with shape\n",
    "\n",
    "$$\n",
    "(\\text{nb_samples}, \\text{rows}, \\text{columns}, \\text{channels}),\n",
    "$$\n",
    "\n",
    "where `nb_samples` corresponds to the total number of images (or samples), and `rows`, `columns`, and `channels` correspond to the number of rows, columns, and channels for each image, respectively.  \n",
    "\n",
    "The `path_to_tensor` function below takes a string-valued file path to a color image as input and returns a 4D tensor suitable for supplying to a Keras CNN.  The function first loads the image and resizes it to a square image that is $224 \\times 224$ pixels.  Next, the image is converted to an array, which is then resized to a 4D tensor.  In this case, since we are working with color images, each image has three channels.  Likewise, since we are processing a single image (or sample), the returned tensor will always have shape\n",
    "\n",
    "$$\n",
    "(1, 224, 224, 3).\n",
    "$$\n",
    "\n",
    "The `paths_to_tensor` function takes a numpy array of string-valued image paths as input and returns a 4D tensor with shape \n",
    "\n",
    "$$\n",
    "(\\text{nb_samples}, 224, 224, 3).\n",
    "$$\n",
    "\n",
    "Here, `nb_samples` is the number of samples, or number of images, in the supplied array of image paths.  It is best to think of `nb_samples` as the number of 3D tensors (where each 3D tensor corresponds to a different image) in your dataset!"
   ]
  },
  {
   "cell_type": "code",
   "execution_count": 8,
   "metadata": {},
   "outputs": [],
   "source": [
    "from keras.preprocessing import image                  \n",
    "from tqdm import tqdm\n",
    "\n",
    "def path_to_tensor(img_path):\n",
    "    # loads RGB image as PIL.Image.Image type\n",
    "    img = image.load_img(img_path, target_size=(224, 224))\n",
    "    # convert PIL.Image.Image type to 3D tensor with shape (224, 224, 3)\n",
    "    x = image.img_to_array(img)\n",
    "    # convert 3D tensor to 4D tensor with shape (1, 224, 224, 3) and return 4D tensor\n",
    "    return np.expand_dims(x, axis=0)\n",
    "\n",
    "def paths_to_tensor(img_paths):\n",
    "    list_of_tensors = [path_to_tensor(img_path) for img_path in tqdm(img_paths)]\n",
    "    return np.vstack(list_of_tensors)"
   ]
  },
  {
   "cell_type": "markdown",
   "metadata": {},
   "source": [
    "### Making Predictions with ResNet-50\n",
    "\n",
    "Getting the 4D tensor ready for ResNet-50, and for any other pre-trained model in Keras, requires some additional processing.  First, the RGB image is converted to BGR by reordering the channels.  All pre-trained models have the additional normalization step that the mean pixel (expressed in RGB as $[103.939, 116.779, 123.68]$ and calculated from all pixels in all images in ImageNet) must be subtracted from every pixel in each image.  This is implemented in the imported function `preprocess_input`.  If you're curious, you can check the code for `preprocess_input` [here](https://github.com/fchollet/keras/blob/master/keras/applications/imagenet_utils.py).\n",
    "\n",
    "Now that we have a way to format our image for supplying to ResNet-50, we are now ready to use the model to extract the predictions.  This is accomplished with the `predict` method, which returns an array whose $i$-th entry is the model's predicted probability that the image belongs to the $i$-th ImageNet category.  This is implemented in the `ResNet50_predict_labels` function below.\n",
    "\n",
    "By taking the argmax of the predicted probability vector, we obtain an integer corresponding to the model's predicted object class, which we can identify with an object category through the use of this [dictionary](https://gist.github.com/yrevar/942d3a0ac09ec9e5eb3a). "
   ]
  },
  {
   "cell_type": "code",
   "execution_count": 9,
   "metadata": {},
   "outputs": [],
   "source": [
    "from keras.applications.resnet50 import preprocess_input, decode_predictions\n",
    "\n",
    "def ResNet50_predict_labels(img_path):\n",
    "    # returns prediction vector for image located at img_path\n",
    "    img = preprocess_input(path_to_tensor(img_path))\n",
    "    return np.argmax(ResNet50_model.predict(img))"
   ]
  },
  {
   "cell_type": "markdown",
   "metadata": {},
   "source": [
    "### Write a Dog Detector\n",
    "\n",
    "While looking at the [dictionary](https://gist.github.com/yrevar/942d3a0ac09ec9e5eb3a), you will notice that the categories corresponding to dogs appear in an uninterrupted sequence and correspond to dictionary keys 151-268, inclusive, to include all categories from `'Chihuahua'` to `'Mexican hairless'`.  Thus, in order to check to see if an image is predicted to contain a dog by the pre-trained ResNet-50 model, we need only check if the `ResNet50_predict_labels` function above returns a value between 151 and 268 (inclusive).\n",
    "\n",
    "We use these ideas to complete the `dog_detector` function below, which returns `True` if a dog is detected in an image (and `False` if not)."
   ]
  },
  {
   "cell_type": "code",
   "execution_count": 10,
   "metadata": {},
   "outputs": [],
   "source": [
    "### returns \"True\" if a dog is detected in the image stored at img_path\n",
    "def dog_detector(img_path):\n",
    "    prediction = ResNet50_predict_labels(img_path)\n",
    "    return ((prediction <= 268) & (prediction >= 151)) "
   ]
  },
  {
   "cell_type": "markdown",
   "metadata": {},
   "source": [
    "### (IMPLEMENTATION) Assess the Dog Detector\n",
    "\n",
    "__Question 3:__ Use the code cell below to test the performance of your `dog_detector` function.  \n",
    "- What percentage of the images in `human_files_short` have a detected dog?  \n",
    "- What percentage of the images in `dog_files_short` have a detected dog?\n",
    "\n",
    "__Answer:__ "
   ]
  },
  {
   "cell_type": "code",
   "execution_count": 11,
   "metadata": {},
   "outputs": [
    {
     "name": "stdout",
     "output_type": "stream",
     "text": [
      "1 images in human files have a detected dog\n",
      "100 images in dog files have a detected dog\n"
     ]
    }
   ],
   "source": [
    "### TODO: Test the performance of the dog_detector function\n",
    "### on the images in human_files_short and dog_files_short.\n",
    "dd1 = np.sum([dog_detector(i) for i in human_files_short])\n",
    "dd2 = np.sum([dog_detector(i) for i in dog_files_short])\n",
    "print(\"{} images in human files have a detected dog\".format(dd1))\n",
    "print(\"{} images in dog files have a detected dog\".format(dd2))"
   ]
  },
  {
   "cell_type": "markdown",
   "metadata": {},
   "source": [
    "---\n",
    "<a id='step3'></a>\n",
    "## Step 3: Create a CNN to Classify Dog Breeds (from Scratch)\n",
    "\n",
    "Now that we have functions for detecting humans and dogs in images, we need a way to predict breed from images.  In this step, you will create a CNN that classifies dog breeds.  You must create your CNN _from scratch_ (so, you can't use transfer learning _yet_!), and you must attain a test accuracy of at least 1%.  In Step 5 of this notebook, you will have the opportunity to use transfer learning to create a CNN that attains greatly improved accuracy.\n",
    "\n",
    "Be careful with adding too many trainable layers!  More parameters means longer training, which means you are more likely to need a GPU to accelerate the training process.  Thankfully, Keras provides a handy estimate of the time that each epoch is likely to take; you can extrapolate this estimate to figure out how long it will take for your algorithm to train. \n",
    "\n",
    "We mention that the task of assigning breed to dogs from images is considered exceptionally challenging.  To see why, consider that *even a human* would have great difficulty in distinguishing between a Brittany and a Welsh Springer Spaniel.  \n",
    "\n",
    "Brittany | Welsh Springer Spaniel\n",
    "- | - \n",
    "<img src=\"images/Brittany_02625.jpg\" width=\"100\"> | <img src=\"images/Welsh_springer_spaniel_08203.jpg\" width=\"200\">\n",
    "\n",
    "It is not difficult to find other dog breed pairs with minimal inter-class variation (for instance, Curly-Coated Retrievers and American Water Spaniels).  \n",
    "\n",
    "Curly-Coated Retriever | American Water Spaniel\n",
    "- | -\n",
    "<img src=\"images/Curly-coated_retriever_03896.jpg\" width=\"200\"> | <img src=\"images/American_water_spaniel_00648.jpg\" width=\"200\">\n",
    "\n",
    "\n",
    "Likewise, recall that labradors come in yellow, chocolate, and black.  Your vision-based algorithm will have to conquer this high intra-class variation to determine how to classify all of these different shades as the same breed.  \n",
    "\n",
    "Yellow Labrador | Chocolate Labrador | Black Labrador\n",
    "- | -\n",
    "<img src=\"images/Labrador_retriever_06457.jpg\" width=\"150\"> | <img src=\"images/Labrador_retriever_06455.jpg\" width=\"240\"> | <img src=\"images/Labrador_retriever_06449.jpg\" width=\"220\">\n",
    "\n",
    "We also mention that random chance presents an exceptionally low bar: setting aside the fact that the classes are slightly imabalanced, a random guess will provide a correct answer roughly 1 in 133 times, which corresponds to an accuracy of less than 1%.  \n",
    "\n",
    "Remember that the practice is far ahead of the theory in deep learning.  Experiment with many different architectures, and trust your intuition.  And, of course, have fun! \n",
    "\n",
    "### Pre-process the Data\n",
    "\n",
    "We rescale the images by dividing every pixel in every image by 255."
   ]
  },
  {
   "cell_type": "code",
   "execution_count": 13,
   "metadata": {},
   "outputs": [
    {
     "name": "stderr",
     "output_type": "stream",
     "text": [
      "100%|██████████████████████████████████████| 6680/6680 [07:40<00:00, 14.51it/s]\n",
      "100%|████████████████████████████████████████| 835/835 [01:21<00:00, 14.69it/s]\n",
      "100%|████████████████████████████████████████| 836/836 [00:55<00:00, 21.46it/s]\n"
     ]
    }
   ],
   "source": [
    "from PIL import ImageFile                            \n",
    "ImageFile.LOAD_TRUNCATED_IMAGES = True                 \n",
    "\n",
    "# pre-process the data for Keras\n",
    "train_tensors = paths_to_tensor(train_files).astype('float32')/255\n",
    "valid_tensors = paths_to_tensor(valid_files).astype('float32')/255\n",
    "test_tensors = paths_to_tensor(test_files).astype('float32')/255"
   ]
  },
  {
   "cell_type": "markdown",
   "metadata": {},
   "source": [
    "### (IMPLEMENTATION) Model Architecture\n",
    "\n",
    "Create a CNN to classify dog breed.  At the end of your code cell block, summarize the layers of your model by executing the line:\n",
    "    \n",
    "        model.summary()\n",
    "\n",
    "We have imported some Python modules to get you started, but feel free to import as many modules as you need.  If you end up getting stuck, here's a hint that specifies a model that trains relatively fast on CPU and attains >1% test accuracy in 5 epochs:\n",
    "\n",
    "![Sample CNN](images/sample_cnn.png)\n",
    "           \n",
    "__Question 4:__ Outline the steps you took to get to your final CNN architecture and your reasoning at each step.  If you chose to use the hinted architecture above, describe why you think that CNN architecture should work well for the image classification task.\n",
    "\n",
    "__Answer:__ "
   ]
  },
  {
   "cell_type": "code",
   "execution_count": 22,
   "metadata": {},
   "outputs": [
    {
     "name": "stdout",
     "output_type": "stream",
     "text": [
      "_________________________________________________________________\n",
      "Layer (type)                 Output Shape              Param #   \n",
      "=================================================================\n",
      "conv2d_10 (Conv2D)           (None, 224, 224, 32)      896       \n",
      "_________________________________________________________________\n",
      "max_pooling2d_11 (MaxPooling (None, 112, 112, 32)      0         \n",
      "_________________________________________________________________\n",
      "dropout_12 (Dropout)         (None, 112, 112, 32)      0         \n",
      "_________________________________________________________________\n",
      "conv2d_11 (Conv2D)           (None, 112, 112, 64)      18496     \n",
      "_________________________________________________________________\n",
      "max_pooling2d_12 (MaxPooling (None, 56, 56, 64)        0         \n",
      "_________________________________________________________________\n",
      "dropout_13 (Dropout)         (None, 56, 56, 64)        0         \n",
      "_________________________________________________________________\n",
      "conv2d_12 (Conv2D)           (None, 56, 56, 128)       73856     \n",
      "_________________________________________________________________\n",
      "max_pooling2d_13 (MaxPooling (None, 28, 28, 128)       0         \n",
      "_________________________________________________________________\n",
      "dropout_14 (Dropout)         (None, 28, 28, 128)       0         \n",
      "_________________________________________________________________\n",
      "flatten_5 (Flatten)          (None, 100352)            0         \n",
      "_________________________________________________________________\n",
      "dense_6 (Dense)              (None, 64)                6422592   \n",
      "_________________________________________________________________\n",
      "dropout_15 (Dropout)         (None, 64)                0         \n",
      "_________________________________________________________________\n",
      "dense_7 (Dense)              (None, 133)               8645      \n",
      "=================================================================\n",
      "Total params: 6,524,485.0\n",
      "Trainable params: 6,524,485.0\n",
      "Non-trainable params: 0.0\n",
      "_________________________________________________________________\n"
     ]
    }
   ],
   "source": [
    "from keras.layers import Conv2D, MaxPooling2D, GlobalAveragePooling2D\n",
    "from keras.layers import Dropout, Flatten, Dense\n",
    "from keras.models import Sequential\n",
    "\n",
    "model = Sequential()\n",
    "\n",
    "### TODO: Define your architecture.\n",
    "model.add(Conv2D(32, (3,3), padding='same', activation='relu', input_shape=train_tensors[0].shape))\n",
    "model.add(MaxPooling2D(pool_size=2, padding='same'))\n",
    "model.add(Dropout(0.3))\n",
    "model.add(Conv2D(64, (3,3), padding='same', activation='relu'))\n",
    "model.add(MaxPooling2D(pool_size=2, padding='same'))\n",
    "model.add(Dropout(0.3))\n",
    "model.add(Conv2D(128, (3,3), padding='same', activation='relu'))\n",
    "model.add(MaxPooling2D(pool_size=2, padding='same'))\n",
    "model.add(Dropout(0.3))\n",
    "model.add(Flatten())\n",
    "model.add(Dense(64, activation='softmax'))\n",
    "model.add(Dropout(0.3))\n",
    "model.add(Dense(133, activation='softmax'))\n",
    "\n",
    "model.summary()"
   ]
  },
  {
   "cell_type": "markdown",
   "metadata": {},
   "source": [
    "### Compile the Model"
   ]
  },
  {
   "cell_type": "code",
   "execution_count": 23,
   "metadata": {},
   "outputs": [],
   "source": [
    "model.compile(optimizer='rmsprop', loss='categorical_crossentropy', metrics=['accuracy'])"
   ]
  },
  {
   "cell_type": "markdown",
   "metadata": {},
   "source": [
    "### (IMPLEMENTATION) Train the Model\n",
    "\n",
    "Train your model in the code cell below.  Use model checkpointing to save the model that attains the best validation loss.\n",
    "\n",
    "You are welcome to [augment the training data](https://blog.keras.io/building-powerful-image-classification-models-using-very-little-data.html), but this is not a requirement. "
   ]
  },
  {
   "cell_type": "code",
   "execution_count": 24,
   "metadata": {},
   "outputs": [
    {
     "name": "stdout",
     "output_type": "stream",
     "text": [
      "Train on 6680 samples, validate on 835 samples\n",
      "Epoch 1/5\n"
     ]
    },
    {
     "name": "stdout",
     "output_type": "stream",
     "text": [
      "4040/6680 [=================>............] - ETA: 1597s - loss: 4.8922 - acc: 0.0000e+ - ETA: 1352s - loss: 4.8837 - acc: 0.0000e+ - ETA: 1220s - loss: 4.8923 - acc: 0.0000e+ - ETA: 1162s - loss: 4.8960 - acc: 0.0000e+ - ETA: 1101s - loss: 4.8970 - acc: 0.0000e+ - ETA: 1154s - loss: 4.8946 - acc: 0.0000e+ - ETA: 1167s - loss: 4.8947 - acc: 0.0071   - ETA: 1254s - loss: 4.8991 - acc: 0.00 - ETA: 1244s - loss: 4.8990 - acc: 0.00 - ETA: 1252s - loss: 4.8981 - acc: 0.00 - ETA: 1243s - loss: 4.8936 - acc: 0.00 - ETA: 1242s - loss: 4.8951 - acc: 0.00 - ETA: 1230s - loss: 4.8964 - acc: 0.00 - ETA: 1222s - loss: 4.8980 - acc: 0.00 - ETA: 1214s - loss: 4.8956 - acc: 0.00 - ETA: 1200s - loss: 4.8943 - acc: 0.00 - ETA: 1196s - loss: 4.8956 - acc: 0.00 - ETA: 1191s - loss: 4.8975 - acc: 0.00 - ETA: 1176s - loss: 4.8970 - acc: 0.00 - ETA: 1164s - loss: 4.8972 - acc: 0.00 - ETA: 1159s - loss: 4.8974 - acc: 0.00 - ETA: 1154s - loss: 4.8963 - acc: 0.00 - ETA: 1158s - loss: 4.8966 - acc: 0.00 - ETA: 1153s - loss: 4.8959 - acc: 0.00 - ETA: 1149s - loss: 4.8970 - acc: 0.00 - ETA: 1153s - loss: 4.8971 - acc: 0.00 - ETA: 1154s - loss: 4.8981 - acc: 0.00 - ETA: 1149s - loss: 4.8977 - acc: 0.00 - ETA: 1140s - loss: 4.8981 - acc: 0.00 - ETA: 1130s - loss: 4.8976 - acc: 0.00 - ETA: 1121s - loss: 4.8987 - acc: 0.00 - ETA: 1116s - loss: 4.8998 - acc: 0.00 - ETA: 1107s - loss: 4.9003 - acc: 0.00 - ETA: 1104s - loss: 4.9005 - acc: 0.00 - ETA: 1100s - loss: 4.8993 - acc: 0.00 - ETA: 1101s - loss: 4.8989 - acc: 0.00 - ETA: 1098s - loss: 4.8995 - acc: 0.00 - ETA: 1091s - loss: 4.9005 - acc: 0.00 - ETA: 1087s - loss: 4.9001 - acc: 0.00 - ETA: 1082s - loss: 4.9000 - acc: 0.00 - ETA: 1084s - loss: 4.9002 - acc: 0.00 - ETA: 1082s - loss: 4.8999 - acc: 0.00 - ETA: 1080s - loss: 4.9006 - acc: 0.00 - ETA: 1076s - loss: 4.9007 - acc: 0.00 - ETA: 1074s - loss: 4.9011 - acc: 0.00 - ETA: 1069s - loss: 4.9015 - acc: 0.00 - ETA: 1066s - loss: 4.9014 - acc: 0.00 - ETA: 1060s - loss: 4.9015 - acc: 0.00 - ETA: 1058s - loss: 4.9007 - acc: 0.00 - ETA: 1060s - loss: 4.9004 - acc: 0.00 - ETA: 1058s - loss: 4.8999 - acc: 0.00 - ETA: 1053s - loss: 4.9000 - acc: 0.00 - ETA: 1053s - loss: 4.8999 - acc: 0.00 - ETA: 1056s - loss: 4.9001 - acc: 0.00 - ETA: 1053s - loss: 4.9008 - acc: 0.00 - ETA: 1050s - loss: 4.9014 - acc: 0.00 - ETA: 1048s - loss: 4.9006 - acc: 0.00 - ETA: 1048s - loss: 4.9005 - acc: 0.00 - ETA: 1047s - loss: 4.9002 - acc: 0.00 - ETA: 1042s - loss: 4.9002 - acc: 0.00 - ETA: 1037s - loss: 4.9004 - acc: 0.00 - ETA: 1034s - loss: 4.8999 - acc: 0.00 - ETA: 1033s - loss: 4.8996 - acc: 0.00 - ETA: 1030s - loss: 4.9004 - acc: 0.00 - ETA: 1031s - loss: 4.8996 - acc: 0.00 - ETA: 1032s - loss: 4.8994 - acc: 0.00 - ETA: 1031s - loss: 4.8990 - acc: 0.00 - ETA: 1028s - loss: 4.8985 - acc: 0.00 - ETA: 1027s - loss: 4.8979 - acc: 0.00 - ETA: 1023s - loss: 4.8985 - acc: 0.00 - ETA: 1022s - loss: 4.8987 - acc: 0.00 - ETA: 1022s - loss: 4.8979 - acc: 0.00 - ETA: 1016s - loss: 4.8976 - acc: 0.00 - ETA: 1013s - loss: 4.8981 - acc: 0.00 - ETA: 1014s - loss: 4.8976 - acc: 0.00 - ETA: 1014s - loss: 4.8978 - acc: 0.00 - ETA: 1012s - loss: 4.8970 - acc: 0.00 - ETA: 1007s - loss: 4.8970 - acc: 0.00 - ETA: 1003s - loss: 4.8968 - acc: 0.00 - ETA: 997s - loss: 4.8965 - acc: 0.0056 - ETA: 997s - loss: 4.8961 - acc: 0.006 - ETA: 991s - loss: 4.8959 - acc: 0.006 - ETA: 988s - loss: 4.8958 - acc: 0.006 - ETA: 988s - loss: 4.8954 - acc: 0.006 - ETA: 984s - loss: 4.8955 - acc: 0.006 - ETA: 981s - loss: 4.8953 - acc: 0.006 - ETA: 976s - loss: 4.8951 - acc: 0.006 - ETA: 974s - loss: 4.8953 - acc: 0.006 - ETA: 970s - loss: 4.8954 - acc: 0.006 - ETA: 967s - loss: 4.8957 - acc: 0.007 - ETA: 961s - loss: 4.8955 - acc: 0.007 - ETA: 956s - loss: 4.8955 - acc: 0.007 - ETA: 952s - loss: 4.8948 - acc: 0.007 - ETA: 951s - loss: 4.8946 - acc: 0.006 - ETA: 953s - loss: 4.8948 - acc: 0.006 - ETA: 947s - loss: 4.8953 - acc: 0.006 - ETA: 942s - loss: 4.8954 - acc: 0.007 - ETA: 938s - loss: 4.8954 - acc: 0.007 - ETA: 937s - loss: 4.8957 - acc: 0.007 - ETA: 933s - loss: 4.8952 - acc: 0.007 - ETA: 927s - loss: 4.8953 - acc: 0.006 - ETA: 923s - loss: 4.8949 - acc: 0.006 - ETA: 920s - loss: 4.8950 - acc: 0.007 - ETA: 916s - loss: 4.8948 - acc: 0.007 - ETA: 912s - loss: 4.8945 - acc: 0.007 - ETA: 909s - loss: 4.8940 - acc: 0.008 - ETA: 905s - loss: 4.8941 - acc: 0.007 - ETA: 901s - loss: 4.8938 - acc: 0.007 - ETA: 897s - loss: 4.8938 - acc: 0.007 - ETA: 893s - loss: 4.8944 - acc: 0.007 - ETA: 890s - loss: 4.8945 - acc: 0.007 - ETA: 886s - loss: 4.8948 - acc: 0.007 - ETA: 882s - loss: 4.8948 - acc: 0.007 - ETA: 878s - loss: 4.8953 - acc: 0.007 - ETA: 876s - loss: 4.8958 - acc: 0.007 - ETA: 872s - loss: 4.8955 - acc: 0.007 - ETA: 869s - loss: 4.8955 - acc: 0.007 - ETA: 865s - loss: 4.8956 - acc: 0.007 - ETA: 862s - loss: 4.8953 - acc: 0.007 - ETA: 858s - loss: 4.8954 - acc: 0.007 - ETA: 854s - loss: 4.8951 - acc: 0.007 - ETA: 851s - loss: 4.8953 - acc: 0.007 - ETA: 850s - loss: 4.8949 - acc: 0.007 - ETA: 846s - loss: 4.8949 - acc: 0.007 - ETA: 843s - loss: 4.8947 - acc: 0.008 - ETA: 839s - loss: 4.8949 - acc: 0.007 - ETA: 835s - loss: 4.8947 - acc: 0.007 - ETA: 830s - loss: 4.8946 - acc: 0.007 - ETA: 826s - loss: 4.8946 - acc: 0.007 - ETA: 824s - loss: 4.8950 - acc: 0.007 - ETA: 819s - loss: 4.8951 - acc: 0.007 - ETA: 815s - loss: 4.8953 - acc: 0.007 - ETA: 811s - loss: 4.8952 - acc: 0.007 - ETA: 806s - loss: 4.8950 - acc: 0.007 - ETA: 803s - loss: 4.8951 - acc: 0.007 - ETA: 801s - loss: 4.8952 - acc: 0.007 - ETA: 797s - loss: 4.8952 - acc: 0.007 - ETA: 793s - loss: 4.8953 - acc: 0.007 - ETA: 790s - loss: 4.8949 - acc: 0.007 - ETA: 786s - loss: 4.8945 - acc: 0.007 - ETA: 783s - loss: 4.8945 - acc: 0.007 - ETA: 778s - loss: 4.8946 - acc: 0.007 - ETA: 774s - loss: 4.8945 - acc: 0.007 - ETA: 770s - loss: 4.8944 - acc: 0.007 - ETA: 765s - loss: 4.8946 - acc: 0.007 - ETA: 761s - loss: 4.8947 - acc: 0.007 - ETA: 757s - loss: 4.8946 - acc: 0.007 - ETA: 753s - loss: 4.8948 - acc: 0.007 - ETA: 749s - loss: 4.8947 - acc: 0.007 - ETA: 744s - loss: 4.8944 - acc: 0.007 - ETA: 740s - loss: 4.8943 - acc: 0.007 - ETA: 736s - loss: 4.8943 - acc: 0.007 - ETA: 732s - loss: 4.8942 - acc: 0.007 - ETA: 728s - loss: 4.8941 - acc: 0.007 - ETA: 725s - loss: 4.8942 - acc: 0.007 - ETA: 722s - loss: 4.8943 - acc: 0.007 - ETA: 717s - loss: 4.8943 - acc: 0.007 - ETA: 713s - loss: 4.8945 - acc: 0.007 - ETA: 711s - loss: 4.8947 - acc: 0.006 - ETA: 707s - loss: 4.8947 - acc: 0.007 - ETA: 702s - loss: 4.8948 - acc: 0.007 - ETA: 698s - loss: 4.8948 - acc: 0.007 - ETA: 693s - loss: 4.8945 - acc: 0.007 - ETA: 689s - loss: 4.8943 - acc: 0.007 - ETA: 684s - loss: 4.8941 - acc: 0.007 - ETA: 680s - loss: 4.8941 - acc: 0.006 - ETA: 676s - loss: 4.8941 - acc: 0.006 - ETA: 672s - loss: 4.8942 - acc: 0.006 - ETA: 667s - loss: 4.8942 - acc: 0.007 - ETA: 663s - loss: 4.8941 - acc: 0.007 - ETA: 659s - loss: 4.8941 - acc: 0.007 - ETA: 654s - loss: 4.8941 - acc: 0.007 - ETA: 651s - loss: 4.8938 - acc: 0.006 - ETA: 647s - loss: 4.8937 - acc: 0.007 - ETA: 643s - loss: 4.8938 - acc: 0.007 - ETA: 638s - loss: 4.8937 - acc: 0.007 - ETA: 634s - loss: 4.8939 - acc: 0.007 - ETA: 630s - loss: 4.8938 - acc: 0.007 - ETA: 626s - loss: 4.8938 - acc: 0.007 - ETA: 622s - loss: 4.8939 - acc: 0.007 - ETA: 619s - loss: 4.8938 - acc: 0.007 - ETA: 614s - loss: 4.8941 - acc: 0.007 - ETA: 610s - loss: 4.8939 - acc: 0.007 - ETA: 606s - loss: 4.8938 - acc: 0.007 - ETA: 602s - loss: 4.8940 - acc: 0.007 - ETA: 598s - loss: 4.8940 - acc: 0.007 - ETA: 594s - loss: 4.8940 - acc: 0.007 - ETA: 589s - loss: 4.8940 - acc: 0.006 - ETA: 585s - loss: 4.8940 - acc: 0.006 - ETA: 581s - loss: 4.8938 - acc: 0.006 - ETA: 577s - loss: 4.8939 - acc: 0.006 - ETA: 573s - loss: 4.8938 - acc: 0.006 - ETA: 569s - loss: 4.8938 - acc: 0.006 - ETA: 565s - loss: 4.8937 - acc: 0.006 - ETA: 560s - loss: 4.8938 - acc: 0.006 - ETA: 556s - loss: 4.8938 - acc: 0.006 - ETA: 552s - loss: 4.8938 - acc: 0.006 - ETA: 548s - loss: 4.8936 - acc: 0.006 - ETA: 544s - loss: 4.8934 - acc: 0.006 - ETA: 541s - loss: 4.8935 - acc: 0.006 - ETA: 537s - loss: 4.8936 - acc: 0.006 - ETA: 532s - loss: 4.8936 - acc: 0.0064\b\b\b\b\b\b\b\b\b\b\b\b\b\b\b\b\b\b\b\b\b\b\b\b\b\b\b\b\b\b\b\b\b\b\b\b\b\b\b\b\b\b\b\b\b\b\b\b\b\b\b\b\b\b\b\b\b\b\b\b\b\b\b\b\b\b\b\b\b\b\b\b\b\b\b\b\b\b\b\b\b\b\b"
     ]
    },
    {
     "name": "stdout",
     "output_type": "stream",
     "text": [
      "6660/6680 [============================>.] - ETA: 528s - loss: 4.8938 - acc: 0.006 - ETA: 524s - loss: 4.8937 - acc: 0.006 - ETA: 520s - loss: 4.8936 - acc: 0.006 - ETA: 516s - loss: 4.8935 - acc: 0.006 - ETA: 512s - loss: 4.8933 - acc: 0.006 - ETA: 508s - loss: 4.8934 - acc: 0.006 - ETA: 505s - loss: 4.8933 - acc: 0.006 - ETA: 501s - loss: 4.8934 - acc: 0.006 - ETA: 497s - loss: 4.8932 - acc: 0.006 - ETA: 493s - loss: 4.8931 - acc: 0.006 - ETA: 489s - loss: 4.8932 - acc: 0.006 - ETA: 484s - loss: 4.8932 - acc: 0.006 - ETA: 480s - loss: 4.8932 - acc: 0.006 - ETA: 476s - loss: 4.8930 - acc: 0.006 - ETA: 472s - loss: 4.8931 - acc: 0.006 - ETA: 469s - loss: 4.8929 - acc: 0.006 - ETA: 464s - loss: 4.8928 - acc: 0.006 - ETA: 460s - loss: 4.8927 - acc: 0.006 - ETA: 456s - loss: 4.8927 - acc: 0.006 - ETA: 452s - loss: 4.8928 - acc: 0.006 - ETA: 448s - loss: 4.8926 - acc: 0.006 - ETA: 445s - loss: 4.8927 - acc: 0.006 - ETA: 441s - loss: 4.8925 - acc: 0.006 - ETA: 437s - loss: 4.8924 - acc: 0.006 - ETA: 433s - loss: 4.8924 - acc: 0.006 - ETA: 428s - loss: 4.8924 - acc: 0.006 - ETA: 425s - loss: 4.8923 - acc: 0.006 - ETA: 421s - loss: 4.8924 - acc: 0.006 - ETA: 416s - loss: 4.8925 - acc: 0.006 - ETA: 412s - loss: 4.8926 - acc: 0.006 - ETA: 408s - loss: 4.8924 - acc: 0.006 - ETA: 404s - loss: 4.8921 - acc: 0.006 - ETA: 400s - loss: 4.8919 - acc: 0.006 - ETA: 396s - loss: 4.8919 - acc: 0.006 - ETA: 392s - loss: 4.8917 - acc: 0.006 - ETA: 389s - loss: 4.8916 - acc: 0.006 - ETA: 385s - loss: 4.8916 - acc: 0.006 - ETA: 382s - loss: 4.8916 - acc: 0.006 - ETA: 378s - loss: 4.8916 - acc: 0.006 - ETA: 374s - loss: 4.8916 - acc: 0.006 - ETA: 370s - loss: 4.8916 - acc: 0.006 - ETA: 366s - loss: 4.8918 - acc: 0.006 - ETA: 362s - loss: 4.8916 - acc: 0.006 - ETA: 358s - loss: 4.8915 - acc: 0.006 - ETA: 355s - loss: 4.8915 - acc: 0.006 - ETA: 350s - loss: 4.8915 - acc: 0.006 - ETA: 346s - loss: 4.8913 - acc: 0.007 - ETA: 342s - loss: 4.8912 - acc: 0.007 - ETA: 338s - loss: 4.8911 - acc: 0.007 - ETA: 334s - loss: 4.8909 - acc: 0.006 - ETA: 330s - loss: 4.8909 - acc: 0.007 - ETA: 326s - loss: 4.8909 - acc: 0.007 - ETA: 322s - loss: 4.8908 - acc: 0.007 - ETA: 318s - loss: 4.8907 - acc: 0.007 - ETA: 314s - loss: 4.8907 - acc: 0.007 - ETA: 310s - loss: 4.8907 - acc: 0.007 - ETA: 306s - loss: 4.8905 - acc: 0.007 - ETA: 302s - loss: 4.8904 - acc: 0.007 - ETA: 298s - loss: 4.8907 - acc: 0.007 - ETA: 293s - loss: 4.8908 - acc: 0.007 - ETA: 289s - loss: 4.8906 - acc: 0.007 - ETA: 285s - loss: 4.8904 - acc: 0.007 - ETA: 282s - loss: 4.8904 - acc: 0.007 - ETA: 278s - loss: 4.8904 - acc: 0.007 - ETA: 274s - loss: 4.8906 - acc: 0.007 - ETA: 270s - loss: 4.8906 - acc: 0.007 - ETA: 265s - loss: 4.8907 - acc: 0.007 - ETA: 262s - loss: 4.8906 - acc: 0.007 - ETA: 258s - loss: 4.8906 - acc: 0.007 - ETA: 254s - loss: 4.8907 - acc: 0.007 - ETA: 250s - loss: 4.8907 - acc: 0.007 - ETA: 246s - loss: 4.8909 - acc: 0.007 - ETA: 241s - loss: 4.8908 - acc: 0.007 - ETA: 237s - loss: 4.8908 - acc: 0.007 - ETA: 233s - loss: 4.8909 - acc: 0.007 - ETA: 229s - loss: 4.8909 - acc: 0.007 - ETA: 225s - loss: 4.8909 - acc: 0.007 - ETA: 221s - loss: 4.8909 - acc: 0.007 - ETA: 217s - loss: 4.8908 - acc: 0.007 - ETA: 213s - loss: 4.8909 - acc: 0.007 - ETA: 209s - loss: 4.8908 - acc: 0.007 - ETA: 205s - loss: 4.8909 - acc: 0.007 - ETA: 201s - loss: 4.8909 - acc: 0.007 - ETA: 197s - loss: 4.8910 - acc: 0.007 - ETA: 193s - loss: 4.8909 - acc: 0.007 - ETA: 189s - loss: 4.8909 - acc: 0.007 - ETA: 185s - loss: 4.8908 - acc: 0.007 - ETA: 181s - loss: 4.8907 - acc: 0.007 - ETA: 176s - loss: 4.8908 - acc: 0.007 - ETA: 172s - loss: 4.8907 - acc: 0.007 - ETA: 168s - loss: 4.8907 - acc: 0.007 - ETA: 164s - loss: 4.8906 - acc: 0.007 - ETA: 160s - loss: 4.8907 - acc: 0.006 - ETA: 156s - loss: 4.8907 - acc: 0.006 - ETA: 152s - loss: 4.8907 - acc: 0.006 - ETA: 148s - loss: 4.8908 - acc: 0.006 - ETA: 143s - loss: 4.8907 - acc: 0.006 - ETA: 139s - loss: 4.8907 - acc: 0.006 - ETA: 135s - loss: 4.8909 - acc: 0.007 - ETA: 131s - loss: 4.8908 - acc: 0.007 - ETA: 127s - loss: 4.8909 - acc: 0.006 - ETA: 123s - loss: 4.8909 - acc: 0.006 - ETA: 119s - loss: 4.8910 - acc: 0.006 - ETA: 115s - loss: 4.8910 - acc: 0.006 - ETA: 111s - loss: 4.8910 - acc: 0.006 - ETA: 106s - loss: 4.8909 - acc: 0.006 - ETA: 102s - loss: 4.8909 - acc: 0.006 - ETA: 98s - loss: 4.8910 - acc: 0.006 - ETA: 94s - loss: 4.8909 - acc: 0.00 - ETA: 90s - loss: 4.8909 - acc: 0.00 - ETA: 86s - loss: 4.8909 - acc: 0.00 - ETA: 82s - loss: 4.8908 - acc: 0.00 - ETA: 78s - loss: 4.8908 - acc: 0.00 - ETA: 74s - loss: 4.8907 - acc: 0.00 - ETA: 70s - loss: 4.8908 - acc: 0.00 - ETA: 65s - loss: 4.8908 - acc: 0.00 - ETA: 61s - loss: 4.8907 - acc: 0.00 - ETA: 57s - loss: 4.8907 - acc: 0.00 - ETA: 53s - loss: 4.8907 - acc: 0.00 - ETA: 49s - loss: 4.8908 - acc: 0.00 - ETA: 45s - loss: 4.8908 - acc: 0.00 - ETA: 41s - loss: 4.8908 - acc: 0.00 - ETA: 37s - loss: 4.8908 - acc: 0.00 - ETA: 33s - loss: 4.8908 - acc: 0.00 - ETA: 28s - loss: 4.8908 - acc: 0.00 - ETA: 24s - loss: 4.8908 - acc: 0.00 - ETA: 20s - loss: 4.8909 - acc: 0.00 - ETA: 16s - loss: 4.8909 - acc: 0.00 - ETA: 12s - loss: 4.8909 - acc: 0.00 - ETA: 8s - loss: 4.8908 - acc: 0.0071 - ETA: 4s - loss: 4.8908 - acc: 0.0071Epoch 00000: val_loss improved from inf to 4.88217, saving model to saved_models/weights.best.from_scratch.hdf5\n",
      "6680/6680 [==============================] - 1439s - loss: 4.8909 - acc: 0.0070 - val_loss: 4.8822 - val_acc: 0.0096\n",
      "Epoch 2/5\n"
     ]
    },
    {
     "name": "stdout",
     "output_type": "stream",
     "text": [
      "4080/6680 [=================>............] - ETA: 1219s - loss: 4.8435 - acc: 0.0000e+ - ETA: 1296s - loss: 4.8486 - acc: 0.0000e+ - ETA: 1257s - loss: 4.8531 - acc: 0.0167   - ETA: 1235s - loss: 4.8595 - acc: 0.01 - ETA: 1255s - loss: 4.8669 - acc: 0.01 - ETA: 1269s - loss: 4.8690 - acc: 0.00 - ETA: 1332s - loss: 4.8723 - acc: 0.00 - ETA: 1333s - loss: 4.8743 - acc: 0.00 - ETA: 1414s - loss: 4.8695 - acc: 0.00 - ETA: 1442s - loss: 4.8665 - acc: 0.01 - ETA: 1437s - loss: 4.8697 - acc: 0.00 - ETA: 1448s - loss: 4.8721 - acc: 0.00 - ETA: 1420s - loss: 4.8715 - acc: 0.00 - ETA: 1437s - loss: 4.8697 - acc: 0.00 - ETA: 1426s - loss: 4.8709 - acc: 0.00 - ETA: 1415s - loss: 4.8713 - acc: 0.00 - ETA: 1406s - loss: 4.8733 - acc: 0.00 - ETA: 1397s - loss: 4.8729 - acc: 0.00 - ETA: 1397s - loss: 4.8742 - acc: 0.00 - ETA: 1388s - loss: 4.8755 - acc: 0.00 - ETA: 1380s - loss: 4.8767 - acc: 0.00 - ETA: 1364s - loss: 4.8775 - acc: 0.00 - ETA: 1364s - loss: 4.8766 - acc: 0.00 - ETA: 1359s - loss: 4.8774 - acc: 0.00 - ETA: 1345s - loss: 4.8773 - acc: 0.00 - ETA: 1337s - loss: 4.8777 - acc: 0.00 - ETA: 1325s - loss: 4.8795 - acc: 0.00 - ETA: 1311s - loss: 4.8788 - acc: 0.00 - ETA: 1306s - loss: 4.8791 - acc: 0.00 - ETA: 1306s - loss: 4.8801 - acc: 0.00 - ETA: 1306s - loss: 4.8801 - acc: 0.00 - ETA: 1295s - loss: 4.8792 - acc: 0.00 - ETA: 1289s - loss: 4.8808 - acc: 0.00 - ETA: 1289s - loss: 4.8801 - acc: 0.00 - ETA: 1282s - loss: 4.8813 - acc: 0.00 - ETA: 1273s - loss: 4.8819 - acc: 0.00 - ETA: 1267s - loss: 4.8807 - acc: 0.00 - ETA: 1275s - loss: 4.8804 - acc: 0.01 - ETA: 1266s - loss: 4.8804 - acc: 0.01 - ETA: 1266s - loss: 4.8802 - acc: 0.01 - ETA: 1260s - loss: 4.8800 - acc: 0.01 - ETA: 1257s - loss: 4.8799 - acc: 0.01 - ETA: 1256s - loss: 4.8809 - acc: 0.01 - ETA: 1251s - loss: 4.8809 - acc: 0.01 - ETA: 1245s - loss: 4.8804 - acc: 0.01 - ETA: 1236s - loss: 4.8801 - acc: 0.01 - ETA: 1235s - loss: 4.8804 - acc: 0.01 - ETA: 1233s - loss: 4.8804 - acc: 0.01 - ETA: 1229s - loss: 4.8812 - acc: 0.01 - ETA: 1228s - loss: 4.8818 - acc: 0.01 - ETA: 1229s - loss: 4.8820 - acc: 0.01 - ETA: 1224s - loss: 4.8825 - acc: 0.01 - ETA: 1225s - loss: 4.8827 - acc: 0.01 - ETA: 1222s - loss: 4.8825 - acc: 0.01 - ETA: 1214s - loss: 4.8816 - acc: 0.01 - ETA: 1212s - loss: 4.8811 - acc: 0.01 - ETA: 1204s - loss: 4.8813 - acc: 0.01 - ETA: 1201s - loss: 4.8809 - acc: 0.01 - ETA: 1193s - loss: 4.8810 - acc: 0.01 - ETA: 1185s - loss: 4.8813 - acc: 0.01 - ETA: 1179s - loss: 4.8813 - acc: 0.01 - ETA: 1174s - loss: 4.8809 - acc: 0.01 - ETA: 1172s - loss: 4.8815 - acc: 0.01 - ETA: 1165s - loss: 4.8811 - acc: 0.01 - ETA: 1163s - loss: 4.8806 - acc: 0.01 - ETA: 1161s - loss: 4.8803 - acc: 0.01 - ETA: 1156s - loss: 4.8799 - acc: 0.01 - ETA: 1150s - loss: 4.8801 - acc: 0.01 - ETA: 1151s - loss: 4.8804 - acc: 0.01 - ETA: 1146s - loss: 4.8801 - acc: 0.01 - ETA: 1141s - loss: 4.8807 - acc: 0.01 - ETA: 1138s - loss: 4.8806 - acc: 0.01 - ETA: 1131s - loss: 4.8810 - acc: 0.01 - ETA: 1129s - loss: 4.8815 - acc: 0.01 - ETA: 1125s - loss: 4.8816 - acc: 0.01 - ETA: 1120s - loss: 4.8817 - acc: 0.01 - ETA: 1114s - loss: 4.8815 - acc: 0.01 - ETA: 1113s - loss: 4.8816 - acc: 0.01 - ETA: 1106s - loss: 4.8817 - acc: 0.01 - ETA: 1105s - loss: 4.8825 - acc: 0.01 - ETA: 1105s - loss: 4.8823 - acc: 0.01 - ETA: 1103s - loss: 4.8814 - acc: 0.01 - ETA: 1099s - loss: 4.8810 - acc: 0.01 - ETA: 1093s - loss: 4.8812 - acc: 0.01 - ETA: 1088s - loss: 4.8815 - acc: 0.01 - ETA: 1082s - loss: 4.8820 - acc: 0.01 - ETA: 1077s - loss: 4.8818 - acc: 0.01 - ETA: 1071s - loss: 4.8814 - acc: 0.01 - ETA: 1065s - loss: 4.8813 - acc: 0.01 - ETA: 1063s - loss: 4.8815 - acc: 0.01 - ETA: 1058s - loss: 4.8810 - acc: 0.01 - ETA: 1055s - loss: 4.8809 - acc: 0.01 - ETA: 1049s - loss: 4.8806 - acc: 0.01 - ETA: 1044s - loss: 4.8807 - acc: 0.01 - ETA: 1039s - loss: 4.8809 - acc: 0.01 - ETA: 1035s - loss: 4.8806 - acc: 0.01 - ETA: 1031s - loss: 4.8808 - acc: 0.01 - ETA: 1030s - loss: 4.8808 - acc: 0.01 - ETA: 1029s - loss: 4.8806 - acc: 0.01 - ETA: 1025s - loss: 4.8806 - acc: 0.01 - ETA: 1025s - loss: 4.8803 - acc: 0.01 - ETA: 1021s - loss: 4.8802 - acc: 0.01 - ETA: 1020s - loss: 4.8802 - acc: 0.01 - ETA: 1018s - loss: 4.8799 - acc: 0.01 - ETA: 1016s - loss: 4.8796 - acc: 0.01 - ETA: 1011s - loss: 4.8799 - acc: 0.01 - ETA: 1006s - loss: 4.8799 - acc: 0.01 - ETA: 1004s - loss: 4.8798 - acc: 0.01 - ETA: 999s - loss: 4.8797 - acc: 0.0124 - ETA: 996s - loss: 4.8799 - acc: 0.012 - ETA: 993s - loss: 4.8801 - acc: 0.012 - ETA: 987s - loss: 4.8802 - acc: 0.012 - ETA: 985s - loss: 4.8799 - acc: 0.011 - ETA: 982s - loss: 4.8802 - acc: 0.011 - ETA: 979s - loss: 4.8807 - acc: 0.011 - ETA: 974s - loss: 4.8806 - acc: 0.012 - ETA: 973s - loss: 4.8808 - acc: 0.012 - ETA: 970s - loss: 4.8812 - acc: 0.011 - ETA: 965s - loss: 4.8812 - acc: 0.011 - ETA: 960s - loss: 4.8810 - acc: 0.011 - ETA: 956s - loss: 4.8808 - acc: 0.011 - ETA: 952s - loss: 4.8812 - acc: 0.011 - ETA: 949s - loss: 4.8806 - acc: 0.011 - ETA: 944s - loss: 4.8807 - acc: 0.011 - ETA: 941s - loss: 4.8806 - acc: 0.011 - ETA: 935s - loss: 4.8808 - acc: 0.011 - ETA: 933s - loss: 4.8807 - acc: 0.011 - ETA: 928s - loss: 4.8803 - acc: 0.010 - ETA: 924s - loss: 4.8803 - acc: 0.010 - ETA: 919s - loss: 4.8800 - acc: 0.011 - ETA: 913s - loss: 4.8796 - acc: 0.011 - ETA: 909s - loss: 4.8798 - acc: 0.011 - ETA: 904s - loss: 4.8797 - acc: 0.011 - ETA: 899s - loss: 4.8795 - acc: 0.011 - ETA: 895s - loss: 4.8793 - acc: 0.011 - ETA: 891s - loss: 4.8797 - acc: 0.011 - ETA: 887s - loss: 4.8796 - acc: 0.011 - ETA: 881s - loss: 4.8800 - acc: 0.011 - ETA: 876s - loss: 4.8801 - acc: 0.011 - ETA: 872s - loss: 4.8799 - acc: 0.011 - ETA: 866s - loss: 4.8800 - acc: 0.011 - ETA: 863s - loss: 4.8798 - acc: 0.010 - ETA: 860s - loss: 4.8798 - acc: 0.010 - ETA: 856s - loss: 4.8797 - acc: 0.010 - ETA: 851s - loss: 4.8796 - acc: 0.010 - ETA: 845s - loss: 4.8798 - acc: 0.010 - ETA: 842s - loss: 4.8799 - acc: 0.010 - ETA: 836s - loss: 4.8802 - acc: 0.010 - ETA: 832s - loss: 4.8802 - acc: 0.010 - ETA: 827s - loss: 4.8798 - acc: 0.010 - ETA: 824s - loss: 4.8797 - acc: 0.010 - ETA: 819s - loss: 4.8797 - acc: 0.010 - ETA: 814s - loss: 4.8794 - acc: 0.010 - ETA: 811s - loss: 4.8793 - acc: 0.010 - ETA: 808s - loss: 4.8793 - acc: 0.010 - ETA: 803s - loss: 4.8792 - acc: 0.010 - ETA: 800s - loss: 4.8792 - acc: 0.010 - ETA: 796s - loss: 4.8793 - acc: 0.010 - ETA: 791s - loss: 4.8793 - acc: 0.010 - ETA: 786s - loss: 4.8792 - acc: 0.010 - ETA: 782s - loss: 4.8791 - acc: 0.010 - ETA: 778s - loss: 4.8793 - acc: 0.010 - ETA: 775s - loss: 4.8794 - acc: 0.010 - ETA: 770s - loss: 4.8791 - acc: 0.010 - ETA: 765s - loss: 4.8789 - acc: 0.010 - ETA: 761s - loss: 4.8790 - acc: 0.010 - ETA: 758s - loss: 4.8792 - acc: 0.010 - ETA: 752s - loss: 4.8792 - acc: 0.010 - ETA: 747s - loss: 4.8791 - acc: 0.010 - ETA: 743s - loss: 4.8791 - acc: 0.010 - ETA: 741s - loss: 4.8795 - acc: 0.009 - ETA: 738s - loss: 4.8797 - acc: 0.009 - ETA: 734s - loss: 4.8798 - acc: 0.009 - ETA: 732s - loss: 4.8799 - acc: 0.009 - ETA: 729s - loss: 4.8797 - acc: 0.009 - ETA: 725s - loss: 4.8798 - acc: 0.009 - ETA: 721s - loss: 4.8800 - acc: 0.009 - ETA: 717s - loss: 4.8797 - acc: 0.009 - ETA: 712s - loss: 4.8798 - acc: 0.009 - ETA: 707s - loss: 4.8798 - acc: 0.009 - ETA: 702s - loss: 4.8797 - acc: 0.009 - ETA: 698s - loss: 4.8798 - acc: 0.010 - ETA: 694s - loss: 4.8797 - acc: 0.010 - ETA: 689s - loss: 4.8795 - acc: 0.010 - ETA: 684s - loss: 4.8793 - acc: 0.010 - ETA: 680s - loss: 4.8792 - acc: 0.010 - ETA: 675s - loss: 4.8793 - acc: 0.010 - ETA: 670s - loss: 4.8793 - acc: 0.010 - ETA: 665s - loss: 4.8793 - acc: 0.010 - ETA: 661s - loss: 4.8793 - acc: 0.010 - ETA: 656s - loss: 4.8793 - acc: 0.010 - ETA: 653s - loss: 4.8792 - acc: 0.010 - ETA: 649s - loss: 4.8793 - acc: 0.010 - ETA: 644s - loss: 4.8793 - acc: 0.010 - ETA: 640s - loss: 4.8791 - acc: 0.010 - ETA: 636s - loss: 4.8791 - acc: 0.010 - ETA: 631s - loss: 4.8793 - acc: 0.010 - ETA: 626s - loss: 4.8793 - acc: 0.010 - ETA: 621s - loss: 4.8793 - acc: 0.010 - ETA: 617s - loss: 4.8793 - acc: 0.010 - ETA: 612s - loss: 4.8794 - acc: 0.010 - ETA: 608s - loss: 4.8794 - acc: 0.010 - ETA: 603s - loss: 4.8795 - acc: 0.010 - ETA: 597s - loss: 4.8795 - acc: 0.0103"
     ]
    },
    {
     "name": "stdout",
     "output_type": "stream",
     "text": [
      "6660/6680 [============================>.] - ETA: 593s - loss: 4.8793 - acc: 0.010 - ETA: 588s - loss: 4.8792 - acc: 0.010 - ETA: 584s - loss: 4.8793 - acc: 0.010 - ETA: 580s - loss: 4.8795 - acc: 0.010 - ETA: 575s - loss: 4.8796 - acc: 0.010 - ETA: 571s - loss: 4.8799 - acc: 0.010 - ETA: 566s - loss: 4.8800 - acc: 0.010 - ETA: 561s - loss: 4.8798 - acc: 0.009 - ETA: 557s - loss: 4.8800 - acc: 0.009 - ETA: 552s - loss: 4.8800 - acc: 0.010 - ETA: 547s - loss: 4.8797 - acc: 0.010 - ETA: 542s - loss: 4.8797 - acc: 0.010 - ETA: 537s - loss: 4.8795 - acc: 0.010 - ETA: 532s - loss: 4.8799 - acc: 0.010 - ETA: 528s - loss: 4.8796 - acc: 0.010 - ETA: 524s - loss: 4.8797 - acc: 0.010 - ETA: 519s - loss: 4.8797 - acc: 0.010 - ETA: 514s - loss: 4.8798 - acc: 0.009 - ETA: 510s - loss: 4.8799 - acc: 0.009 - ETA: 505s - loss: 4.8799 - acc: 0.009 - ETA: 500s - loss: 4.8798 - acc: 0.009 - ETA: 495s - loss: 4.8798 - acc: 0.009 - ETA: 491s - loss: 4.8798 - acc: 0.009 - ETA: 486s - loss: 4.8799 - acc: 0.009 - ETA: 481s - loss: 4.8800 - acc: 0.009 - ETA: 476s - loss: 4.8799 - acc: 0.009 - ETA: 472s - loss: 4.8800 - acc: 0.009 - ETA: 467s - loss: 4.8800 - acc: 0.009 - ETA: 463s - loss: 4.8802 - acc: 0.009 - ETA: 458s - loss: 4.8801 - acc: 0.009 - ETA: 453s - loss: 4.8800 - acc: 0.009 - ETA: 448s - loss: 4.8798 - acc: 0.009 - ETA: 443s - loss: 4.8800 - acc: 0.009 - ETA: 439s - loss: 4.8800 - acc: 0.009 - ETA: 435s - loss: 4.8800 - acc: 0.009 - ETA: 430s - loss: 4.8799 - acc: 0.009 - ETA: 425s - loss: 4.8801 - acc: 0.009 - ETA: 420s - loss: 4.8800 - acc: 0.009 - ETA: 416s - loss: 4.8799 - acc: 0.009 - ETA: 411s - loss: 4.8799 - acc: 0.009 - ETA: 406s - loss: 4.8799 - acc: 0.009 - ETA: 401s - loss: 4.8799 - acc: 0.009 - ETA: 397s - loss: 4.8801 - acc: 0.009 - ETA: 392s - loss: 4.8800 - acc: 0.009 - ETA: 387s - loss: 4.8800 - acc: 0.009 - ETA: 383s - loss: 4.8801 - acc: 0.009 - ETA: 378s - loss: 4.8804 - acc: 0.009 - ETA: 374s - loss: 4.8803 - acc: 0.009 - ETA: 369s - loss: 4.8804 - acc: 0.009 - ETA: 364s - loss: 4.8803 - acc: 0.009 - ETA: 360s - loss: 4.8802 - acc: 0.009 - ETA: 355s - loss: 4.8803 - acc: 0.009 - ETA: 351s - loss: 4.8804 - acc: 0.009 - ETA: 346s - loss: 4.8804 - acc: 0.009 - ETA: 341s - loss: 4.8803 - acc: 0.009 - ETA: 336s - loss: 4.8802 - acc: 0.009 - ETA: 332s - loss: 4.8803 - acc: 0.009 - ETA: 327s - loss: 4.8803 - acc: 0.009 - ETA: 323s - loss: 4.8802 - acc: 0.009 - ETA: 318s - loss: 4.8801 - acc: 0.009 - ETA: 313s - loss: 4.8802 - acc: 0.009 - ETA: 309s - loss: 4.8803 - acc: 0.009 - ETA: 304s - loss: 4.8803 - acc: 0.009 - ETA: 300s - loss: 4.8804 - acc: 0.009 - ETA: 295s - loss: 4.8804 - acc: 0.009 - ETA: 291s - loss: 4.8806 - acc: 0.009 - ETA: 286s - loss: 4.8806 - acc: 0.009 - ETA: 281s - loss: 4.8809 - acc: 0.009 - ETA: 277s - loss: 4.8810 - acc: 0.009 - ETA: 272s - loss: 4.8810 - acc: 0.008 - ETA: 267s - loss: 4.8811 - acc: 0.008 - ETA: 263s - loss: 4.8810 - acc: 0.008 - ETA: 258s - loss: 4.8810 - acc: 0.008 - ETA: 254s - loss: 4.8809 - acc: 0.008 - ETA: 249s - loss: 4.8809 - acc: 0.008 - ETA: 244s - loss: 4.8809 - acc: 0.008 - ETA: 240s - loss: 4.8809 - acc: 0.008 - ETA: 235s - loss: 4.8810 - acc: 0.008 - ETA: 231s - loss: 4.8810 - acc: 0.009 - ETA: 226s - loss: 4.8809 - acc: 0.009 - ETA: 222s - loss: 4.8810 - acc: 0.008 - ETA: 217s - loss: 4.8810 - acc: 0.008 - ETA: 212s - loss: 4.8808 - acc: 0.008 - ETA: 208s - loss: 4.8809 - acc: 0.009 - ETA: 204s - loss: 4.8810 - acc: 0.009 - ETA: 199s - loss: 4.8808 - acc: 0.009 - ETA: 194s - loss: 4.8810 - acc: 0.008 - ETA: 190s - loss: 4.8809 - acc: 0.008 - ETA: 185s - loss: 4.8808 - acc: 0.008 - ETA: 181s - loss: 4.8808 - acc: 0.008 - ETA: 176s - loss: 4.8807 - acc: 0.008 - ETA: 172s - loss: 4.8809 - acc: 0.008 - ETA: 167s - loss: 4.8808 - acc: 0.008 - ETA: 163s - loss: 4.8807 - acc: 0.008 - ETA: 158s - loss: 4.8807 - acc: 0.008 - ETA: 154s - loss: 4.8806 - acc: 0.008 - ETA: 149s - loss: 4.8807 - acc: 0.008 - ETA: 144s - loss: 4.8806 - acc: 0.008 - ETA: 140s - loss: 4.8806 - acc: 0.008 - ETA: 135s - loss: 4.8806 - acc: 0.008 - ETA: 131s - loss: 4.8805 - acc: 0.008 - ETA: 126s - loss: 4.8805 - acc: 0.009 - ETA: 122s - loss: 4.8806 - acc: 0.009 - ETA: 117s - loss: 4.8805 - acc: 0.008 - ETA: 113s - loss: 4.8805 - acc: 0.008 - ETA: 108s - loss: 4.8804 - acc: 0.008 - ETA: 104s - loss: 4.8805 - acc: 0.009 - ETA: 99s - loss: 4.8806 - acc: 0.009 - ETA: 95s - loss: 4.8805 - acc: 0.00 - ETA: 90s - loss: 4.8804 - acc: 0.00 - ETA: 86s - loss: 4.8803 - acc: 0.00 - ETA: 81s - loss: 4.8804 - acc: 0.00 - ETA: 77s - loss: 4.8803 - acc: 0.00 - ETA: 72s - loss: 4.8801 - acc: 0.00 - ETA: 68s - loss: 4.8800 - acc: 0.00 - ETA: 63s - loss: 4.8799 - acc: 0.00 - ETA: 58s - loss: 4.8800 - acc: 0.00 - ETA: 54s - loss: 4.8800 - acc: 0.00 - ETA: 49s - loss: 4.8798 - acc: 0.00 - ETA: 45s - loss: 4.8799 - acc: 0.00 - ETA: 40s - loss: 4.8798 - acc: 0.00 - ETA: 36s - loss: 4.8797 - acc: 0.00 - ETA: 31s - loss: 4.8798 - acc: 0.00 - ETA: 27s - loss: 4.8798 - acc: 0.00 - ETA: 22s - loss: 4.8798 - acc: 0.00 - ETA: 18s - loss: 4.8799 - acc: 0.00 - ETA: 13s - loss: 4.8800 - acc: 0.00 - ETA: 9s - loss: 4.8798 - acc: 0.0087 - ETA: 4s - loss: 4.8797 - acc: 0.0087Epoch 00001: val_loss improved from 4.88217 to 4.87492, saving model to saved_models/weights.best.from_scratch.hdf5\n",
      "6680/6680 [==============================] - 1583s - loss: 4.8798 - acc: 0.0088 - val_loss: 4.8749 - val_acc: 0.0108\n",
      "Epoch 3/5\n"
     ]
    },
    {
     "name": "stdout",
     "output_type": "stream",
     "text": [
      "4080/6680 [=================>............] - ETA: 1294s - loss: 4.8187 - acc: 0.05 - ETA: 1345s - loss: 4.8493 - acc: 0.02 - ETA: 1301s - loss: 4.8530 - acc: 0.01 - ETA: 1399s - loss: 4.8614 - acc: 0.01 - ETA: 1395s - loss: 4.8640 - acc: 0.01 - ETA: 1427s - loss: 4.8604 - acc: 0.00 - ETA: 1419s - loss: 4.8665 - acc: 0.01 - ETA: 1413s - loss: 4.8726 - acc: 0.01 - ETA: 1422s - loss: 4.8742 - acc: 0.01 - ETA: 1431s - loss: 4.8714 - acc: 0.01 - ETA: 1408s - loss: 4.8706 - acc: 0.00 - ETA: 1409s - loss: 4.8722 - acc: 0.00 - ETA: 1432s - loss: 4.8683 - acc: 0.00 - ETA: 1427s - loss: 4.8710 - acc: 0.00 - ETA: 1422s - loss: 4.8720 - acc: 0.00 - ETA: 1404s - loss: 4.8705 - acc: 0.00 - ETA: 1391s - loss: 4.8724 - acc: 0.00 - ETA: 1376s - loss: 4.8747 - acc: 0.00 - ETA: 1369s - loss: 4.8785 - acc: 0.00 - ETA: 1358s - loss: 4.8786 - acc: 0.00 - ETA: 1360s - loss: 4.8784 - acc: 0.00 - ETA: 1364s - loss: 4.8744 - acc: 0.01 - ETA: 1369s - loss: 4.8727 - acc: 0.01 - ETA: 1360s - loss: 4.8741 - acc: 0.01 - ETA: 1375s - loss: 4.8746 - acc: 0.01 - ETA: 1376s - loss: 4.8752 - acc: 0.01 - ETA: 1384s - loss: 4.8760 - acc: 0.01 - ETA: 1382s - loss: 4.8783 - acc: 0.01 - ETA: 1375s - loss: 4.8776 - acc: 0.01 - ETA: 1368s - loss: 4.8773 - acc: 0.01 - ETA: 1365s - loss: 4.8782 - acc: 0.00 - ETA: 1369s - loss: 4.8787 - acc: 0.01 - ETA: 1363s - loss: 4.8779 - acc: 0.01 - ETA: 1351s - loss: 4.8787 - acc: 0.01 - ETA: 1343s - loss: 4.8765 - acc: 0.01 - ETA: 1337s - loss: 4.8772 - acc: 0.00 - ETA: 1341s - loss: 4.8771 - acc: 0.00 - ETA: 1349s - loss: 4.8763 - acc: 0.00 - ETA: 1343s - loss: 4.8755 - acc: 0.01 - ETA: 1335s - loss: 4.8756 - acc: 0.01 - ETA: 1326s - loss: 4.8746 - acc: 0.01 - ETA: 1321s - loss: 4.8742 - acc: 0.01 - ETA: 1320s - loss: 4.8736 - acc: 0.01 - ETA: 1323s - loss: 4.8732 - acc: 0.01 - ETA: 1325s - loss: 4.8728 - acc: 0.01 - ETA: 1319s - loss: 4.8729 - acc: 0.01 - ETA: 1325s - loss: 4.8727 - acc: 0.01 - ETA: 1319s - loss: 4.8746 - acc: 0.01 - ETA: 1313s - loss: 4.8742 - acc: 0.01 - ETA: 1316s - loss: 4.8732 - acc: 0.01 - ETA: 1308s - loss: 4.8730 - acc: 0.01 - ETA: 1303s - loss: 4.8727 - acc: 0.01 - ETA: 1300s - loss: 4.8731 - acc: 0.01 - ETA: 1294s - loss: 4.8736 - acc: 0.01 - ETA: 1289s - loss: 4.8736 - acc: 0.01 - ETA: 1286s - loss: 4.8734 - acc: 0.01 - ETA: 1278s - loss: 4.8724 - acc: 0.01 - ETA: 1271s - loss: 4.8733 - acc: 0.01 - ETA: 1268s - loss: 4.8736 - acc: 0.01 - ETA: 1266s - loss: 4.8735 - acc: 0.01 - ETA: 1266s - loss: 4.8732 - acc: 0.01 - ETA: 1257s - loss: 4.8727 - acc: 0.01 - ETA: 1250s - loss: 4.8725 - acc: 0.01 - ETA: 1244s - loss: 4.8726 - acc: 0.01 - ETA: 1236s - loss: 4.8725 - acc: 0.01 - ETA: 1230s - loss: 4.8728 - acc: 0.01 - ETA: 1223s - loss: 4.8730 - acc: 0.01 - ETA: 1216s - loss: 4.8732 - acc: 0.01 - ETA: 1211s - loss: 4.8728 - acc: 0.01 - ETA: 1203s - loss: 4.8729 - acc: 0.01 - ETA: 1200s - loss: 4.8724 - acc: 0.01 - ETA: 1197s - loss: 4.8726 - acc: 0.01 - ETA: 1199s - loss: 4.8720 - acc: 0.01 - ETA: 1192s - loss: 4.8715 - acc: 0.01 - ETA: 1187s - loss: 4.8714 - acc: 0.01 - ETA: 1180s - loss: 4.8716 - acc: 0.01 - ETA: 1177s - loss: 4.8717 - acc: 0.01 - ETA: 1171s - loss: 4.8722 - acc: 0.01 - ETA: 1164s - loss: 4.8720 - acc: 0.01 - ETA: 1157s - loss: 4.8717 - acc: 0.01 - ETA: 1155s - loss: 4.8722 - acc: 0.01 - ETA: 1160s - loss: 4.8723 - acc: 0.01 - ETA: 1153s - loss: 4.8719 - acc: 0.01 - ETA: 1146s - loss: 4.8713 - acc: 0.01 - ETA: 1141s - loss: 4.8712 - acc: 0.01 - ETA: 1134s - loss: 4.8714 - acc: 0.01 - ETA: 1132s - loss: 4.8718 - acc: 0.01 - ETA: 1127s - loss: 4.8714 - acc: 0.01 - ETA: 1123s - loss: 4.8713 - acc: 0.01 - ETA: 1118s - loss: 4.8709 - acc: 0.01 - ETA: 1117s - loss: 4.8708 - acc: 0.01 - ETA: 1110s - loss: 4.8709 - acc: 0.01 - ETA: 1108s - loss: 4.8712 - acc: 0.01 - ETA: 1103s - loss: 4.8718 - acc: 0.01 - ETA: 1096s - loss: 4.8725 - acc: 0.01 - ETA: 1090s - loss: 4.8735 - acc: 0.01 - ETA: 1084s - loss: 4.8732 - acc: 0.01 - ETA: 1079s - loss: 4.8734 - acc: 0.01 - ETA: 1073s - loss: 4.8731 - acc: 0.01 - ETA: 1070s - loss: 4.8734 - acc: 0.01 - ETA: 1066s - loss: 4.8734 - acc: 0.01 - ETA: 1060s - loss: 4.8733 - acc: 0.01 - ETA: 1055s - loss: 4.8732 - acc: 0.01 - ETA: 1051s - loss: 4.8732 - acc: 0.01 - ETA: 1047s - loss: 4.8731 - acc: 0.01 - ETA: 1044s - loss: 4.8726 - acc: 0.01 - ETA: 1038s - loss: 4.8729 - acc: 0.01 - ETA: 1034s - loss: 4.8730 - acc: 0.01 - ETA: 1032s - loss: 4.8729 - acc: 0.01 - ETA: 1028s - loss: 4.8734 - acc: 0.01 - ETA: 1024s - loss: 4.8736 - acc: 0.01 - ETA: 1018s - loss: 4.8737 - acc: 0.01 - ETA: 1014s - loss: 4.8736 - acc: 0.01 - ETA: 1008s - loss: 4.8731 - acc: 0.01 - ETA: 1003s - loss: 4.8731 - acc: 0.01 - ETA: 997s - loss: 4.8733 - acc: 0.0108 - ETA: 992s - loss: 4.8737 - acc: 0.010 - ETA: 989s - loss: 4.8734 - acc: 0.010 - ETA: 986s - loss: 4.8728 - acc: 0.010 - ETA: 980s - loss: 4.8728 - acc: 0.010 - ETA: 975s - loss: 4.8732 - acc: 0.010 - ETA: 969s - loss: 4.8731 - acc: 0.010 - ETA: 967s - loss: 4.8733 - acc: 0.010 - ETA: 966s - loss: 4.8733 - acc: 0.010 - ETA: 961s - loss: 4.8731 - acc: 0.010 - ETA: 955s - loss: 4.8730 - acc: 0.009 - ETA: 949s - loss: 4.8732 - acc: 0.009 - ETA: 946s - loss: 4.8735 - acc: 0.009 - ETA: 940s - loss: 4.8734 - acc: 0.009 - ETA: 936s - loss: 4.8735 - acc: 0.009 - ETA: 931s - loss: 4.8732 - acc: 0.009 - ETA: 926s - loss: 4.8734 - acc: 0.009 - ETA: 922s - loss: 4.8732 - acc: 0.009 - ETA: 919s - loss: 4.8731 - acc: 0.009 - ETA: 914s - loss: 4.8728 - acc: 0.009 - ETA: 909s - loss: 4.8727 - acc: 0.009 - ETA: 904s - loss: 4.8731 - acc: 0.009 - ETA: 899s - loss: 4.8734 - acc: 0.009 - ETA: 894s - loss: 4.8738 - acc: 0.009 - ETA: 890s - loss: 4.8738 - acc: 0.010 - ETA: 885s - loss: 4.8737 - acc: 0.009 - ETA: 879s - loss: 4.8740 - acc: 0.009 - ETA: 874s - loss: 4.8746 - acc: 0.009 - ETA: 869s - loss: 4.8750 - acc: 0.009 - ETA: 865s - loss: 4.8752 - acc: 0.009 - ETA: 860s - loss: 4.8747 - acc: 0.009 - ETA: 858s - loss: 4.8743 - acc: 0.009 - ETA: 853s - loss: 4.8747 - acc: 0.009 - ETA: 850s - loss: 4.8744 - acc: 0.009 - ETA: 846s - loss: 4.8749 - acc: 0.009 - ETA: 840s - loss: 4.8746 - acc: 0.009 - ETA: 835s - loss: 4.8747 - acc: 0.009 - ETA: 831s - loss: 4.8747 - acc: 0.009 - ETA: 825s - loss: 4.8748 - acc: 0.009 - ETA: 820s - loss: 4.8746 - acc: 0.009 - ETA: 815s - loss: 4.8744 - acc: 0.009 - ETA: 811s - loss: 4.8746 - acc: 0.009 - ETA: 806s - loss: 4.8750 - acc: 0.009 - ETA: 802s - loss: 4.8751 - acc: 0.010 - ETA: 797s - loss: 4.8751 - acc: 0.010 - ETA: 793s - loss: 4.8753 - acc: 0.010 - ETA: 788s - loss: 4.8752 - acc: 0.010 - ETA: 783s - loss: 4.8750 - acc: 0.010 - ETA: 777s - loss: 4.8748 - acc: 0.010 - ETA: 772s - loss: 4.8747 - acc: 0.010 - ETA: 767s - loss: 4.8749 - acc: 0.010 - ETA: 763s - loss: 4.8748 - acc: 0.010 - ETA: 757s - loss: 4.8745 - acc: 0.010 - ETA: 752s - loss: 4.8745 - acc: 0.010 - ETA: 748s - loss: 4.8742 - acc: 0.010 - ETA: 744s - loss: 4.8740 - acc: 0.010 - ETA: 739s - loss: 4.8740 - acc: 0.010 - ETA: 735s - loss: 4.8743 - acc: 0.010 - ETA: 731s - loss: 4.8740 - acc: 0.010 - ETA: 727s - loss: 4.8744 - acc: 0.010 - ETA: 723s - loss: 4.8743 - acc: 0.010 - ETA: 717s - loss: 4.8741 - acc: 0.010 - ETA: 713s - loss: 4.8742 - acc: 0.011 - ETA: 708s - loss: 4.8741 - acc: 0.010 - ETA: 704s - loss: 4.8743 - acc: 0.010 - ETA: 700s - loss: 4.8742 - acc: 0.010 - ETA: 695s - loss: 4.8745 - acc: 0.010 - ETA: 690s - loss: 4.8743 - acc: 0.010 - ETA: 687s - loss: 4.8747 - acc: 0.010 - ETA: 682s - loss: 4.8744 - acc: 0.010 - ETA: 678s - loss: 4.8741 - acc: 0.010 - ETA: 673s - loss: 4.8742 - acc: 0.010 - ETA: 668s - loss: 4.8740 - acc: 0.010 - ETA: 664s - loss: 4.8741 - acc: 0.010 - ETA: 660s - loss: 4.8743 - acc: 0.010 - ETA: 655s - loss: 4.8745 - acc: 0.010 - ETA: 651s - loss: 4.8747 - acc: 0.010 - ETA: 647s - loss: 4.8747 - acc: 0.010 - ETA: 642s - loss: 4.8750 - acc: 0.010 - ETA: 637s - loss: 4.8749 - acc: 0.010 - ETA: 632s - loss: 4.8752 - acc: 0.010 - ETA: 627s - loss: 4.8754 - acc: 0.010 - ETA: 623s - loss: 4.8753 - acc: 0.010 - ETA: 619s - loss: 4.8754 - acc: 0.010 - ETA: 614s - loss: 4.8755 - acc: 0.010 - ETA: 610s - loss: 4.8756 - acc: 0.010 - ETA: 605s - loss: 4.8755 - acc: 0.010 - ETA: 601s - loss: 4.8756 - acc: 0.010 - ETA: 596s - loss: 4.8757 - acc: 0.0103"
     ]
    },
    {
     "name": "stdout",
     "output_type": "stream",
     "text": [
      "6660/6680 [============================>.] - ETA: 591s - loss: 4.8757 - acc: 0.010 - ETA: 586s - loss: 4.8756 - acc: 0.010 - ETA: 582s - loss: 4.8755 - acc: 0.010 - ETA: 578s - loss: 4.8756 - acc: 0.010 - ETA: 574s - loss: 4.8759 - acc: 0.010 - ETA: 569s - loss: 4.8759 - acc: 0.010 - ETA: 565s - loss: 4.8757 - acc: 0.010 - ETA: 561s - loss: 4.8757 - acc: 0.010 - ETA: 556s - loss: 4.8758 - acc: 0.010 - ETA: 552s - loss: 4.8757 - acc: 0.010 - ETA: 547s - loss: 4.8755 - acc: 0.010 - ETA: 542s - loss: 4.8755 - acc: 0.010 - ETA: 537s - loss: 4.8757 - acc: 0.010 - ETA: 532s - loss: 4.8757 - acc: 0.010 - ETA: 528s - loss: 4.8757 - acc: 0.010 - ETA: 524s - loss: 4.8759 - acc: 0.010 - ETA: 519s - loss: 4.8759 - acc: 0.010 - ETA: 514s - loss: 4.8756 - acc: 0.010 - ETA: 509s - loss: 4.8760 - acc: 0.010 - ETA: 505s - loss: 4.8761 - acc: 0.010 - ETA: 500s - loss: 4.8759 - acc: 0.010 - ETA: 496s - loss: 4.8759 - acc: 0.010 - ETA: 491s - loss: 4.8759 - acc: 0.010 - ETA: 486s - loss: 4.8761 - acc: 0.010 - ETA: 481s - loss: 4.8759 - acc: 0.010 - ETA: 477s - loss: 4.8758 - acc: 0.010 - ETA: 472s - loss: 4.8756 - acc: 0.010 - ETA: 468s - loss: 4.8756 - acc: 0.010 - ETA: 463s - loss: 4.8759 - acc: 0.010 - ETA: 459s - loss: 4.8760 - acc: 0.010 - ETA: 455s - loss: 4.8759 - acc: 0.010 - ETA: 450s - loss: 4.8758 - acc: 0.010 - ETA: 446s - loss: 4.8758 - acc: 0.010 - ETA: 441s - loss: 4.8758 - acc: 0.010 - ETA: 437s - loss: 4.8759 - acc: 0.010 - ETA: 432s - loss: 4.8757 - acc: 0.010 - ETA: 427s - loss: 4.8757 - acc: 0.010 - ETA: 423s - loss: 4.8756 - acc: 0.010 - ETA: 418s - loss: 4.8755 - acc: 0.010 - ETA: 413s - loss: 4.8753 - acc: 0.010 - ETA: 408s - loss: 4.8750 - acc: 0.010 - ETA: 404s - loss: 4.8749 - acc: 0.010 - ETA: 399s - loss: 4.8746 - acc: 0.010 - ETA: 394s - loss: 4.8747 - acc: 0.010 - ETA: 390s - loss: 4.8746 - acc: 0.010 - ETA: 385s - loss: 4.8750 - acc: 0.010 - ETA: 380s - loss: 4.8751 - acc: 0.010 - ETA: 376s - loss: 4.8750 - acc: 0.010 - ETA: 371s - loss: 4.8752 - acc: 0.010 - ETA: 366s - loss: 4.8753 - acc: 0.010 - ETA: 362s - loss: 4.8754 - acc: 0.010 - ETA: 357s - loss: 4.8752 - acc: 0.010 - ETA: 352s - loss: 4.8754 - acc: 0.010 - ETA: 347s - loss: 4.8752 - acc: 0.010 - ETA: 343s - loss: 4.8752 - acc: 0.010 - ETA: 338s - loss: 4.8753 - acc: 0.010 - ETA: 333s - loss: 4.8755 - acc: 0.010 - ETA: 329s - loss: 4.8757 - acc: 0.010 - ETA: 324s - loss: 4.8754 - acc: 0.010 - ETA: 320s - loss: 4.8753 - acc: 0.010 - ETA: 315s - loss: 4.8754 - acc: 0.010 - ETA: 310s - loss: 4.8754 - acc: 0.010 - ETA: 306s - loss: 4.8755 - acc: 0.010 - ETA: 301s - loss: 4.8754 - acc: 0.010 - ETA: 297s - loss: 4.8755 - acc: 0.010 - ETA: 292s - loss: 4.8755 - acc: 0.010 - ETA: 287s - loss: 4.8755 - acc: 0.010 - ETA: 283s - loss: 4.8751 - acc: 0.010 - ETA: 278s - loss: 4.8751 - acc: 0.010 - ETA: 273s - loss: 4.8750 - acc: 0.010 - ETA: 269s - loss: 4.8750 - acc: 0.010 - ETA: 265s - loss: 4.8750 - acc: 0.010 - ETA: 260s - loss: 4.8751 - acc: 0.010 - ETA: 255s - loss: 4.8752 - acc: 0.010 - ETA: 251s - loss: 4.8752 - acc: 0.010 - ETA: 246s - loss: 4.8750 - acc: 0.010 - ETA: 242s - loss: 4.8748 - acc: 0.010 - ETA: 238s - loss: 4.8749 - acc: 0.010 - ETA: 233s - loss: 4.8747 - acc: 0.010 - ETA: 228s - loss: 4.8748 - acc: 0.010 - ETA: 224s - loss: 4.8748 - acc: 0.010 - ETA: 219s - loss: 4.8750 - acc: 0.010 - ETA: 215s - loss: 4.8752 - acc: 0.010 - ETA: 210s - loss: 4.8750 - acc: 0.010 - ETA: 205s - loss: 4.8753 - acc: 0.010 - ETA: 201s - loss: 4.8753 - acc: 0.010 - ETA: 196s - loss: 4.8753 - acc: 0.010 - ETA: 192s - loss: 4.8754 - acc: 0.010 - ETA: 187s - loss: 4.8753 - acc: 0.010 - ETA: 183s - loss: 4.8753 - acc: 0.010 - ETA: 178s - loss: 4.8754 - acc: 0.010 - ETA: 174s - loss: 4.8754 - acc: 0.011 - ETA: 169s - loss: 4.8754 - acc: 0.010 - ETA: 165s - loss: 4.8753 - acc: 0.011 - ETA: 160s - loss: 4.8755 - acc: 0.011 - ETA: 155s - loss: 4.8757 - acc: 0.011 - ETA: 151s - loss: 4.8758 - acc: 0.011 - ETA: 146s - loss: 4.8759 - acc: 0.011 - ETA: 141s - loss: 4.8757 - acc: 0.011 - ETA: 137s - loss: 4.8757 - acc: 0.011 - ETA: 132s - loss: 4.8754 - acc: 0.011 - ETA: 128s - loss: 4.8754 - acc: 0.010 - ETA: 123s - loss: 4.8752 - acc: 0.010 - ETA: 119s - loss: 4.8751 - acc: 0.010 - ETA: 114s - loss: 4.8753 - acc: 0.010 - ETA: 110s - loss: 4.8751 - acc: 0.010 - ETA: 105s - loss: 4.8752 - acc: 0.010 - ETA: 100s - loss: 4.8751 - acc: 0.010 - ETA: 96s - loss: 4.8752 - acc: 0.010 - ETA: 91s - loss: 4.8751 - acc: 0.01 - ETA: 87s - loss: 4.8751 - acc: 0.01 - ETA: 82s - loss: 4.8753 - acc: 0.01 - ETA: 77s - loss: 4.8754 - acc: 0.01 - ETA: 73s - loss: 4.8753 - acc: 0.01 - ETA: 68s - loss: 4.8752 - acc: 0.01 - ETA: 64s - loss: 4.8751 - acc: 0.01 - ETA: 59s - loss: 4.8751 - acc: 0.01 - ETA: 54s - loss: 4.8751 - acc: 0.01 - ETA: 50s - loss: 4.8751 - acc: 0.01 - ETA: 45s - loss: 4.8751 - acc: 0.01 - ETA: 41s - loss: 4.8752 - acc: 0.01 - ETA: 36s - loss: 4.8751 - acc: 0.01 - ETA: 32s - loss: 4.8751 - acc: 0.01 - ETA: 27s - loss: 4.8751 - acc: 0.01 - ETA: 22s - loss: 4.8750 - acc: 0.01 - ETA: 18s - loss: 4.8750 - acc: 0.01 - ETA: 13s - loss: 4.8752 - acc: 0.01 - ETA: 9s - loss: 4.8752 - acc: 0.0105 - ETA: 4s - loss: 4.8753 - acc: 0.0105Epoch 00002: val_loss improved from 4.87492 to 4.87147, saving model to saved_models/weights.best.from_scratch.hdf5\n",
      "6680/6680 [==============================] - 1600s - loss: 4.8752 - acc: 0.0105 - val_loss: 4.8715 - val_acc: 0.0108\n",
      "Epoch 4/5\n"
     ]
    },
    {
     "name": "stdout",
     "output_type": "stream",
     "text": [
      "4080/6680 [=================>............] - ETA: 1249s - loss: 4.8784 - acc: 0.05 - ETA: 1352s - loss: 4.8881 - acc: 0.05 - ETA: 1282s - loss: 4.8830 - acc: 0.05 - ETA: 1303s - loss: 4.8940 - acc: 0.03 - ETA: 1253s - loss: 4.8904 - acc: 0.03 - ETA: 1234s - loss: 4.8932 - acc: 0.03 - ETA: 1233s - loss: 4.9005 - acc: 0.03 - ETA: 1220s - loss: 4.8998 - acc: 0.03 - ETA: 1293s - loss: 4.8975 - acc: 0.03 - ETA: 1327s - loss: 4.9036 - acc: 0.03 - ETA: 1314s - loss: 4.8970 - acc: 0.03 - ETA: 1346s - loss: 4.8971 - acc: 0.02 - ETA: 1355s - loss: 4.8941 - acc: 0.02 - ETA: 1350s - loss: 4.8958 - acc: 0.02 - ETA: 1334s - loss: 4.8950 - acc: 0.02 - ETA: 1318s - loss: 4.8920 - acc: 0.02 - ETA: 1327s - loss: 4.8876 - acc: 0.02 - ETA: 1317s - loss: 4.8883 - acc: 0.02 - ETA: 1306s - loss: 4.8864 - acc: 0.02 - ETA: 1302s - loss: 4.8877 - acc: 0.02 - ETA: 1313s - loss: 4.8850 - acc: 0.02 - ETA: 1304s - loss: 4.8859 - acc: 0.02 - ETA: 1297s - loss: 4.8860 - acc: 0.01 - ETA: 1315s - loss: 4.8846 - acc: 0.01 - ETA: 1327s - loss: 4.8840 - acc: 0.01 - ETA: 1321s - loss: 4.8851 - acc: 0.01 - ETA: 1331s - loss: 4.8819 - acc: 0.01 - ETA: 1341s - loss: 4.8829 - acc: 0.01 - ETA: 1338s - loss: 4.8800 - acc: 0.01 - ETA: 1339s - loss: 4.8789 - acc: 0.01 - ETA: 1337s - loss: 4.8785 - acc: 0.01 - ETA: 1330s - loss: 4.8794 - acc: 0.01 - ETA: 1318s - loss: 4.8788 - acc: 0.01 - ETA: 1314s - loss: 4.8772 - acc: 0.01 - ETA: 1308s - loss: 4.8773 - acc: 0.01 - ETA: 1297s - loss: 4.8777 - acc: 0.01 - ETA: 1295s - loss: 4.8797 - acc: 0.01 - ETA: 1285s - loss: 4.8803 - acc: 0.01 - ETA: 1289s - loss: 4.8792 - acc: 0.01 - ETA: 1284s - loss: 4.8790 - acc: 0.01 - ETA: 1283s - loss: 4.8808 - acc: 0.01 - ETA: 1281s - loss: 4.8804 - acc: 0.01 - ETA: 1272s - loss: 4.8808 - acc: 0.01 - ETA: 1264s - loss: 4.8806 - acc: 0.01 - ETA: 1257s - loss: 4.8812 - acc: 0.01 - ETA: 1261s - loss: 4.8809 - acc: 0.01 - ETA: 1260s - loss: 4.8810 - acc: 0.01 - ETA: 1255s - loss: 4.8815 - acc: 0.01 - ETA: 1250s - loss: 4.8806 - acc: 0.01 - ETA: 1245s - loss: 4.8802 - acc: 0.01 - ETA: 1240s - loss: 4.8797 - acc: 0.01 - ETA: 1238s - loss: 4.8806 - acc: 0.01 - ETA: 1235s - loss: 4.8798 - acc: 0.01 - ETA: 1226s - loss: 4.8797 - acc: 0.01 - ETA: 1221s - loss: 4.8791 - acc: 0.01 - ETA: 1213s - loss: 4.8792 - acc: 0.01 - ETA: 1208s - loss: 4.8793 - acc: 0.01 - ETA: 1207s - loss: 4.8803 - acc: 0.01 - ETA: 1203s - loss: 4.8808 - acc: 0.01 - ETA: 1199s - loss: 4.8809 - acc: 0.01 - ETA: 1197s - loss: 4.8803 - acc: 0.01 - ETA: 1191s - loss: 4.8800 - acc: 0.01 - ETA: 1189s - loss: 4.8807 - acc: 0.01 - ETA: 1186s - loss: 4.8812 - acc: 0.01 - ETA: 1181s - loss: 4.8814 - acc: 0.01 - ETA: 1177s - loss: 4.8806 - acc: 0.01 - ETA: 1170s - loss: 4.8803 - acc: 0.01 - ETA: 1167s - loss: 4.8805 - acc: 0.01 - ETA: 1163s - loss: 4.8792 - acc: 0.01 - ETA: 1159s - loss: 4.8802 - acc: 0.01 - ETA: 1154s - loss: 4.8804 - acc: 0.01 - ETA: 1152s - loss: 4.8800 - acc: 0.01 - ETA: 1149s - loss: 4.8799 - acc: 0.01 - ETA: 1144s - loss: 4.8802 - acc: 0.01 - ETA: 1139s - loss: 4.8806 - acc: 0.01 - ETA: 1134s - loss: 4.8801 - acc: 0.01 - ETA: 1128s - loss: 4.8811 - acc: 0.01 - ETA: 1121s - loss: 4.8808 - acc: 0.01 - ETA: 1118s - loss: 4.8808 - acc: 0.01 - ETA: 1112s - loss: 4.8807 - acc: 0.01 - ETA: 1107s - loss: 4.8810 - acc: 0.01 - ETA: 1104s - loss: 4.8799 - acc: 0.01 - ETA: 1098s - loss: 4.8803 - acc: 0.01 - ETA: 1094s - loss: 4.8804 - acc: 0.01 - ETA: 1092s - loss: 4.8801 - acc: 0.01 - ETA: 1089s - loss: 4.8798 - acc: 0.01 - ETA: 1082s - loss: 4.8790 - acc: 0.01 - ETA: 1076s - loss: 4.8784 - acc: 0.01 - ETA: 1071s - loss: 4.8795 - acc: 0.01 - ETA: 1065s - loss: 4.8792 - acc: 0.01 - ETA: 1062s - loss: 4.8796 - acc: 0.01 - ETA: 1056s - loss: 4.8792 - acc: 0.01 - ETA: 1053s - loss: 4.8788 - acc: 0.01 - ETA: 1049s - loss: 4.8787 - acc: 0.01 - ETA: 1043s - loss: 4.8779 - acc: 0.01 - ETA: 1038s - loss: 4.8784 - acc: 0.01 - ETA: 1035s - loss: 4.8783 - acc: 0.01 - ETA: 1029s - loss: 4.8783 - acc: 0.01 - ETA: 1026s - loss: 4.8783 - acc: 0.01 - ETA: 1022s - loss: 4.8782 - acc: 0.01 - ETA: 1016s - loss: 4.8779 - acc: 0.01 - ETA: 1012s - loss: 4.8778 - acc: 0.01 - ETA: 1009s - loss: 4.8779 - acc: 0.01 - ETA: 1003s - loss: 4.8777 - acc: 0.01 - ETA: 1001s - loss: 4.8775 - acc: 0.01 - ETA: 997s - loss: 4.8776 - acc: 0.0118 - ETA: 993s - loss: 4.8777 - acc: 0.011 - ETA: 989s - loss: 4.8775 - acc: 0.011 - ETA: 986s - loss: 4.8776 - acc: 0.011 - ETA: 981s - loss: 4.8777 - acc: 0.011 - ETA: 978s - loss: 4.8772 - acc: 0.011 - ETA: 973s - loss: 4.8771 - acc: 0.011 - ETA: 972s - loss: 4.8770 - acc: 0.011 - ETA: 968s - loss: 4.8771 - acc: 0.011 - ETA: 963s - loss: 4.8765 - acc: 0.010 - ETA: 959s - loss: 4.8764 - acc: 0.011 - ETA: 956s - loss: 4.8763 - acc: 0.011 - ETA: 951s - loss: 4.8760 - acc: 0.011 - ETA: 946s - loss: 4.8760 - acc: 0.011 - ETA: 941s - loss: 4.8766 - acc: 0.011 - ETA: 938s - loss: 4.8765 - acc: 0.011 - ETA: 933s - loss: 4.8764 - acc: 0.011 - ETA: 927s - loss: 4.8765 - acc: 0.011 - ETA: 922s - loss: 4.8767 - acc: 0.011 - ETA: 918s - loss: 4.8763 - acc: 0.011 - ETA: 914s - loss: 4.8759 - acc: 0.011 - ETA: 910s - loss: 4.8764 - acc: 0.011 - ETA: 905s - loss: 4.8760 - acc: 0.010 - ETA: 901s - loss: 4.8759 - acc: 0.010 - ETA: 898s - loss: 4.8759 - acc: 0.010 - ETA: 893s - loss: 4.8761 - acc: 0.010 - ETA: 888s - loss: 4.8760 - acc: 0.010 - ETA: 884s - loss: 4.8757 - acc: 0.010 - ETA: 880s - loss: 4.8751 - acc: 0.010 - ETA: 875s - loss: 4.8748 - acc: 0.010 - ETA: 871s - loss: 4.8743 - acc: 0.011 - ETA: 866s - loss: 4.8745 - acc: 0.010 - ETA: 862s - loss: 4.8746 - acc: 0.010 - ETA: 860s - loss: 4.8744 - acc: 0.011 - ETA: 854s - loss: 4.8746 - acc: 0.011 - ETA: 849s - loss: 4.8744 - acc: 0.011 - ETA: 844s - loss: 4.8743 - acc: 0.011 - ETA: 839s - loss: 4.8748 - acc: 0.011 - ETA: 834s - loss: 4.8749 - acc: 0.011 - ETA: 830s - loss: 4.8746 - acc: 0.011 - ETA: 826s - loss: 4.8750 - acc: 0.011 - ETA: 824s - loss: 4.8748 - acc: 0.011 - ETA: 819s - loss: 4.8748 - acc: 0.011 - ETA: 815s - loss: 4.8746 - acc: 0.011 - ETA: 810s - loss: 4.8750 - acc: 0.012 - ETA: 806s - loss: 4.8746 - acc: 0.011 - ETA: 802s - loss: 4.8743 - acc: 0.011 - ETA: 798s - loss: 4.8737 - acc: 0.011 - ETA: 794s - loss: 4.8738 - acc: 0.011 - ETA: 789s - loss: 4.8738 - acc: 0.011 - ETA: 784s - loss: 4.8736 - acc: 0.011 - ETA: 780s - loss: 4.8733 - acc: 0.011 - ETA: 776s - loss: 4.8731 - acc: 0.011 - ETA: 771s - loss: 4.8730 - acc: 0.011 - ETA: 767s - loss: 4.8731 - acc: 0.011 - ETA: 763s - loss: 4.8730 - acc: 0.011 - ETA: 758s - loss: 4.8729 - acc: 0.011 - ETA: 754s - loss: 4.8729 - acc: 0.011 - ETA: 750s - loss: 4.8731 - acc: 0.011 - ETA: 745s - loss: 4.8732 - acc: 0.011 - ETA: 740s - loss: 4.8731 - acc: 0.011 - ETA: 736s - loss: 4.8731 - acc: 0.011 - ETA: 731s - loss: 4.8729 - acc: 0.011 - ETA: 727s - loss: 4.8727 - acc: 0.011 - ETA: 722s - loss: 4.8726 - acc: 0.011 - ETA: 717s - loss: 4.8725 - acc: 0.011 - ETA: 713s - loss: 4.8726 - acc: 0.011 - ETA: 709s - loss: 4.8724 - acc: 0.011 - ETA: 705s - loss: 4.8721 - acc: 0.010 - ETA: 700s - loss: 4.8723 - acc: 0.010 - ETA: 696s - loss: 4.8723 - acc: 0.010 - ETA: 691s - loss: 4.8722 - acc: 0.010 - ETA: 686s - loss: 4.8718 - acc: 0.011 - ETA: 682s - loss: 4.8723 - acc: 0.011 - ETA: 678s - loss: 4.8723 - acc: 0.011 - ETA: 673s - loss: 4.8725 - acc: 0.011 - ETA: 669s - loss: 4.8726 - acc: 0.011 - ETA: 665s - loss: 4.8726 - acc: 0.011 - ETA: 661s - loss: 4.8726 - acc: 0.011 - ETA: 657s - loss: 4.8729 - acc: 0.011 - ETA: 653s - loss: 4.8728 - acc: 0.011 - ETA: 648s - loss: 4.8725 - acc: 0.011 - ETA: 643s - loss: 4.8723 - acc: 0.011 - ETA: 639s - loss: 4.8725 - acc: 0.011 - ETA: 634s - loss: 4.8725 - acc: 0.011 - ETA: 630s - loss: 4.8727 - acc: 0.011 - ETA: 625s - loss: 4.8724 - acc: 0.011 - ETA: 620s - loss: 4.8724 - acc: 0.011 - ETA: 616s - loss: 4.8724 - acc: 0.011 - ETA: 612s - loss: 4.8722 - acc: 0.011 - ETA: 608s - loss: 4.8723 - acc: 0.011 - ETA: 604s - loss: 4.8721 - acc: 0.011 - ETA: 600s - loss: 4.8723 - acc: 0.011 - ETA: 596s - loss: 4.8719 - acc: 0.011 - ETA: 592s - loss: 4.8719 - acc: 0.011 - ETA: 588s - loss: 4.8722 - acc: 0.011 - ETA: 583s - loss: 4.8719 - acc: 0.011 - ETA: 579s - loss: 4.8719 - acc: 0.011 - ETA: 575s - loss: 4.8718 - acc: 0.0110"
     ]
    },
    {
     "name": "stdout",
     "output_type": "stream",
     "text": [
      "6660/6680 [============================>.] - ETA: 570s - loss: 4.8718 - acc: 0.011 - ETA: 567s - loss: 4.8714 - acc: 0.010 - ETA: 562s - loss: 4.8714 - acc: 0.010 - ETA: 558s - loss: 4.8714 - acc: 0.010 - ETA: 554s - loss: 4.8714 - acc: 0.010 - ETA: 549s - loss: 4.8711 - acc: 0.010 - ETA: 545s - loss: 4.8710 - acc: 0.010 - ETA: 541s - loss: 4.8710 - acc: 0.010 - ETA: 537s - loss: 4.8713 - acc: 0.010 - ETA: 532s - loss: 4.8712 - acc: 0.010 - ETA: 528s - loss: 4.8714 - acc: 0.010 - ETA: 524s - loss: 4.8714 - acc: 0.010 - ETA: 519s - loss: 4.8712 - acc: 0.010 - ETA: 515s - loss: 4.8710 - acc: 0.010 - ETA: 510s - loss: 4.8710 - acc: 0.010 - ETA: 506s - loss: 4.8710 - acc: 0.010 - ETA: 502s - loss: 4.8710 - acc: 0.010 - ETA: 497s - loss: 4.8712 - acc: 0.010 - ETA: 493s - loss: 4.8714 - acc: 0.010 - ETA: 489s - loss: 4.8713 - acc: 0.010 - ETA: 486s - loss: 4.8715 - acc: 0.010 - ETA: 483s - loss: 4.8715 - acc: 0.010 - ETA: 479s - loss: 4.8713 - acc: 0.010 - ETA: 475s - loss: 4.8714 - acc: 0.011 - ETA: 471s - loss: 4.8711 - acc: 0.010 - ETA: 467s - loss: 4.8712 - acc: 0.010 - ETA: 463s - loss: 4.8712 - acc: 0.010 - ETA: 460s - loss: 4.8710 - acc: 0.010 - ETA: 456s - loss: 4.8713 - acc: 0.010 - ETA: 452s - loss: 4.8712 - acc: 0.010 - ETA: 447s - loss: 4.8711 - acc: 0.010 - ETA: 443s - loss: 4.8710 - acc: 0.011 - ETA: 438s - loss: 4.8709 - acc: 0.011 - ETA: 433s - loss: 4.8709 - acc: 0.010 - ETA: 429s - loss: 4.8708 - acc: 0.010 - ETA: 425s - loss: 4.8707 - acc: 0.010 - ETA: 420s - loss: 4.8709 - acc: 0.010 - ETA: 416s - loss: 4.8708 - acc: 0.010 - ETA: 411s - loss: 4.8708 - acc: 0.010 - ETA: 407s - loss: 4.8705 - acc: 0.010 - ETA: 403s - loss: 4.8707 - acc: 0.010 - ETA: 399s - loss: 4.8708 - acc: 0.010 - ETA: 395s - loss: 4.8707 - acc: 0.010 - ETA: 391s - loss: 4.8706 - acc: 0.010 - ETA: 386s - loss: 4.8704 - acc: 0.010 - ETA: 382s - loss: 4.8704 - acc: 0.010 - ETA: 377s - loss: 4.8704 - acc: 0.010 - ETA: 374s - loss: 4.8701 - acc: 0.010 - ETA: 370s - loss: 4.8701 - acc: 0.010 - ETA: 367s - loss: 4.8701 - acc: 0.010 - ETA: 364s - loss: 4.8701 - acc: 0.010 - ETA: 361s - loss: 4.8701 - acc: 0.010 - ETA: 357s - loss: 4.8700 - acc: 0.010 - ETA: 353s - loss: 4.8699 - acc: 0.010 - ETA: 349s - loss: 4.8699 - acc: 0.010 - ETA: 344s - loss: 4.8700 - acc: 0.010 - ETA: 339s - loss: 4.8701 - acc: 0.010 - ETA: 335s - loss: 4.8702 - acc: 0.010 - ETA: 331s - loss: 4.8702 - acc: 0.010 - ETA: 326s - loss: 4.8701 - acc: 0.010 - ETA: 322s - loss: 4.8700 - acc: 0.010 - ETA: 317s - loss: 4.8700 - acc: 0.010 - ETA: 312s - loss: 4.8699 - acc: 0.010 - ETA: 308s - loss: 4.8697 - acc: 0.010 - ETA: 303s - loss: 4.8696 - acc: 0.010 - ETA: 299s - loss: 4.8696 - acc: 0.010 - ETA: 294s - loss: 4.8695 - acc: 0.010 - ETA: 289s - loss: 4.8698 - acc: 0.010 - ETA: 284s - loss: 4.8699 - acc: 0.010 - ETA: 280s - loss: 4.8698 - acc: 0.010 - ETA: 275s - loss: 4.8695 - acc: 0.010 - ETA: 271s - loss: 4.8694 - acc: 0.010 - ETA: 266s - loss: 4.8694 - acc: 0.010 - ETA: 263s - loss: 4.8694 - acc: 0.010 - ETA: 258s - loss: 4.8694 - acc: 0.010 - ETA: 254s - loss: 4.8692 - acc: 0.010 - ETA: 249s - loss: 4.8692 - acc: 0.010 - ETA: 244s - loss: 4.8691 - acc: 0.010 - ETA: 240s - loss: 4.8690 - acc: 0.010 - ETA: 235s - loss: 4.8691 - acc: 0.010 - ETA: 231s - loss: 4.8693 - acc: 0.010 - ETA: 226s - loss: 4.8695 - acc: 0.010 - ETA: 222s - loss: 4.8695 - acc: 0.010 - ETA: 217s - loss: 4.8695 - acc: 0.010 - ETA: 213s - loss: 4.8696 - acc: 0.010 - ETA: 208s - loss: 4.8696 - acc: 0.010 - ETA: 204s - loss: 4.8696 - acc: 0.010 - ETA: 199s - loss: 4.8699 - acc: 0.010 - ETA: 195s - loss: 4.8699 - acc: 0.010 - ETA: 190s - loss: 4.8700 - acc: 0.010 - ETA: 186s - loss: 4.8700 - acc: 0.010 - ETA: 181s - loss: 4.8699 - acc: 0.010 - ETA: 177s - loss: 4.8699 - acc: 0.010 - ETA: 172s - loss: 4.8700 - acc: 0.010 - ETA: 168s - loss: 4.8702 - acc: 0.010 - ETA: 163s - loss: 4.8702 - acc: 0.010 - ETA: 159s - loss: 4.8703 - acc: 0.010 - ETA: 155s - loss: 4.8701 - acc: 0.010 - ETA: 150s - loss: 4.8704 - acc: 0.010 - ETA: 146s - loss: 4.8703 - acc: 0.010 - ETA: 141s - loss: 4.8701 - acc: 0.010 - ETA: 136s - loss: 4.8703 - acc: 0.010 - ETA: 131s - loss: 4.8705 - acc: 0.010 - ETA: 127s - loss: 4.8702 - acc: 0.010 - ETA: 122s - loss: 4.8701 - acc: 0.010 - ETA: 117s - loss: 4.8701 - acc: 0.010 - ETA: 112s - loss: 4.8701 - acc: 0.010 - ETA: 107s - loss: 4.8703 - acc: 0.010 - ETA: 103s - loss: 4.8704 - acc: 0.010 - ETA: 98s - loss: 4.8703 - acc: 0.010 - ETA: 93s - loss: 4.8702 - acc: 0.01 - ETA: 88s - loss: 4.8705 - acc: 0.01 - ETA: 83s - loss: 4.8705 - acc: 0.01 - ETA: 78s - loss: 4.8706 - acc: 0.01 - ETA: 73s - loss: 4.8707 - acc: 0.01 - ETA: 68s - loss: 4.8705 - acc: 0.01 - ETA: 64s - loss: 4.8704 - acc: 0.01 - ETA: 59s - loss: 4.8705 - acc: 0.01 - ETA: 54s - loss: 4.8708 - acc: 0.01 - ETA: 49s - loss: 4.8708 - acc: 0.01 - ETA: 44s - loss: 4.8708 - acc: 0.01 - ETA: 39s - loss: 4.8708 - acc: 0.01 - ETA: 34s - loss: 4.8708 - acc: 0.01 - ETA: 29s - loss: 4.8709 - acc: 0.01 - ETA: 24s - loss: 4.8709 - acc: 0.01 - ETA: 19s - loss: 4.8710 - acc: 0.01 - ETA: 14s - loss: 4.8710 - acc: 0.01 - ETA: 9s - loss: 4.8709 - acc: 0.0104 - ETA: 4s - loss: 4.8711 - acc: 0.0104Epoch 00003: val_loss improved from 4.87147 to 4.86963, saving model to saved_models/weights.best.from_scratch.hdf5\n",
      "6680/6680 [==============================] - 1841s - loss: 4.8712 - acc: 0.0103 - val_loss: 4.8696 - val_acc: 0.0108\n",
      "Epoch 5/5\n"
     ]
    },
    {
     "name": "stdout",
     "output_type": "stream",
     "text": [
      "4060/6680 [=================>............] - ETA: 1468s - loss: 4.9744 - acc: 0.0000e+ - ETA: 1333s - loss: 4.9056 - acc: 0.0000e+ - ETA: 1420s - loss: 4.8973 - acc: 0.0000e+ - ETA: 1365s - loss: 4.9041 - acc: 0.0000e+ - ETA: 1402s - loss: 4.8954 - acc: 0.0000e+ - ETA: 1458s - loss: 4.9041 - acc: 0.0000e+ - ETA: 1440s - loss: 4.8980 - acc: 0.0000e+ - ETA: 1445s - loss: 4.8858 - acc: 0.0063   - ETA: 1454s - loss: 4.8871 - acc: 0.00 - ETA: 1430s - loss: 4.8845 - acc: 0.00 - ETA: 1471s - loss: 4.8881 - acc: 0.00 - ETA: 1456s - loss: 4.8942 - acc: 0.00 - ETA: 1479s - loss: 4.8939 - acc: 0.00 - ETA: 1457s - loss: 4.8877 - acc: 0.00 - ETA: 1452s - loss: 4.8904 - acc: 0.00 - ETA: 1435s - loss: 4.8885 - acc: 0.00 - ETA: 1432s - loss: 4.8854 - acc: 0.00 - ETA: 1423s - loss: 4.8829 - acc: 0.00 - ETA: 1411s - loss: 4.8843 - acc: 0.00 - ETA: 1429s - loss: 4.8819 - acc: 0.00 - ETA: 1425s - loss: 4.8798 - acc: 0.00 - ETA: 1424s - loss: 4.8798 - acc: 0.00 - ETA: 1423s - loss: 4.8777 - acc: 0.00 - ETA: 1416s - loss: 4.8781 - acc: 0.00 - ETA: 1413s - loss: 4.8750 - acc: 0.00 - ETA: 1421s - loss: 4.8740 - acc: 0.00 - ETA: 1419s - loss: 4.8735 - acc: 0.00 - ETA: 1430s - loss: 4.8714 - acc: 0.00 - ETA: 1419s - loss: 4.8716 - acc: 0.00 - ETA: 1418s - loss: 4.8709 - acc: 0.00 - ETA: 1419s - loss: 4.8723 - acc: 0.00 - ETA: 1424s - loss: 4.8717 - acc: 0.00 - ETA: 1416s - loss: 4.8729 - acc: 0.00 - ETA: 1410s - loss: 4.8737 - acc: 0.00 - ETA: 1406s - loss: 4.8735 - acc: 0.00 - ETA: 1404s - loss: 4.8730 - acc: 0.00 - ETA: 1399s - loss: 4.8714 - acc: 0.00 - ETA: 1392s - loss: 4.8722 - acc: 0.00 - ETA: 1387s - loss: 4.8718 - acc: 0.00 - ETA: 1380s - loss: 4.8711 - acc: 0.00 - ETA: 1381s - loss: 4.8719 - acc: 0.00 - ETA: 1376s - loss: 4.8731 - acc: 0.00 - ETA: 1385s - loss: 4.8731 - acc: 0.00 - ETA: 1376s - loss: 4.8736 - acc: 0.00 - ETA: 1376s - loss: 4.8713 - acc: 0.00 - ETA: 1369s - loss: 4.8716 - acc: 0.00 - ETA: 1365s - loss: 4.8712 - acc: 0.00 - ETA: 1360s - loss: 4.8711 - acc: 0.00 - ETA: 1363s - loss: 4.8726 - acc: 0.00 - ETA: 1354s - loss: 4.8725 - acc: 0.00 - ETA: 1349s - loss: 4.8718 - acc: 0.00 - ETA: 1343s - loss: 4.8715 - acc: 0.00 - ETA: 1333s - loss: 4.8714 - acc: 0.00 - ETA: 1327s - loss: 4.8711 - acc: 0.00 - ETA: 1318s - loss: 4.8705 - acc: 0.01 - ETA: 1310s - loss: 4.8691 - acc: 0.01 - ETA: 1303s - loss: 4.8688 - acc: 0.01 - ETA: 1298s - loss: 4.8707 - acc: 0.01 - ETA: 1297s - loss: 4.8704 - acc: 0.01 - ETA: 1295s - loss: 4.8712 - acc: 0.01 - ETA: 1292s - loss: 4.8702 - acc: 0.01 - ETA: 1284s - loss: 4.8705 - acc: 0.01 - ETA: 1276s - loss: 4.8704 - acc: 0.01 - ETA: 1273s - loss: 4.8699 - acc: 0.01 - ETA: 1269s - loss: 4.8687 - acc: 0.01 - ETA: 1261s - loss: 4.8683 - acc: 0.01 - ETA: 1257s - loss: 4.8674 - acc: 0.01 - ETA: 1256s - loss: 4.8677 - acc: 0.01 - ETA: 1249s - loss: 4.8674 - acc: 0.01 - ETA: 1247s - loss: 4.8672 - acc: 0.01 - ETA: 1242s - loss: 4.8664 - acc: 0.01 - ETA: 1239s - loss: 4.8672 - acc: 0.01 - ETA: 1232s - loss: 4.8667 - acc: 0.01 - ETA: 1227s - loss: 4.8675 - acc: 0.01 - ETA: 1225s - loss: 4.8667 - acc: 0.01 - ETA: 1223s - loss: 4.8670 - acc: 0.01 - ETA: 1219s - loss: 4.8675 - acc: 0.01 - ETA: 1212s - loss: 4.8673 - acc: 0.01 - ETA: 1207s - loss: 4.8681 - acc: 0.01 - ETA: 1205s - loss: 4.8685 - acc: 0.01 - ETA: 1201s - loss: 4.8686 - acc: 0.01 - ETA: 1198s - loss: 4.8687 - acc: 0.01 - ETA: 1194s - loss: 4.8688 - acc: 0.01 - ETA: 1191s - loss: 4.8700 - acc: 0.01 - ETA: 1186s - loss: 4.8699 - acc: 0.01 - ETA: 1179s - loss: 4.8700 - acc: 0.01 - ETA: 1172s - loss: 4.8699 - acc: 0.01 - ETA: 1167s - loss: 4.8693 - acc: 0.01 - ETA: 1162s - loss: 4.8691 - acc: 0.01 - ETA: 1157s - loss: 4.8685 - acc: 0.01 - ETA: 1154s - loss: 4.8684 - acc: 0.01 - ETA: 1148s - loss: 4.8684 - acc: 0.01 - ETA: 1143s - loss: 4.8682 - acc: 0.01 - ETA: 1136s - loss: 4.8691 - acc: 0.01 - ETA: 1130s - loss: 4.8696 - acc: 0.01 - ETA: 1124s - loss: 4.8693 - acc: 0.01 - ETA: 1117s - loss: 4.8692 - acc: 0.01 - ETA: 1112s - loss: 4.8700 - acc: 0.01 - ETA: 1105s - loss: 4.8709 - acc: 0.01 - ETA: 1101s - loss: 4.8710 - acc: 0.01 - ETA: 1099s - loss: 4.8715 - acc: 0.01 - ETA: 1095s - loss: 4.8719 - acc: 0.01 - ETA: 1090s - loss: 4.8712 - acc: 0.01 - ETA: 1086s - loss: 4.8719 - acc: 0.01 - ETA: 1079s - loss: 4.8716 - acc: 0.01 - ETA: 1075s - loss: 4.8709 - acc: 0.01 - ETA: 1069s - loss: 4.8710 - acc: 0.01 - ETA: 1065s - loss: 4.8707 - acc: 0.01 - ETA: 1059s - loss: 4.8709 - acc: 0.01 - ETA: 1053s - loss: 4.8701 - acc: 0.01 - ETA: 1048s - loss: 4.8701 - acc: 0.01 - ETA: 1044s - loss: 4.8707 - acc: 0.01 - ETA: 1039s - loss: 4.8705 - acc: 0.01 - ETA: 1033s - loss: 4.8703 - acc: 0.01 - ETA: 1031s - loss: 4.8706 - acc: 0.01 - ETA: 1026s - loss: 4.8709 - acc: 0.01 - ETA: 1023s - loss: 4.8700 - acc: 0.01 - ETA: 1019s - loss: 4.8702 - acc: 0.01 - ETA: 1013s - loss: 4.8707 - acc: 0.01 - ETA: 1010s - loss: 4.8705 - acc: 0.01 - ETA: 1004s - loss: 4.8700 - acc: 0.01 - ETA: 997s - loss: 4.8699 - acc: 0.0123 - ETA: 992s - loss: 4.8703 - acc: 0.012 - ETA: 987s - loss: 4.8701 - acc: 0.012 - ETA: 982s - loss: 4.8700 - acc: 0.012 - ETA: 979s - loss: 4.8699 - acc: 0.013 - ETA: 974s - loss: 4.8696 - acc: 0.013 - ETA: 968s - loss: 4.8697 - acc: 0.013 - ETA: 963s - loss: 4.8695 - acc: 0.013 - ETA: 959s - loss: 4.8697 - acc: 0.013 - ETA: 953s - loss: 4.8696 - acc: 0.013 - ETA: 948s - loss: 4.8695 - acc: 0.013 - ETA: 942s - loss: 4.8697 - acc: 0.013 - ETA: 937s - loss: 4.8696 - acc: 0.013 - ETA: 930s - loss: 4.8702 - acc: 0.013 - ETA: 924s - loss: 4.8706 - acc: 0.012 - ETA: 919s - loss: 4.8706 - acc: 0.012 - ETA: 913s - loss: 4.8705 - acc: 0.012 - ETA: 909s - loss: 4.8704 - acc: 0.012 - ETA: 903s - loss: 4.8701 - acc: 0.012 - ETA: 898s - loss: 4.8700 - acc: 0.012 - ETA: 893s - loss: 4.8698 - acc: 0.012 - ETA: 889s - loss: 4.8693 - acc: 0.012 - ETA: 884s - loss: 4.8694 - acc: 0.012 - ETA: 880s - loss: 4.8692 - acc: 0.012 - ETA: 876s - loss: 4.8693 - acc: 0.012 - ETA: 871s - loss: 4.8691 - acc: 0.011 - ETA: 868s - loss: 4.8690 - acc: 0.011 - ETA: 863s - loss: 4.8688 - acc: 0.012 - ETA: 858s - loss: 4.8690 - acc: 0.012 - ETA: 853s - loss: 4.8686 - acc: 0.012 - ETA: 848s - loss: 4.8689 - acc: 0.012 - ETA: 844s - loss: 4.8687 - acc: 0.012 - ETA: 839s - loss: 4.8688 - acc: 0.012 - ETA: 835s - loss: 4.8688 - acc: 0.011 - ETA: 830s - loss: 4.8692 - acc: 0.011 - ETA: 825s - loss: 4.8692 - acc: 0.011 - ETA: 820s - loss: 4.8693 - acc: 0.011 - ETA: 816s - loss: 4.8690 - acc: 0.011 - ETA: 811s - loss: 4.8689 - acc: 0.012 - ETA: 809s - loss: 4.8689 - acc: 0.012 - ETA: 803s - loss: 4.8690 - acc: 0.012 - ETA: 798s - loss: 4.8689 - acc: 0.012 - ETA: 793s - loss: 4.8685 - acc: 0.012 - ETA: 788s - loss: 4.8686 - acc: 0.012 - ETA: 783s - loss: 4.8690 - acc: 0.012 - ETA: 779s - loss: 4.8690 - acc: 0.012 - ETA: 775s - loss: 4.8691 - acc: 0.012 - ETA: 771s - loss: 4.8693 - acc: 0.012 - ETA: 767s - loss: 4.8691 - acc: 0.012 - ETA: 762s - loss: 4.8689 - acc: 0.012 - ETA: 757s - loss: 4.8686 - acc: 0.012 - ETA: 754s - loss: 4.8683 - acc: 0.012 - ETA: 749s - loss: 4.8683 - acc: 0.012 - ETA: 745s - loss: 4.8681 - acc: 0.012 - ETA: 741s - loss: 4.8677 - acc: 0.012 - ETA: 736s - loss: 4.8682 - acc: 0.012 - ETA: 731s - loss: 4.8684 - acc: 0.012 - ETA: 726s - loss: 4.8684 - acc: 0.012 - ETA: 721s - loss: 4.8687 - acc: 0.012 - ETA: 716s - loss: 4.8684 - acc: 0.012 - ETA: 711s - loss: 4.8683 - acc: 0.012 - ETA: 706s - loss: 4.8685 - acc: 0.012 - ETA: 702s - loss: 4.8690 - acc: 0.012 - ETA: 697s - loss: 4.8690 - acc: 0.012 - ETA: 691s - loss: 4.8686 - acc: 0.012 - ETA: 687s - loss: 4.8685 - acc: 0.012 - ETA: 682s - loss: 4.8687 - acc: 0.012 - ETA: 676s - loss: 4.8683 - acc: 0.012 - ETA: 671s - loss: 4.8681 - acc: 0.012 - ETA: 667s - loss: 4.8682 - acc: 0.012 - ETA: 662s - loss: 4.8681 - acc: 0.012 - ETA: 657s - loss: 4.8682 - acc: 0.011 - ETA: 653s - loss: 4.8689 - acc: 0.011 - ETA: 648s - loss: 4.8690 - acc: 0.011 - ETA: 643s - loss: 4.8693 - acc: 0.011 - ETA: 638s - loss: 4.8690 - acc: 0.011 - ETA: 633s - loss: 4.8689 - acc: 0.011 - ETA: 628s - loss: 4.8690 - acc: 0.011 - ETA: 623s - loss: 4.8686 - acc: 0.011 - ETA: 619s - loss: 4.8685 - acc: 0.011 - ETA: 614s - loss: 4.8684 - acc: 0.011 - ETA: 609s - loss: 4.8683 - acc: 0.0116"
     ]
    },
    {
     "name": "stdout",
     "output_type": "stream",
     "text": [
      "6660/6680 [============================>.] - ETA: 605s - loss: 4.8685 - acc: 0.011 - ETA: 600s - loss: 4.8683 - acc: 0.011 - ETA: 595s - loss: 4.8683 - acc: 0.011 - ETA: 591s - loss: 4.8685 - acc: 0.011 - ETA: 587s - loss: 4.8686 - acc: 0.011 - ETA: 583s - loss: 4.8686 - acc: 0.011 - ETA: 578s - loss: 4.8682 - acc: 0.011 - ETA: 574s - loss: 4.8682 - acc: 0.011 - ETA: 569s - loss: 4.8683 - acc: 0.011 - ETA: 564s - loss: 4.8684 - acc: 0.011 - ETA: 559s - loss: 4.8680 - acc: 0.011 - ETA: 556s - loss: 4.8680 - acc: 0.011 - ETA: 551s - loss: 4.8678 - acc: 0.011 - ETA: 547s - loss: 4.8681 - acc: 0.011 - ETA: 542s - loss: 4.8678 - acc: 0.011 - ETA: 537s - loss: 4.8678 - acc: 0.011 - ETA: 532s - loss: 4.8681 - acc: 0.011 - ETA: 528s - loss: 4.8683 - acc: 0.011 - ETA: 524s - loss: 4.8686 - acc: 0.011 - ETA: 519s - loss: 4.8683 - acc: 0.011 - ETA: 514s - loss: 4.8684 - acc: 0.011 - ETA: 509s - loss: 4.8682 - acc: 0.011 - ETA: 504s - loss: 4.8682 - acc: 0.011 - ETA: 500s - loss: 4.8680 - acc: 0.011 - ETA: 495s - loss: 4.8680 - acc: 0.011 - ETA: 490s - loss: 4.8681 - acc: 0.011 - ETA: 485s - loss: 4.8683 - acc: 0.011 - ETA: 481s - loss: 4.8683 - acc: 0.011 - ETA: 476s - loss: 4.8682 - acc: 0.011 - ETA: 471s - loss: 4.8685 - acc: 0.010 - ETA: 466s - loss: 4.8683 - acc: 0.010 - ETA: 462s - loss: 4.8683 - acc: 0.010 - ETA: 457s - loss: 4.8682 - acc: 0.010 - ETA: 452s - loss: 4.8682 - acc: 0.011 - ETA: 448s - loss: 4.8680 - acc: 0.010 - ETA: 443s - loss: 4.8680 - acc: 0.010 - ETA: 439s - loss: 4.8678 - acc: 0.010 - ETA: 434s - loss: 4.8678 - acc: 0.010 - ETA: 429s - loss: 4.8678 - acc: 0.010 - ETA: 424s - loss: 4.8677 - acc: 0.010 - ETA: 420s - loss: 4.8678 - acc: 0.010 - ETA: 415s - loss: 4.8679 - acc: 0.010 - ETA: 410s - loss: 4.8677 - acc: 0.010 - ETA: 406s - loss: 4.8678 - acc: 0.010 - ETA: 401s - loss: 4.8679 - acc: 0.010 - ETA: 397s - loss: 4.8680 - acc: 0.010 - ETA: 393s - loss: 4.8679 - acc: 0.011 - ETA: 389s - loss: 4.8680 - acc: 0.011 - ETA: 384s - loss: 4.8683 - acc: 0.010 - ETA: 379s - loss: 4.8682 - acc: 0.010 - ETA: 375s - loss: 4.8685 - acc: 0.010 - ETA: 370s - loss: 4.8686 - acc: 0.011 - ETA: 366s - loss: 4.8685 - acc: 0.010 - ETA: 361s - loss: 4.8685 - acc: 0.010 - ETA: 356s - loss: 4.8684 - acc: 0.010 - ETA: 351s - loss: 4.8685 - acc: 0.010 - ETA: 347s - loss: 4.8684 - acc: 0.010 - ETA: 342s - loss: 4.8686 - acc: 0.010 - ETA: 337s - loss: 4.8687 - acc: 0.010 - ETA: 333s - loss: 4.8686 - acc: 0.010 - ETA: 328s - loss: 4.8688 - acc: 0.010 - ETA: 324s - loss: 4.8687 - acc: 0.010 - ETA: 319s - loss: 4.8686 - acc: 0.010 - ETA: 314s - loss: 4.8687 - acc: 0.010 - ETA: 310s - loss: 4.8686 - acc: 0.010 - ETA: 305s - loss: 4.8686 - acc: 0.010 - ETA: 300s - loss: 4.8687 - acc: 0.010 - ETA: 295s - loss: 4.8685 - acc: 0.010 - ETA: 290s - loss: 4.8685 - acc: 0.010 - ETA: 286s - loss: 4.8685 - acc: 0.010 - ETA: 281s - loss: 4.8688 - acc: 0.010 - ETA: 276s - loss: 4.8689 - acc: 0.010 - ETA: 272s - loss: 4.8685 - acc: 0.010 - ETA: 267s - loss: 4.8685 - acc: 0.010 - ETA: 262s - loss: 4.8684 - acc: 0.010 - ETA: 258s - loss: 4.8683 - acc: 0.010 - ETA: 253s - loss: 4.8682 - acc: 0.010 - ETA: 248s - loss: 4.8679 - acc: 0.010 - ETA: 243s - loss: 4.8682 - acc: 0.010 - ETA: 239s - loss: 4.8681 - acc: 0.010 - ETA: 234s - loss: 4.8681 - acc: 0.010 - ETA: 229s - loss: 4.8680 - acc: 0.010 - ETA: 224s - loss: 4.8682 - acc: 0.010 - ETA: 219s - loss: 4.8682 - acc: 0.010 - ETA: 215s - loss: 4.8680 - acc: 0.010 - ETA: 210s - loss: 4.8678 - acc: 0.010 - ETA: 205s - loss: 4.8677 - acc: 0.010 - ETA: 200s - loss: 4.8678 - acc: 0.010 - ETA: 196s - loss: 4.8679 - acc: 0.010 - ETA: 191s - loss: 4.8680 - acc: 0.010 - ETA: 186s - loss: 4.8681 - acc: 0.010 - ETA: 182s - loss: 4.8679 - acc: 0.010 - ETA: 177s - loss: 4.8678 - acc: 0.010 - ETA: 172s - loss: 4.8677 - acc: 0.010 - ETA: 168s - loss: 4.8676 - acc: 0.010 - ETA: 163s - loss: 4.8675 - acc: 0.010 - ETA: 158s - loss: 4.8679 - acc: 0.010 - ETA: 154s - loss: 4.8677 - acc: 0.010 - ETA: 149s - loss: 4.8680 - acc: 0.010 - ETA: 144s - loss: 4.8679 - acc: 0.010 - ETA: 140s - loss: 4.8677 - acc: 0.010 - ETA: 135s - loss: 4.8676 - acc: 0.010 - ETA: 130s - loss: 4.8675 - acc: 0.010 - ETA: 125s - loss: 4.8672 - acc: 0.009 - ETA: 121s - loss: 4.8672 - acc: 0.009 - ETA: 116s - loss: 4.8671 - acc: 0.010 - ETA: 111s - loss: 4.8673 - acc: 0.010 - ETA: 107s - loss: 4.8673 - acc: 0.010 - ETA: 102s - loss: 4.8672 - acc: 0.010 - ETA: 97s - loss: 4.8672 - acc: 0.010 - ETA: 93s - loss: 4.8671 - acc: 0.01 - ETA: 88s - loss: 4.8674 - acc: 0.01 - ETA: 83s - loss: 4.8673 - acc: 0.01 - ETA: 79s - loss: 4.8673 - acc: 0.01 - ETA: 74s - loss: 4.8674 - acc: 0.01 - ETA: 69s - loss: 4.8674 - acc: 0.01 - ETA: 65s - loss: 4.8676 - acc: 0.01 - ETA: 60s - loss: 4.8676 - acc: 0.01 - ETA: 55s - loss: 4.8677 - acc: 0.01 - ETA: 51s - loss: 4.8678 - acc: 0.01 - ETA: 46s - loss: 4.8679 - acc: 0.01 - ETA: 41s - loss: 4.8681 - acc: 0.01 - ETA: 37s - loss: 4.8681 - acc: 0.01 - ETA: 32s - loss: 4.8682 - acc: 0.01 - ETA: 27s - loss: 4.8684 - acc: 0.01 - ETA: 23s - loss: 4.8683 - acc: 0.01 - ETA: 18s - loss: 4.8683 - acc: 0.01 - ETA: 13s - loss: 4.8684 - acc: 0.01 - ETA: 9s - loss: 4.8685 - acc: 0.0099 - ETA: 4s - loss: 4.8686 - acc: 0.0099Epoch 00004: val_loss improved from 4.86963 to 4.86907, saving model to saved_models/weights.best.from_scratch.hdf5\n",
      "6680/6680 [==============================] - 1620s - loss: 4.8687 - acc: 0.0100 - val_loss: 4.8691 - val_acc: 0.0108\n"
     ]
    },
    {
     "data": {
      "text/plain": [
       "<keras.callbacks.History at 0x4103ac50>"
      ]
     },
     "execution_count": 24,
     "metadata": {},
     "output_type": "execute_result"
    }
   ],
   "source": [
    "from keras.callbacks import ModelCheckpoint  \n",
    "\n",
    "### TODO: specify the number of epochs that you would like to use to train the model.\n",
    "\n",
    "epochs = 5\n",
    "\n",
    "### Do NOT modify the code below this line.\n",
    "\n",
    "checkpointer = ModelCheckpoint(filepath='saved_models/weights.best.from_scratch.hdf5', \n",
    "                               verbose=1, save_best_only=True)\n",
    "\n",
    "model.fit(train_tensors, train_targets, \n",
    "          validation_data=(valid_tensors, valid_targets),\n",
    "          epochs=epochs, batch_size=20, callbacks=[checkpointer], verbose=1)"
   ]
  },
  {
   "cell_type": "markdown",
   "metadata": {},
   "source": [
    "### Load the Model with the Best Validation Loss"
   ]
  },
  {
   "cell_type": "code",
   "execution_count": 25,
   "metadata": {},
   "outputs": [],
   "source": [
    "model.load_weights('saved_models/weights.best.from_scratch.hdf5')"
   ]
  },
  {
   "cell_type": "markdown",
   "metadata": {},
   "source": [
    "### Test the Model\n",
    "\n",
    "Try out your model on the test dataset of dog images.  Ensure that your test accuracy is greater than 1%."
   ]
  },
  {
   "cell_type": "code",
   "execution_count": 26,
   "metadata": {},
   "outputs": [
    {
     "name": "stdout",
     "output_type": "stream",
     "text": [
      "Test accuracy: 1.1962%\n"
     ]
    }
   ],
   "source": [
    "# get index of predicted dog breed for each image in test set\n",
    "dog_breed_predictions = [np.argmax(model.predict(np.expand_dims(tensor, axis=0))) for tensor in test_tensors]\n",
    "\n",
    "# report test accuracy\n",
    "test_accuracy = 100*np.sum(np.array(dog_breed_predictions)==np.argmax(test_targets, axis=1))/len(dog_breed_predictions)\n",
    "print('Test accuracy: %.4f%%' % test_accuracy)"
   ]
  },
  {
   "cell_type": "markdown",
   "metadata": {},
   "source": [
    "---\n",
    "<a id='step4'></a>\n",
    "## Step 4: Use a CNN to Classify Dog Breeds\n",
    "\n",
    "To reduce training time without sacrificing accuracy, we show you how to train a CNN using transfer learning.  In the following step, you will get a chance to use transfer learning to train your own CNN.\n",
    "\n",
    "### Obtain Bottleneck Features"
   ]
  },
  {
   "cell_type": "code",
   "execution_count": null,
   "metadata": {},
   "outputs": [],
   "source": [
    "bottleneck_features = np.load('bottleneck_features/DogVGG16Data.npz')\n",
    "train_VGG16 = bottleneck_features['train']\n",
    "valid_VGG16 = bottleneck_features['valid']\n",
    "test_VGG16 = bottleneck_features['test']"
   ]
  },
  {
   "cell_type": "markdown",
   "metadata": {},
   "source": [
    "### Model Architecture\n",
    "\n",
    "The model uses the the pre-trained VGG-16 model as a fixed feature extractor, where the last convolutional output of VGG-16 is fed as input to our model.  We only add a global average pooling layer and a fully connected layer, where the latter contains one node for each dog category and is equipped with a softmax."
   ]
  },
  {
   "cell_type": "code",
   "execution_count": null,
   "metadata": {},
   "outputs": [],
   "source": [
    "VGG16_model = Sequential()\n",
    "VGG16_model.add(GlobalAveragePooling2D(input_shape=train_VGG16.shape[1:]))\n",
    "VGG16_model.add(Dense(133, activation='softmax'))\n",
    "\n",
    "VGG16_model.summary()"
   ]
  },
  {
   "cell_type": "markdown",
   "metadata": {},
   "source": [
    "### Compile the Model"
   ]
  },
  {
   "cell_type": "code",
   "execution_count": null,
   "metadata": {},
   "outputs": [],
   "source": [
    "VGG16_model.compile(loss='categorical_crossentropy', optimizer='rmsprop', metrics=['accuracy'])"
   ]
  },
  {
   "cell_type": "markdown",
   "metadata": {},
   "source": [
    "### Train the Model"
   ]
  },
  {
   "cell_type": "code",
   "execution_count": null,
   "metadata": {},
   "outputs": [],
   "source": [
    "checkpointer = ModelCheckpoint(filepath='saved_models/weights.best.VGG16.hdf5', \n",
    "                               verbose=1, save_best_only=True)\n",
    "\n",
    "VGG16_model.fit(train_VGG16, train_targets, \n",
    "          validation_data=(valid_VGG16, valid_targets),\n",
    "          epochs=20, batch_size=20, callbacks=[checkpointer], verbose=1)"
   ]
  },
  {
   "cell_type": "markdown",
   "metadata": {},
   "source": [
    "### Load the Model with the Best Validation Loss"
   ]
  },
  {
   "cell_type": "code",
   "execution_count": null,
   "metadata": {},
   "outputs": [],
   "source": [
    "VGG16_model.load_weights('saved_models/weights.best.VGG16.hdf5')"
   ]
  },
  {
   "cell_type": "markdown",
   "metadata": {},
   "source": [
    "### Test the Model\n",
    "\n",
    "Now, we can use the CNN to test how well it identifies breed within our test dataset of dog images.  We print the test accuracy below."
   ]
  },
  {
   "cell_type": "code",
   "execution_count": null,
   "metadata": {},
   "outputs": [],
   "source": [
    "# get index of predicted dog breed for each image in test set\n",
    "VGG16_predictions = [np.argmax(VGG16_model.predict(np.expand_dims(feature, axis=0))) for feature in test_VGG16]\n",
    "\n",
    "# report test accuracy\n",
    "test_accuracy = 100*np.sum(np.array(VGG16_predictions)==np.argmax(test_targets, axis=1))/len(VGG16_predictions)\n",
    "print('Test accuracy: %.4f%%' % test_accuracy)"
   ]
  },
  {
   "cell_type": "markdown",
   "metadata": {},
   "source": [
    "### Predict Dog Breed with the Model"
   ]
  },
  {
   "cell_type": "code",
   "execution_count": null,
   "metadata": {},
   "outputs": [],
   "source": [
    "from extract_bottleneck_features import *\n",
    "\n",
    "def VGG16_predict_breed(img_path):\n",
    "    # extract bottleneck features\n",
    "    bottleneck_feature = extract_VGG16(path_to_tensor(img_path))\n",
    "    # obtain predicted vector\n",
    "    predicted_vector = VGG16_model.predict(bottleneck_feature)\n",
    "    # return dog breed that is predicted by the model\n",
    "    return dog_names[np.argmax(predicted_vector)]"
   ]
  },
  {
   "cell_type": "markdown",
   "metadata": {},
   "source": [
    "---\n",
    "<a id='step5'></a>\n",
    "## Step 5: Create a CNN to Classify Dog Breeds (using Transfer Learning)\n",
    "\n",
    "You will now use transfer learning to create a CNN that can identify dog breed from images.  Your CNN must attain at least 60% accuracy on the test set.\n",
    "\n",
    "In Step 4, we used transfer learning to create a CNN using VGG-16 bottleneck features.  In this section, you must use the bottleneck features from a different pre-trained model.  To make things easier for you, we have pre-computed the features for all of the networks that are currently available in Keras:\n",
    "- [VGG-19](https://s3-us-west-1.amazonaws.com/udacity-aind/dog-project/DogVGG19Data.npz) bottleneck features\n",
    "- [ResNet-50](https://s3-us-west-1.amazonaws.com/udacity-aind/dog-project/DogResnet50Data.npz) bottleneck features\n",
    "- [Inception](https://s3-us-west-1.amazonaws.com/udacity-aind/dog-project/DogInceptionV3Data.npz) bottleneck features\n",
    "- [Xception](https://s3-us-west-1.amazonaws.com/udacity-aind/dog-project/DogXceptionData.npz) bottleneck features\n",
    "\n",
    "The files are encoded as such:\n",
    "\n",
    "    Dog{network}Data.npz\n",
    "    \n",
    "where `{network}`, in the above filename, can be one of `VGG19`, `Resnet50`, `InceptionV3`, or `Xception`.  Pick one of the above architectures, download the corresponding bottleneck features, and store the downloaded file in the `bottleneck_features/` folder in the repository.\n",
    "\n",
    "### (IMPLEMENTATION) Obtain Bottleneck Features\n",
    "\n",
    "In the code block below, extract the bottleneck features corresponding to the train, test, and validation sets by running the following:\n",
    "\n",
    "    bottleneck_features = np.load('bottleneck_features/Dog{network}Data.npz')\n",
    "    train_{network} = bottleneck_features['train']\n",
    "    valid_{network} = bottleneck_features['valid']\n",
    "    test_{network} = bottleneck_features['test']"
   ]
  },
  {
   "cell_type": "code",
   "execution_count": null,
   "metadata": {},
   "outputs": [],
   "source": [
    "### TODO: Obtain bottleneck features from another pre-trained CNN."
   ]
  },
  {
   "cell_type": "markdown",
   "metadata": {},
   "source": [
    "### (IMPLEMENTATION) Model Architecture\n",
    "\n",
    "Create a CNN to classify dog breed.  At the end of your code cell block, summarize the layers of your model by executing the line:\n",
    "    \n",
    "        <your model's name>.summary()\n",
    "   \n",
    "__Question 5:__ Outline the steps you took to get to your final CNN architecture and your reasoning at each step.  Describe why you think the architecture is suitable for the current problem.\n",
    "\n",
    "__Answer:__ \n",
    "\n"
   ]
  },
  {
   "cell_type": "code",
   "execution_count": null,
   "metadata": {},
   "outputs": [],
   "source": [
    "### TODO: Define your architecture."
   ]
  },
  {
   "cell_type": "markdown",
   "metadata": {},
   "source": [
    "### (IMPLEMENTATION) Compile the Model"
   ]
  },
  {
   "cell_type": "code",
   "execution_count": null,
   "metadata": {},
   "outputs": [],
   "source": [
    "### TODO: Compile the model."
   ]
  },
  {
   "cell_type": "markdown",
   "metadata": {},
   "source": [
    "### (IMPLEMENTATION) Train the Model\n",
    "\n",
    "Train your model in the code cell below.  Use model checkpointing to save the model that attains the best validation loss.  \n",
    "\n",
    "You are welcome to [augment the training data](https://blog.keras.io/building-powerful-image-classification-models-using-very-little-data.html), but this is not a requirement. "
   ]
  },
  {
   "cell_type": "code",
   "execution_count": null,
   "metadata": {},
   "outputs": [],
   "source": [
    "### TODO: Train the model."
   ]
  },
  {
   "cell_type": "markdown",
   "metadata": {},
   "source": [
    "### (IMPLEMENTATION) Load the Model with the Best Validation Loss"
   ]
  },
  {
   "cell_type": "code",
   "execution_count": null,
   "metadata": {},
   "outputs": [],
   "source": [
    "### TODO: Load the model weights with the best validation loss."
   ]
  },
  {
   "cell_type": "markdown",
   "metadata": {},
   "source": [
    "### (IMPLEMENTATION) Test the Model\n",
    "\n",
    "Try out your model on the test dataset of dog images. Ensure that your test accuracy is greater than 60%."
   ]
  },
  {
   "cell_type": "code",
   "execution_count": null,
   "metadata": {},
   "outputs": [],
   "source": [
    "### TODO: Calculate classification accuracy on the test dataset."
   ]
  },
  {
   "cell_type": "markdown",
   "metadata": {},
   "source": [
    "### (IMPLEMENTATION) Predict Dog Breed with the Model\n",
    "\n",
    "Write a function that takes an image path as input and returns the dog breed (`Affenpinscher`, `Afghan_hound`, etc) that is predicted by your model.  \n",
    "\n",
    "Similar to the analogous function in Step 5, your function should have three steps:\n",
    "1. Extract the bottleneck features corresponding to the chosen CNN model.\n",
    "2. Supply the bottleneck features as input to the model to return the predicted vector.  Note that the argmax of this prediction vector gives the index of the predicted dog breed.\n",
    "3. Use the `dog_names` array defined in Step 0 of this notebook to return the corresponding breed.\n",
    "\n",
    "The functions to extract the bottleneck features can be found in `extract_bottleneck_features.py`, and they have been imported in an earlier code cell.  To obtain the bottleneck features corresponding to your chosen CNN architecture, you need to use the function\n",
    "\n",
    "    extract_{network}\n",
    "    \n",
    "where `{network}`, in the above filename, should be one of `VGG19`, `Resnet50`, `InceptionV3`, or `Xception`."
   ]
  },
  {
   "cell_type": "code",
   "execution_count": null,
   "metadata": {},
   "outputs": [],
   "source": [
    "### TODO: Write a function that takes a path to an image as input\n",
    "### and returns the dog breed that is predicted by the model."
   ]
  },
  {
   "cell_type": "markdown",
   "metadata": {},
   "source": [
    "---\n",
    "<a id='step6'></a>\n",
    "## Step 6: Write your Algorithm\n",
    "\n",
    "Write an algorithm that accepts a file path to an image and first determines whether the image contains a human, dog, or neither.  Then,\n",
    "- if a __dog__ is detected in the image, return the predicted breed.\n",
    "- if a __human__ is detected in the image, return the resembling dog breed.\n",
    "- if __neither__ is detected in the image, provide output that indicates an error.\n",
    "\n",
    "You are welcome to write your own functions for detecting humans and dogs in images, but feel free to use the `face_detector` and `dog_detector` functions developed above.  You are __required__ to use your CNN from Step 5 to predict dog breed.  \n",
    "\n",
    "Some sample output for our algorithm is provided below, but feel free to design your own user experience!\n",
    "\n",
    "![Sample Human Output](images/sample_human_output.png)\n",
    "\n",
    "\n",
    "### (IMPLEMENTATION) Write your Algorithm"
   ]
  },
  {
   "cell_type": "code",
   "execution_count": null,
   "metadata": {},
   "outputs": [],
   "source": [
    "### TODO: Write your algorithm.\n",
    "### Feel free to use as many code cells as needed."
   ]
  },
  {
   "cell_type": "markdown",
   "metadata": {},
   "source": [
    "---\n",
    "<a id='step7'></a>\n",
    "## Step 7: Test Your Algorithm\n",
    "\n",
    "In this section, you will take your new algorithm for a spin!  What kind of dog does the algorithm think that __you__ look like?  If you have a dog, does it predict your dog's breed accurately?  If you have a cat, does it mistakenly think that your cat is a dog?\n",
    "\n",
    "### (IMPLEMENTATION) Test Your Algorithm on Sample Images!\n",
    "\n",
    "Test your algorithm at least six images on your computer.  Feel free to use any images you like.  Use at least two human and two dog images.  \n",
    "\n",
    "__Question 6:__ Is the output better than you expected :) ?  Or worse :( ?  Provide at least three possible points of improvement for your algorithm.\n",
    "\n",
    "__Answer:__ "
   ]
  },
  {
   "cell_type": "code",
   "execution_count": null,
   "metadata": {},
   "outputs": [],
   "source": [
    "## TODO: Execute your algorithm from Step 6 on\n",
    "## at least 6 images on your computer.\n",
    "## Feel free to use as many code cells as needed."
   ]
  }
 ],
 "metadata": {
  "anaconda-cloud": {},
  "kernelspec": {
   "display_name": "Python [conda env:dog-project]",
   "language": "python",
   "name": "conda-env-dog-project-py"
  }
 },
 "nbformat": 4,
 "nbformat_minor": 1
}
