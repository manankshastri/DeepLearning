{
 "cells": [
  {
   "cell_type": "markdown",
   "metadata": {},
   "source": [
    "# Artificial Intelligence Nanodegree\n",
    "\n",
    "## Convolutional Neural Networks\n",
    "\n",
    "## Project: Write an Algorithm for a Dog Identification App \n",
    "\n",
    "---\n",
    "\n",
    "In this notebook, some template code has already been provided for you, and you will need to implement additional functionality to successfully complete this project. You will not need to modify the included code beyond what is requested. Sections that begin with **'(IMPLEMENTATION)'** in the header indicate that the following block of code will require additional functionality which you must provide. Instructions will be provided for each section, and the specifics of the implementation are marked in the code block with a 'TODO' statement. Please be sure to read the instructions carefully! \n",
    "\n",
    "> **Note**: Once you have completed all of the code implementations, you need to finalize your work by exporting the iPython Notebook as an HTML document. Before exporting the notebook to html, all of the code cells need to have been run so that reviewers can see the final implementation and output. You can then export the notebook by using the menu above and navigating to  \\n\",\n",
    "    \"**File -> Download as -> HTML (.html)**. Include the finished document along with this notebook as your submission.\n",
    "\n",
    "In addition to implementing code, there will be questions that you must answer which relate to the project and your implementation. Each section where you will answer a question is preceded by a **'Question X'** header. Carefully read each question and provide thorough answers in the following text boxes that begin with **'Answer:'**. Your project submission will be evaluated based on your answers to each of the questions and the implementation you provide.\n",
    "\n",
    ">**Note:** Code and Markdown cells can be executed using the **Shift + Enter** keyboard shortcut.  Markdown cells can be edited by double-clicking the cell to enter edit mode.\n",
    "\n",
    "The rubric contains _optional_ \"Stand Out Suggestions\" for enhancing the project beyond the minimum requirements. If you decide to pursue the \"Stand Out Suggestions\", you should include the code in this IPython notebook.\n",
    "\n",
    "\n",
    "\n",
    "---\n",
    "### Why We're Here \n",
    "\n",
    "In this notebook, you will make the first steps towards developing an algorithm that could be used as part of a mobile or web app.  At the end of this project, your code will accept any user-supplied image as input.  If a dog is detected in the image, it will provide an estimate of the dog's breed.  If a human is detected, it will provide an estimate of the dog breed that is most resembling.  The image below displays potential sample output of your finished project (... but we expect that each student's algorithm will behave differently!). \n",
    "\n",
    "![Sample Dog Output](images/sample_dog_output.png)\n",
    "\n",
    "In this real-world setting, you will need to piece together a series of models to perform different tasks; for instance, the algorithm that detects humans in an image will be different from the CNN that infers dog breed.  There are many points of possible failure, and no perfect algorithm exists.  Your imperfect solution will nonetheless create a fun user experience!\n",
    "\n",
    "### The Road Ahead\n",
    "\n",
    "We break the notebook into separate steps.  Feel free to use the links below to navigate the notebook.\n",
    "\n",
    "* [Step 0](#step0): Import Datasets\n",
    "* [Step 1](#step1): Detect Humans\n",
    "* [Step 2](#step2): Detect Dogs\n",
    "* [Step 3](#step3): Create a CNN to Classify Dog Breeds (from Scratch)\n",
    "* [Step 4](#step4): Use a CNN to Classify Dog Breeds (using Transfer Learning)\n",
    "* [Step 5](#step5): Create a CNN to Classify Dog Breeds (using Transfer Learning)\n",
    "* [Step 6](#step6): Write your Algorithm\n",
    "* [Step 7](#step7): Test Your Algorithm\n",
    "\n",
    "---\n",
    "<a id='step0'></a>\n",
    "## Step 0: Import Datasets\n",
    "\n",
    "### Import Dog Dataset\n",
    "\n",
    "In the code cell below, we import a dataset of dog images.  We populate a few variables through the use of the `load_files` function from the scikit-learn library:\n",
    "- `train_files`, `valid_files`, `test_files` - numpy arrays containing file paths to images\n",
    "- `train_targets`, `valid_targets`, `test_targets` - numpy arrays containing onehot-encoded classification labels \n",
    "- `dog_names` - list of string-valued dog breed names for translating labels"
   ]
  },
  {
   "cell_type": "code",
   "execution_count": 1,
   "metadata": {},
   "outputs": [
    {
     "name": "stderr",
     "output_type": "stream",
     "text": [
      "Using TensorFlow backend.\n"
     ]
    },
    {
     "name": "stdout",
     "output_type": "stream",
     "text": [
      "There are 133 total dog categories.\n",
      "There are 8351 total dog images.\n",
      "\n",
      "There are 6680 training dog images.\n",
      "There are 835 validation dog images.\n",
      "There are 836 test dog images.\n"
     ]
    }
   ],
   "source": [
    "from sklearn.datasets import load_files       \n",
    "from keras.utils import np_utils\n",
    "import numpy as np\n",
    "from glob import glob\n",
    "\n",
    "# define function to load train, test, and validation datasets\n",
    "def load_dataset(path):\n",
    "    data = load_files(path)\n",
    "    dog_files = np.array(data['filenames'])\n",
    "    dog_targets = np_utils.to_categorical(np.array(data['target']), 133)\n",
    "    return dog_files, dog_targets\n",
    "\n",
    "# load train, test, and validation datasets\n",
    "train_files, train_targets = load_dataset('dogImages/train')\n",
    "valid_files, valid_targets = load_dataset('dogImages/valid')\n",
    "test_files, test_targets = load_dataset('dogImages/test')\n",
    "\n",
    "# load list of dog names\n",
    "dog_names = [item[20:-1] for item in sorted(glob(\"dogImages/train/*/\"))]\n",
    "\n",
    "# print statistics about the dataset\n",
    "print('There are %d total dog categories.' % len(dog_names))\n",
    "print('There are %s total dog images.\\n' % len(np.hstack([train_files, valid_files, test_files])))\n",
    "print('There are %d training dog images.' % len(train_files))\n",
    "print('There are %d validation dog images.' % len(valid_files))\n",
    "print('There are %d test dog images.'% len(test_files))"
   ]
  },
  {
   "cell_type": "markdown",
   "metadata": {},
   "source": [
    "### Import Human Dataset\n",
    "\n",
    "In the code cell below, we import a dataset of human images, where the file paths are stored in the numpy array `human_files`."
   ]
  },
  {
   "cell_type": "code",
   "execution_count": 2,
   "metadata": {},
   "outputs": [
    {
     "name": "stdout",
     "output_type": "stream",
     "text": [
      "There are 13233 total human images.\n"
     ]
    }
   ],
   "source": [
    "import random\n",
    "random.seed(8675309)\n",
    "\n",
    "# load filenames in shuffled human dataset\n",
    "human_files = np.array(glob(\"lfw/*/*\"))\n",
    "random.shuffle(human_files)\n",
    "\n",
    "# print statistics about the dataset\n",
    "print('There are %d total human images.' % len(human_files))"
   ]
  },
  {
   "cell_type": "markdown",
   "metadata": {},
   "source": [
    "---\n",
    "<a id='step1'></a>\n",
    "## Step 1: Detect Humans\n",
    "\n",
    "We use OpenCV's implementation of [Haar feature-based cascade classifiers](http://docs.opencv.org/trunk/d7/d8b/tutorial_py_face_detection.html) to detect human faces in images.  OpenCV provides many pre-trained face detectors, stored as XML files on [github](https://github.com/opencv/opencv/tree/master/data/haarcascades).  We have downloaded one of these detectors and stored it in the `haarcascades` directory.\n",
    "\n",
    "In the next code cell, we demonstrate how to use this detector to find human faces in a sample image."
   ]
  },
  {
   "cell_type": "code",
   "execution_count": 3,
   "metadata": {
    "scrolled": true
   },
   "outputs": [
    {
     "name": "stdout",
     "output_type": "stream",
     "text": [
      "Number of faces detected: 1\n"
     ]
    },
    {
     "data": {
      "image/png": "[encoded data removed]",
      "text/plain": [
       "<matplotlib.figure.Figure at 0x1202518>"
      ]
     },
     "metadata": {},
     "output_type": "display_data"
    }
   ],
   "source": [
    "import cv2                \n",
    "import matplotlib.pyplot as plt                        \n",
    "%matplotlib inline                               \n",
    "\n",
    "# extract pre-trained face detector\n",
    "face_cascade = cv2.CascadeClassifier('haarcascades/haarcascade_frontalface_alt.xml')\n",
    "\n",
    "# load color (BGR) image\n",
    "img = cv2.imread(human_files[1])\n",
    "# convert BGR image to grayscale\n",
    "gray = cv2.cvtColor(img, cv2.COLOR_BGR2GRAY)\n",
    "\n",
    "# find faces in image\n",
    "faces = face_cascade.detectMultiScale(gray)\n",
    "\n",
    "# print number of faces detected in the image\n",
    "print('Number of faces detected:', len(faces))\n",
    "\n",
    "# get bounding box for each detected face\n",
    "for (x,y,w,h) in faces:\n",
    "    # add bounding box to color image\n",
    "    cv2.rectangle(img,(x,y),(x+w,y+h),(255,0,0),2)\n",
    "    \n",
    "# convert BGR image to RGB for plotting\n",
    "cv_rgb = cv2.cvtColor(img, cv2.COLOR_BGR2RGB)\n",
    "\n",
    "# display the image, along with bounding box\n",
    "plt.imshow(cv_rgb)\n",
    "plt.show()"
   ]
  },
  {
   "cell_type": "markdown",
   "metadata": {},
   "source": [
    "Before using any of the face detectors, it is standard procedure to convert the images to grayscale.  The `detectMultiScale` function executes the classifier stored in `face_cascade` and takes the grayscale image as a parameter.  \n",
    "\n",
    "In the above code, `faces` is a numpy array of detected faces, where each row corresponds to a detected face.  Each detected face is a 1D array with four entries that specifies the bounding box of the detected face.  The first two entries in the array (extracted in the above code as `x` and `y`) specify the horizontal and vertical positions of the top left corner of the bounding box.  The last two entries in the array (extracted here as `w` and `h`) specify the width and height of the box.\n",
    "\n",
    "### Write a Human Face Detector\n",
    "\n",
    "We can use this procedure to write a function that returns `True` if a human face is detected in an image and `False` otherwise.  This function, aptly named `face_detector`, takes a string-valued file path to an image as input and appears in the code block below."
   ]
  },
  {
   "cell_type": "code",
   "execution_count": 4,
   "metadata": {},
   "outputs": [],
   "source": [
    "# returns \"True\" if face is detected in image stored at img_path\n",
    "def face_detector(img_path):\n",
    "    img = cv2.imread(img_path)\n",
    "    gray = cv2.cvtColor(img, cv2.COLOR_BGR2GRAY)\n",
    "    faces = face_cascade.detectMultiScale(gray)\n",
    "    return len(faces) > 0"
   ]
  },
  {
   "cell_type": "markdown",
   "metadata": {},
   "source": [
    "### (IMPLEMENTATION) Assess the Human Face Detector\n",
    "\n",
    "__Question 1:__ Use the code cell below to test the performance of the `face_detector` function.  \n",
    "- What percentage of the first 100 images in `human_files` have a detected human face?  \n",
    "- What percentage of the first 100 images in `dog_files` have a detected human face? \n",
    "\n",
    "Ideally, we would like 100% of human images with a detected face and 0% of dog images with a detected face.  You will see that our algorithm falls short of this goal, but still gives acceptable performance.  We extract the file paths for the first 100 images from each of the datasets and store them in the numpy arrays `human_files_short` and `dog_files_short`.\n",
    "\n",
    "__Answer:__ "
   ]
  },
  {
   "cell_type": "code",
   "execution_count": 5,
   "metadata": {},
   "outputs": [
    {
     "name": "stdout",
     "output_type": "stream",
     "text": [
      "99.0% human faces detected in human files\n",
      "11.0% human faces detected in dog files\n"
     ]
    }
   ],
   "source": [
    "human_files_short = human_files[:100]\n",
    "dog_files_short = train_files[:100]\n",
    "# Do NOT modify the code above this line.\n",
    "\n",
    "## TODO: Test the performance of the face_detector algorithm \n",
    "## on the images in human_files_short and dog_files_short.\n",
    "h_in_h = 100 * np.sum([face_detector(i) for i in human_files_short]) / len(human_files_short)\n",
    "h_in_d = 100 * np.sum([face_detector(i) for i in dog_files_short]) / len(dog_files_short)\n",
    "print(\"{}% human faces detected in human files\".format(h_in_h))\n",
    "print(\"{}% human faces detected in dog files\".format(h_in_d))"
   ]
  },
  {
   "cell_type": "markdown",
   "metadata": {},
   "source": [
    "__Question 2:__ This algorithmic choice necessitates that we communicate to the user that we accept human images only when they provide a clear view of a face (otherwise, we risk having unneccessarily frustrated users!). In your opinion, is this a reasonable expectation to pose on the user? If not, can you think of a way to detect humans in images that does not necessitate an image with a clearly presented face?\n",
    "\n",
    "__Answer:__\n",
    "\n",
    "We suggest the face detector from OpenCV as a potential way to detect human images in your algorithm, but you are free to explore other approaches, especially approaches that make use of deep learning :).  Please use the code cell below to design and test your own face detection algorithm.  If you decide to pursue this _optional_ task, report performance on each of the datasets."
   ]
  },
  {
   "cell_type": "code",
   "execution_count": null,
   "metadata": {},
   "outputs": [],
   "source": [
    "## (Optional) TODO: Report the performance of another  \n",
    "## face detection algorithm on the LFW dataset\n",
    "### Feel free to use as many code cells as needed."
   ]
  },
  {
   "cell_type": "markdown",
   "metadata": {},
   "source": [
    "---\n",
    "<a id='step2'></a>\n",
    "## Step 2: Detect Dogs\n",
    "\n",
    "In this section, we use a pre-trained [ResNet-50](http://ethereon.github.io/netscope/#/gist/db945b393d40bfa26006) model to detect dogs in images.  Our first line of code downloads the ResNet-50 model, along with weights that have been trained on [ImageNet](http://www.image-net.org/), a very large, very popular dataset used for image classification and other vision tasks.  ImageNet contains over 10 million URLs, each linking to an image containing an object from one of [1000 categories](https://gist.github.com/yrevar/942d3a0ac09ec9e5eb3a).  Given an image, this pre-trained ResNet-50 model returns a prediction (derived from the available categories in ImageNet) for the object that is contained in the image."
   ]
  },
  {
   "cell_type": "code",
   "execution_count": 6,
   "metadata": {},
   "outputs": [],
   "source": [
    "from keras.applications.resnet50 import ResNet50\n",
    "\n",
    "# define ResNet50 model\n",
    "ResNet50_model = ResNet50(weights='imagenet')"
   ]
  },
  {
   "cell_type": "markdown",
   "metadata": {},
   "source": [
    "### Pre-process the Data\n",
    "\n",
    "When using TensorFlow as backend, Keras CNNs require a 4D array (which we'll also refer to as a 4D tensor) as input, with shape\n",
    "\n",
    "$$\n",
    "(\\text{nb_samples}, \\text{rows}, \\text{columns}, \\text{channels}),\n",
    "$$\n",
    "\n",
    "where `nb_samples` corresponds to the total number of images (or samples), and `rows`, `columns`, and `channels` correspond to the number of rows, columns, and channels for each image, respectively.  \n",
    "\n",
    "The `path_to_tensor` function below takes a string-valued file path to a color image as input and returns a 4D tensor suitable for supplying to a Keras CNN.  The function first loads the image and resizes it to a square image that is $224 \\times 224$ pixels.  Next, the image is converted to an array, which is then resized to a 4D tensor.  In this case, since we are working with color images, each image has three channels.  Likewise, since we are processing a single image (or sample), the returned tensor will always have shape\n",
    "\n",
    "$$\n",
    "(1, 224, 224, 3).\n",
    "$$\n",
    "\n",
    "The `paths_to_tensor` function takes a numpy array of string-valued image paths as input and returns a 4D tensor with shape \n",
    "\n",
    "$$\n",
    "(\\text{nb_samples}, 224, 224, 3).\n",
    "$$\n",
    "\n",
    "Here, `nb_samples` is the number of samples, or number of images, in the supplied array of image paths.  It is best to think of `nb_samples` as the number of 3D tensors (where each 3D tensor corresponds to a different image) in your dataset!"
   ]
  },
  {
   "cell_type": "code",
   "execution_count": 7,
   "metadata": {},
   "outputs": [],
   "source": [
    "from keras.preprocessing import image                  \n",
    "from tqdm import tqdm\n",
    "\n",
    "def path_to_tensor(img_path):\n",
    "    # loads RGB image as PIL.Image.Image type\n",
    "    img = image.load_img(img_path, target_size=(224, 224))\n",
    "    # convert PIL.Image.Image type to 3D tensor with shape (224, 224, 3)\n",
    "    x = image.img_to_array(img)\n",
    "    # convert 3D tensor to 4D tensor with shape (1, 224, 224, 3) and return 4D tensor\n",
    "    return np.expand_dims(x, axis=0)\n",
    "\n",
    "def paths_to_tensor(img_paths):\n",
    "    list_of_tensors = [path_to_tensor(img_path) for img_path in tqdm(img_paths)]\n",
    "    return np.vstack(list_of_tensors)"
   ]
  },
  {
   "cell_type": "markdown",
   "metadata": {},
   "source": [
    "### Making Predictions with ResNet-50\n",
    "\n",
    "Getting the 4D tensor ready for ResNet-50, and for any other pre-trained model in Keras, requires some additional processing.  First, the RGB image is converted to BGR by reordering the channels.  All pre-trained models have the additional normalization step that the mean pixel (expressed in RGB as $[103.939, 116.779, 123.68]$ and calculated from all pixels in all images in ImageNet) must be subtracted from every pixel in each image.  This is implemented in the imported function `preprocess_input`.  If you're curious, you can check the code for `preprocess_input` [here](https://github.com/fchollet/keras/blob/master/keras/applications/imagenet_utils.py).\n",
    "\n",
    "Now that we have a way to format our image for supplying to ResNet-50, we are now ready to use the model to extract the predictions.  This is accomplished with the `predict` method, which returns an array whose $i$-th entry is the model's predicted probability that the image belongs to the $i$-th ImageNet category.  This is implemented in the `ResNet50_predict_labels` function below.\n",
    "\n",
    "By taking the argmax of the predicted probability vector, we obtain an integer corresponding to the model's predicted object class, which we can identify with an object category through the use of this [dictionary](https://gist.github.com/yrevar/942d3a0ac09ec9e5eb3a). "
   ]
  },
  {
   "cell_type": "code",
   "execution_count": 8,
   "metadata": {},
   "outputs": [],
   "source": [
    "from keras.applications.resnet50 import preprocess_input, decode_predictions\n",
    "\n",
    "def ResNet50_predict_labels(img_path):\n",
    "    # returns prediction vector for image located at img_path\n",
    "    img = preprocess_input(path_to_tensor(img_path))\n",
    "    return np.argmax(ResNet50_model.predict(img))"
   ]
  },
  {
   "cell_type": "markdown",
   "metadata": {},
   "source": [
    "### Write a Dog Detector\n",
    "\n",
    "While looking at the [dictionary](https://gist.github.com/yrevar/942d3a0ac09ec9e5eb3a), you will notice that the categories corresponding to dogs appear in an uninterrupted sequence and correspond to dictionary keys 151-268, inclusive, to include all categories from `'Chihuahua'` to `'Mexican hairless'`.  Thus, in order to check to see if an image is predicted to contain a dog by the pre-trained ResNet-50 model, we need only check if the `ResNet50_predict_labels` function above returns a value between 151 and 268 (inclusive).\n",
    "\n",
    "We use these ideas to complete the `dog_detector` function below, which returns `True` if a dog is detected in an image (and `False` if not)."
   ]
  },
  {
   "cell_type": "code",
   "execution_count": 9,
   "metadata": {},
   "outputs": [],
   "source": [
    "### returns \"True\" if a dog is detected in the image stored at img_path\n",
    "def dog_detector(img_path):\n",
    "    prediction = ResNet50_predict_labels(img_path)\n",
    "    return ((prediction <= 268) & (prediction >= 151)) "
   ]
  },
  {
   "cell_type": "markdown",
   "metadata": {},
   "source": [
    "### (IMPLEMENTATION) Assess the Dog Detector\n",
    "\n",
    "__Question 3:__ Use the code cell below to test the performance of your `dog_detector` function.  \n",
    "- What percentage of the images in `human_files_short` have a detected dog?  \n",
    "- What percentage of the images in `dog_files_short` have a detected dog?\n",
    "\n",
    "__Answer:__ "
   ]
  },
  {
   "cell_type": "code",
   "execution_count": 10,
   "metadata": {},
   "outputs": [
    {
     "name": "stdout",
     "output_type": "stream",
     "text": [
      "1.0% images in human files have a detected dog\n",
      "100.0% images in dog files have a detected dog\n"
     ]
    }
   ],
   "source": [
    "### TODO: Test the performance of the dog_detector function\n",
    "### on the images in human_files_short and dog_files_short.\n",
    "dd1 = 100 * np.sum([dog_detector(i) for i in human_files_short]) / len(human_files_short)\n",
    "dd2 = 100 * np.sum([dog_detector(i) for i in dog_files_short]) / len(dog_files_short)\n",
    "print(\"{}% images in human files have a detected dog\".format(dd1))\n",
    "print(\"{}% images in dog files have a detected dog\".format(dd2))"
   ]
  },
  {
   "cell_type": "markdown",
   "metadata": {},
   "source": [
    "---\n",
    "<a id='step3'></a>\n",
    "## Step 3: Create a CNN to Classify Dog Breeds (from Scratch)\n",
    "\n",
    "Now that we have functions for detecting humans and dogs in images, we need a way to predict breed from images.  In this step, you will create a CNN that classifies dog breeds.  You must create your CNN _from scratch_ (so, you can't use transfer learning _yet_!), and you must attain a test accuracy of at least 1%.  In Step 5 of this notebook, you will have the opportunity to use transfer learning to create a CNN that attains greatly improved accuracy.\n",
    "\n",
    "Be careful with adding too many trainable layers!  More parameters means longer training, which means you are more likely to need a GPU to accelerate the training process.  Thankfully, Keras provides a handy estimate of the time that each epoch is likely to take; you can extrapolate this estimate to figure out how long it will take for your algorithm to train. \n",
    "\n",
    "We mention that the task of assigning breed to dogs from images is considered exceptionally challenging.  To see why, consider that *even a human* would have great difficulty in distinguishing between a Brittany and a Welsh Springer Spaniel.  \n",
    "\n",
    "Brittany | Welsh Springer Spaniel\n",
    "- | - \n",
    "<img src=\"images/Brittany_02625.jpg\" width=\"100\"> | <img src=\"images/Welsh_springer_spaniel_08203.jpg\" width=\"200\">\n",
    "\n",
    "It is not difficult to find other dog breed pairs with minimal inter-class variation (for instance, Curly-Coated Retrievers and American Water Spaniels).  \n",
    "\n",
    "Curly-Coated Retriever | American Water Spaniel\n",
    "- | -\n",
    "<img src=\"images/Curly-coated_retriever_03896.jpg\" width=\"200\"> | <img src=\"images/American_water_spaniel_00648.jpg\" width=\"200\">\n",
    "\n",
    "\n",
    "Likewise, recall that labradors come in yellow, chocolate, and black.  Your vision-based algorithm will have to conquer this high intra-class variation to determine how to classify all of these different shades as the same breed.  \n",
    "\n",
    "Yellow Labrador | Chocolate Labrador | Black Labrador\n",
    "- | -\n",
    "<img src=\"images/Labrador_retriever_06457.jpg\" width=\"150\"> | <img src=\"images/Labrador_retriever_06455.jpg\" width=\"240\"> | <img src=\"images/Labrador_retriever_06449.jpg\" width=\"220\">\n",
    "\n",
    "We also mention that random chance presents an exceptionally low bar: setting aside the fact that the classes are slightly imabalanced, a random guess will provide a correct answer roughly 1 in 133 times, which corresponds to an accuracy of less than 1%.  \n",
    "\n",
    "Remember that the practice is far ahead of the theory in deep learning.  Experiment with many different architectures, and trust your intuition.  And, of course, have fun! \n",
    "\n",
    "### Pre-process the Data\n",
    "\n",
    "We rescale the images by dividing every pixel in every image by 255."
   ]
  },
  {
   "cell_type": "code",
   "execution_count": 14,
   "metadata": {},
   "outputs": [
    {
     "name": "stderr",
     "output_type": "stream",
     "text": [
      "100%|██████████████████████████████████████| 6680/6680 [06:25<00:00, 17.31it/s]\n"
     ]
    },
    {
     "ename": "MemoryError",
     "evalue": "",
     "output_type": "error",
     "traceback": [
      "\u001b[1;31m---------------------------------------------------------------------------\u001b[0m",
      "\u001b[1;31mMemoryError\u001b[0m                               Traceback (most recent call last)",
      "\u001b[1;32m<ipython-input-14-b4bbddf9361b>\u001b[0m in \u001b[0;36m<module>\u001b[1;34m()\u001b[0m\n\u001b[0;32m      3\u001b[0m \u001b[1;33m\u001b[0m\u001b[0m\n\u001b[0;32m      4\u001b[0m \u001b[1;31m# pre-process the data for Keras\u001b[0m\u001b[1;33m\u001b[0m\u001b[1;33m\u001b[0m\u001b[0m\n\u001b[1;32m----> 5\u001b[1;33m \u001b[0mtrain_tensors\u001b[0m \u001b[1;33m=\u001b[0m \u001b[0mpaths_to_tensor\u001b[0m\u001b[1;33m(\u001b[0m\u001b[0mtrain_files\u001b[0m\u001b[1;33m)\u001b[0m\u001b[1;33m.\u001b[0m\u001b[0mastype\u001b[0m\u001b[1;33m(\u001b[0m\u001b[1;34m'float32'\u001b[0m\u001b[1;33m)\u001b[0m\u001b[1;33m/\u001b[0m\u001b[1;36m255\u001b[0m\u001b[1;33m\u001b[0m\u001b[0m\n\u001b[0m",
      "\u001b[1;32m<ipython-input-7-9833cb6218f3>\u001b[0m in \u001b[0;36mpaths_to_tensor\u001b[1;34m(img_paths)\u001b[0m\n\u001b[0;32m     12\u001b[0m \u001b[1;32mdef\u001b[0m \u001b[0mpaths_to_tensor\u001b[0m\u001b[1;33m(\u001b[0m\u001b[0mimg_paths\u001b[0m\u001b[1;33m)\u001b[0m\u001b[1;33m:\u001b[0m\u001b[1;33m\u001b[0m\u001b[0m\n\u001b[0;32m     13\u001b[0m     \u001b[0mlist_of_tensors\u001b[0m \u001b[1;33m=\u001b[0m \u001b[1;33m[\u001b[0m\u001b[0mpath_to_tensor\u001b[0m\u001b[1;33m(\u001b[0m\u001b[0mimg_path\u001b[0m\u001b[1;33m)\u001b[0m \u001b[1;32mfor\u001b[0m \u001b[0mimg_path\u001b[0m \u001b[1;32min\u001b[0m \u001b[0mtqdm\u001b[0m\u001b[1;33m(\u001b[0m\u001b[0mimg_paths\u001b[0m\u001b[1;33m)\u001b[0m\u001b[1;33m]\u001b[0m\u001b[1;33m\u001b[0m\u001b[0m\n\u001b[1;32m---> 14\u001b[1;33m     \u001b[1;32mreturn\u001b[0m \u001b[0mnp\u001b[0m\u001b[1;33m.\u001b[0m\u001b[0mvstack\u001b[0m\u001b[1;33m(\u001b[0m\u001b[0mlist_of_tensors\u001b[0m\u001b[1;33m)\u001b[0m\u001b[1;33m\u001b[0m\u001b[0m\n\u001b[0m",
      "\u001b[1;32mC:\\Users\\Anup\\Anaconda3\\envs\\dog-project\\lib\\site-packages\\numpy\\core\\shape_base.py\u001b[0m in \u001b[0;36mvstack\u001b[1;34m(tup)\u001b[0m\n\u001b[0;32m    228\u001b[0m \u001b[1;33m\u001b[0m\u001b[0m\n\u001b[0;32m    229\u001b[0m     \"\"\"\n\u001b[1;32m--> 230\u001b[1;33m     \u001b[1;32mreturn\u001b[0m \u001b[0m_nx\u001b[0m\u001b[1;33m.\u001b[0m\u001b[0mconcatenate\u001b[0m\u001b[1;33m(\u001b[0m\u001b[1;33m[\u001b[0m\u001b[0matleast_2d\u001b[0m\u001b[1;33m(\u001b[0m\u001b[0m_m\u001b[0m\u001b[1;33m)\u001b[0m \u001b[1;32mfor\u001b[0m \u001b[0m_m\u001b[0m \u001b[1;32min\u001b[0m \u001b[0mtup\u001b[0m\u001b[1;33m]\u001b[0m\u001b[1;33m,\u001b[0m \u001b[1;36m0\u001b[0m\u001b[1;33m)\u001b[0m\u001b[1;33m\u001b[0m\u001b[0m\n\u001b[0m\u001b[0;32m    231\u001b[0m \u001b[1;33m\u001b[0m\u001b[0m\n\u001b[0;32m    232\u001b[0m \u001b[1;32mdef\u001b[0m \u001b[0mhstack\u001b[0m\u001b[1;33m(\u001b[0m\u001b[0mtup\u001b[0m\u001b[1;33m)\u001b[0m\u001b[1;33m:\u001b[0m\u001b[1;33m\u001b[0m\u001b[0m\n",
      "\u001b[1;31mMemoryError\u001b[0m: "
     ]
    }
   ],
   "source": [
    "from PIL import ImageFile                            \n",
    "ImageFile.LOAD_TRUNCATED_IMAGES = True                 \n",
    "\n",
    "# pre-process the data for Keras\n",
    "train_tensors = paths_to_tensor(train_files).astype('float32')/255"
   ]
  },
  {
   "cell_type": "code",
   "execution_count": 12,
   "metadata": {},
   "outputs": [
    {
     "name": "stderr",
     "output_type": "stream",
     "text": [
      "100%|████████████████████████████████████████| 835/835 [02:18<00:00, 13.94it/s]\n"
     ]
    }
   ],
   "source": [
    "valid_tensors = paths_to_tensor(valid_files).astype('float32')/255"
   ]
  },
  {
   "cell_type": "code",
   "execution_count": 13,
   "metadata": {},
   "outputs": [
    {
     "name": "stderr",
     "output_type": "stream",
     "text": [
      "100%|████████████████████████████████████████| 836/836 [00:49<00:00, 16.94it/s]\n"
     ]
    }
   ],
   "source": [
    "test_tensors = paths_to_tensor(test_files).astype('float32')/255"
   ]
  },
  {
   "cell_type": "markdown",
   "metadata": {},
   "source": [
    "### (IMPLEMENTATION) Model Architecture\n",
    "\n",
    "Create a CNN to classify dog breed.  At the end of your code cell block, summarize the layers of your model by executing the line:\n",
    "    \n",
    "        model.summary()\n",
    "\n",
    "We have imported some Python modules to get you started, but feel free to import as many modules as you need.  If you end up getting stuck, here's a hint that specifies a model that trains relatively fast on CPU and attains >1% test accuracy in 5 epochs:\n",
    "\n",
    "![Sample CNN](images/sample_cnn.png)\n",
    "           \n",
    "__Question 4:__ Outline the steps you took to get to your final CNN architecture and your reasoning at each step.  If you chose to use the hinted architecture above, describe why you think that CNN architecture should work well for the image classification task.\n",
    "\n",
    "__Answer:__ "
   ]
  },
  {
   "cell_type": "code",
   "execution_count": 17,
   "metadata": {},
   "outputs": [
    {
     "name": "stdout",
     "output_type": "stream",
     "text": [
      "_________________________________________________________________\n",
      "Layer (type)                 Output Shape              Param #   \n",
      "=================================================================\n",
      "conv2d_7 (Conv2D)            (None, 224, 224, 32)      896       \n",
      "_________________________________________________________________\n",
      "max_pooling2d_8 (MaxPooling2 (None, 112, 112, 32)      0         \n",
      "_________________________________________________________________\n",
      "dropout_7 (Dropout)          (None, 112, 112, 32)      0         \n",
      "_________________________________________________________________\n",
      "conv2d_8 (Conv2D)            (None, 112, 112, 32)      9248      \n",
      "_________________________________________________________________\n",
      "max_pooling2d_9 (MaxPooling2 (None, 56, 56, 32)        0         \n",
      "_________________________________________________________________\n",
      "dropout_8 (Dropout)          (None, 56, 56, 32)        0         \n",
      "_________________________________________________________________\n",
      "conv2d_9 (Conv2D)            (None, 56, 56, 32)        9248      \n",
      "_________________________________________________________________\n",
      "max_pooling2d_10 (MaxPooling (None, 28, 28, 32)        0         \n",
      "_________________________________________________________________\n",
      "dropout_9 (Dropout)          (None, 28, 28, 32)        0         \n",
      "_________________________________________________________________\n",
      "global_average_pooling2d_3 ( (None, 32)                0         \n",
      "_________________________________________________________________\n",
      "dropout_10 (Dropout)         (None, 32)                0         \n",
      "_________________________________________________________________\n",
      "dense_1 (Dense)              (None, 133)               4389      \n",
      "=================================================================\n",
      "Total params: 23,781.0\n",
      "Trainable params: 23,781.0\n",
      "Non-trainable params: 0.0\n",
      "_________________________________________________________________\n"
     ]
    }
   ],
   "source": [
    "from keras.layers import Conv2D, MaxPooling2D, GlobalAveragePooling2D\n",
    "from keras.layers import Dropout, Flatten, Dense\n",
    "from keras.models import Sequential\n",
    "\n",
    "model = Sequential()\n",
    "\n",
    "### TODO: Define your architecture.\n",
    "model.add(Conv2D(32, (3,3), padding='same', activation='relu', input_shape=train_tensors[0].shape))\n",
    "model.add(MaxPooling2D(pool_size=2, padding='same'))\n",
    "model.add(Dropout(0.3))\n",
    "model.add(Conv2D(32, (3,3), padding='same', activation='relu'))\n",
    "model.add(MaxPooling2D(pool_size=2, padding='same'))\n",
    "model.add(Dropout(0.3))\n",
    "model.add(Conv2D(32, (3,3), padding='same', activation='relu'))\n",
    "model.add(MaxPooling2D(pool_size=2, padding='same'))\n",
    "model.add(Dropout(0.3))\n",
    "model.add(GlobalAveragePooling2D())\n",
    "#model.add(Flatten())\n",
    "model.add(Dropout(0.3))\n",
    "model.add(Dense(133, activation='softmax'))\n",
    "\n",
    "model.summary()"
   ]
  },
  {
   "cell_type": "markdown",
   "metadata": {},
   "source": [
    "### Compile the Model"
   ]
  },
  {
   "cell_type": "code",
   "execution_count": 18,
   "metadata": {},
   "outputs": [],
   "source": [
    "model.compile(optimizer='rmsprop', loss='categorical_crossentropy', metrics=['accuracy'])"
   ]
  },
  {
   "cell_type": "markdown",
   "metadata": {},
   "source": [
    "### (IMPLEMENTATION) Train the Model\n",
    "\n",
    "Train your model in the code cell below.  Use model checkpointing to save the model that attains the best validation loss.\n",
    "\n",
    "You are welcome to [augment the training data](https://blog.keras.io/building-powerful-image-classification-models-using-very-little-data.html), but this is not a requirement. "
   ]
  },
  {
   "cell_type": "code",
   "execution_count": 19,
   "metadata": {},
   "outputs": [
    {
     "name": "stdout",
     "output_type": "stream",
     "text": [
      "Train on 6680 samples, validate on 835 samples\n",
      "Epoch 1/5\n"
     ]
    },
    {
     "name": "stdout",
     "output_type": "stream",
     "text": [
      "4040/6680 [=================>............] - ETA: 17050s - loss: 4.9218 - acc: 0.0000e+0 - ETA: 9114s - loss: 4.9104 - acc: 0.0000e+0 - ETA: 6566s - loss: 4.9047 - acc: 0.0000e+ - ETA: 5253s - loss: 4.8975 - acc: 0.0000e+ - ETA: 4445s - loss: 4.9019 - acc: 0.0100   - ETA: 3915s - loss: 4.9044 - acc: 0.00 - ETA: 3539s - loss: 4.9047 - acc: 0.00 - ETA: 3265s - loss: 4.9058 - acc: 0.00 - ETA: 3018s - loss: 4.9034 - acc: 0.00 - ETA: 2842s - loss: 4.8965 - acc: 0.01 - ETA: 2677s - loss: 4.8960 - acc: 0.00 - ETA: 2554s - loss: 4.9008 - acc: 0.00 - ETA: 2475s - loss: 4.8993 - acc: 0.00 - ETA: 2390s - loss: 4.8975 - acc: 0.00 - ETA: 2289s - loss: 4.8960 - acc: 0.00 - ETA: 2212s - loss: 4.8946 - acc: 0.00 - ETA: 2144s - loss: 4.8958 - acc: 0.00 - ETA: 2078s - loss: 4.8982 - acc: 0.00 - ETA: 2018s - loss: 4.8987 - acc: 0.00 - ETA: 1961s - loss: 4.8976 - acc: 0.00 - ETA: 1918s - loss: 4.8963 - acc: 0.00 - ETA: 1881s - loss: 4.8975 - acc: 0.00 - ETA: 1846s - loss: 4.8975 - acc: 0.00 - ETA: 1809s - loss: 4.8970 - acc: 0.00 - ETA: 1773s - loss: 4.8960 - acc: 0.00 - ETA: 1736s - loss: 4.8958 - acc: 0.00 - ETA: 1704s - loss: 4.8969 - acc: 0.00 - ETA: 1682s - loss: 4.8966 - acc: 0.00 - ETA: 1653s - loss: 4.8966 - acc: 0.00 - ETA: 1625s - loss: 4.8961 - acc: 0.00 - ETA: 1590s - loss: 4.8964 - acc: 0.00 - ETA: 1570s - loss: 4.8964 - acc: 0.00 - ETA: 1557s - loss: 4.8966 - acc: 0.00 - ETA: 1535s - loss: 4.8959 - acc: 0.00 - ETA: 1517s - loss: 4.8949 - acc: 0.00 - ETA: 1503s - loss: 4.8939 - acc: 0.00 - ETA: 1490s - loss: 4.8935 - acc: 0.00 - ETA: 1481s - loss: 4.8933 - acc: 0.00 - ETA: 1465s - loss: 4.8927 - acc: 0.00 - ETA: 1447s - loss: 4.8927 - acc: 0.00 - ETA: 1436s - loss: 4.8927 - acc: 0.00 - ETA: 1427s - loss: 4.8932 - acc: 0.00 - ETA: 1415s - loss: 4.8917 - acc: 0.00 - ETA: 1399s - loss: 4.8914 - acc: 0.00 - ETA: 1383s - loss: 4.8920 - acc: 0.00 - ETA: 1367s - loss: 4.8909 - acc: 0.00 - ETA: 1347s - loss: 4.8918 - acc: 0.00 - ETA: 1331s - loss: 4.8920 - acc: 0.00 - ETA: 1316s - loss: 4.8915 - acc: 0.00 - ETA: 1298s - loss: 4.8912 - acc: 0.00 - ETA: 1280s - loss: 4.8913 - acc: 0.00 - ETA: 1265s - loss: 4.8910 - acc: 0.00 - ETA: 1250s - loss: 4.8917 - acc: 0.00 - ETA: 1235s - loss: 4.8923 - acc: 0.00 - ETA: 1220s - loss: 4.8923 - acc: 0.00 - ETA: 1206s - loss: 4.8917 - acc: 0.00 - ETA: 1195s - loss: 4.8909 - acc: 0.00 - ETA: 1183s - loss: 4.8915 - acc: 0.00 - ETA: 1175s - loss: 4.8914 - acc: 0.00 - ETA: 1169s - loss: 4.8915 - acc: 0.00 - ETA: 1166s - loss: 4.8912 - acc: 0.00 - ETA: 1160s - loss: 4.8906 - acc: 0.00 - ETA: 1152s - loss: 4.8916 - acc: 0.00 - ETA: 1145s - loss: 4.8913 - acc: 0.00 - ETA: 1139s - loss: 4.8917 - acc: 0.00 - ETA: 1141s - loss: 4.8916 - acc: 0.00 - ETA: 1132s - loss: 4.8925 - acc: 0.00 - ETA: 1125s - loss: 4.8922 - acc: 0.00 - ETA: 1115s - loss: 4.8924 - acc: 0.00 - ETA: 1106s - loss: 4.8924 - acc: 0.00 - ETA: 1098s - loss: 4.8924 - acc: 0.00 - ETA: 1091s - loss: 4.8924 - acc: 0.00 - ETA: 1081s - loss: 4.8921 - acc: 0.00 - ETA: 1073s - loss: 4.8922 - acc: 0.00 - ETA: 1064s - loss: 4.8923 - acc: 0.00 - ETA: 1060s - loss: 4.8922 - acc: 0.00 - ETA: 1060s - loss: 4.8920 - acc: 0.00 - ETA: 1066s - loss: 4.8916 - acc: 0.00 - ETA: 1067s - loss: 4.8912 - acc: 0.00 - ETA: 1057s - loss: 4.8906 - acc: 0.01 - ETA: 1047s - loss: 4.8902 - acc: 0.00 - ETA: 1038s - loss: 4.8906 - acc: 0.00 - ETA: 1029s - loss: 4.8911 - acc: 0.00 - ETA: 1021s - loss: 4.8909 - acc: 0.00 - ETA: 1012s - loss: 4.8910 - acc: 0.01 - ETA: 1003s - loss: 4.8910 - acc: 0.01 - ETA: 995s - loss: 4.8908 - acc: 0.0103 - ETA: 986s - loss: 4.8909 - acc: 0.010 - ETA: 978s - loss: 4.8903 - acc: 0.010 - ETA: 970s - loss: 4.8911 - acc: 0.010 - ETA: 962s - loss: 4.8907 - acc: 0.011 - ETA: 954s - loss: 4.8910 - acc: 0.011 - ETA: 946s - loss: 4.8911 - acc: 0.011 - ETA: 938s - loss: 4.8909 - acc: 0.011 - ETA: 931s - loss: 4.8909 - acc: 0.011 - ETA: 923s - loss: 4.8906 - acc: 0.010 - ETA: 916s - loss: 4.8902 - acc: 0.010 - ETA: 909s - loss: 4.8898 - acc: 0.010 - ETA: 902s - loss: 4.8899 - acc: 0.010 - ETA: 895s - loss: 4.8896 - acc: 0.010 - ETA: 892s - loss: 4.8897 - acc: 0.010 - ETA: 885s - loss: 4.8897 - acc: 0.010 - ETA: 877s - loss: 4.8898 - acc: 0.010 - ETA: 871s - loss: 4.8898 - acc: 0.010 - ETA: 870s - loss: 4.8899 - acc: 0.010 - ETA: 863s - loss: 4.8899 - acc: 0.010 - ETA: 858s - loss: 4.8902 - acc: 0.010 - ETA: 851s - loss: 4.8904 - acc: 0.010 - ETA: 845s - loss: 4.8905 - acc: 0.010 - ETA: 838s - loss: 4.8906 - acc: 0.010 - ETA: 831s - loss: 4.8906 - acc: 0.010 - ETA: 824s - loss: 4.8905 - acc: 0.010 - ETA: 817s - loss: 4.8905 - acc: 0.010 - ETA: 811s - loss: 4.8903 - acc: 0.010 - ETA: 804s - loss: 4.8903 - acc: 0.010 - ETA: 799s - loss: 4.8903 - acc: 0.010 - ETA: 795s - loss: 4.8904 - acc: 0.010 - ETA: 790s - loss: 4.8904 - acc: 0.010 - ETA: 785s - loss: 4.8902 - acc: 0.010 - ETA: 780s - loss: 4.8901 - acc: 0.011 - ETA: 777s - loss: 4.8903 - acc: 0.011 - ETA: 771s - loss: 4.8902 - acc: 0.011 - ETA: 765s - loss: 4.8904 - acc: 0.011 - ETA: 759s - loss: 4.8904 - acc: 0.010 - ETA: 753s - loss: 4.8904 - acc: 0.010 - ETA: 747s - loss: 4.8904 - acc: 0.010 - ETA: 742s - loss: 4.8903 - acc: 0.010 - ETA: 737s - loss: 4.8903 - acc: 0.010 - ETA: 732s - loss: 4.8904 - acc: 0.010 - ETA: 727s - loss: 4.8905 - acc: 0.010 - ETA: 721s - loss: 4.8906 - acc: 0.010 - ETA: 717s - loss: 4.8907 - acc: 0.010 - ETA: 712s - loss: 4.8906 - acc: 0.010 - ETA: 706s - loss: 4.8906 - acc: 0.010 - ETA: 701s - loss: 4.8906 - acc: 0.010 - ETA: 696s - loss: 4.8906 - acc: 0.009 - ETA: 692s - loss: 4.8905 - acc: 0.009 - ETA: 687s - loss: 4.8907 - acc: 0.010 - ETA: 682s - loss: 4.8908 - acc: 0.010 - ETA: 677s - loss: 4.8907 - acc: 0.010 - ETA: 672s - loss: 4.8908 - acc: 0.009 - ETA: 667s - loss: 4.8908 - acc: 0.009 - ETA: 662s - loss: 4.8907 - acc: 0.009 - ETA: 657s - loss: 4.8905 - acc: 0.009 - ETA: 653s - loss: 4.8906 - acc: 0.009 - ETA: 648s - loss: 4.8906 - acc: 0.009 - ETA: 643s - loss: 4.8905 - acc: 0.009 - ETA: 638s - loss: 4.8905 - acc: 0.009 - ETA: 634s - loss: 4.8904 - acc: 0.009 - ETA: 629s - loss: 4.8905 - acc: 0.009 - ETA: 624s - loss: 4.8905 - acc: 0.010 - ETA: 621s - loss: 4.8904 - acc: 0.010 - ETA: 616s - loss: 4.8903 - acc: 0.010 - ETA: 611s - loss: 4.8904 - acc: 0.010 - ETA: 607s - loss: 4.8904 - acc: 0.010 - ETA: 602s - loss: 4.8904 - acc: 0.009 - ETA: 598s - loss: 4.8904 - acc: 0.009 - ETA: 593s - loss: 4.8905 - acc: 0.009 - ETA: 589s - loss: 4.8906 - acc: 0.009 - ETA: 584s - loss: 4.8906 - acc: 0.009 - ETA: 580s - loss: 4.8905 - acc: 0.009 - ETA: 576s - loss: 4.8905 - acc: 0.009 - ETA: 571s - loss: 4.8905 - acc: 0.009 - ETA: 567s - loss: 4.8905 - acc: 0.009 - ETA: 563s - loss: 4.8905 - acc: 0.009 - ETA: 558s - loss: 4.8902 - acc: 0.009 - ETA: 554s - loss: 4.8902 - acc: 0.009 - ETA: 551s - loss: 4.8900 - acc: 0.009 - ETA: 549s - loss: 4.8898 - acc: 0.009 - ETA: 547s - loss: 4.8900 - acc: 0.009 - ETA: 544s - loss: 4.8897 - acc: 0.009 - ETA: 540s - loss: 4.8899 - acc: 0.009 - ETA: 537s - loss: 4.8899 - acc: 0.009 - ETA: 534s - loss: 4.8897 - acc: 0.008 - ETA: 531s - loss: 4.8899 - acc: 0.008 - ETA: 529s - loss: 4.8899 - acc: 0.009 - ETA: 526s - loss: 4.8901 - acc: 0.009 - ETA: 523s - loss: 4.8902 - acc: 0.009 - ETA: 519s - loss: 4.8900 - acc: 0.009 - ETA: 517s - loss: 4.8900 - acc: 0.009 - ETA: 513s - loss: 4.8899 - acc: 0.009 - ETA: 509s - loss: 4.8897 - acc: 0.009 - ETA: 508s - loss: 4.8895 - acc: 0.009 - ETA: 505s - loss: 4.8895 - acc: 0.009 - ETA: 501s - loss: 4.8897 - acc: 0.009 - ETA: 498s - loss: 4.8899 - acc: 0.009 - ETA: 496s - loss: 4.8899 - acc: 0.009 - ETA: 494s - loss: 4.8897 - acc: 0.009 - ETA: 491s - loss: 4.8898 - acc: 0.009 - ETA: 488s - loss: 4.8898 - acc: 0.009 - ETA: 484s - loss: 4.8898 - acc: 0.009 - ETA: 480s - loss: 4.8895 - acc: 0.009 - ETA: 477s - loss: 4.8897 - acc: 0.009 - ETA: 477s - loss: 4.8896 - acc: 0.009 - ETA: 477s - loss: 4.8892 - acc: 0.009 - ETA: 474s - loss: 4.8893 - acc: 0.009 - ETA: 471s - loss: 4.8895 - acc: 0.009 - ETA: 469s - loss: 4.8895 - acc: 0.009 - ETA: 466s - loss: 4.8896 - acc: 0.009 - ETA: 463s - loss: 4.8895 - acc: 0.009 - ETA: 459s - loss: 4.8893 - acc: 0.009 - ETA: 455s - loss: 4.8895 - acc: 0.0097\b\b\b\b\b\b\b\b\b\b\b\b\b\b\b\b\b\b\b\b\b\b\b\b\b\b\b\b\b\b\b\b\b\b\b\b\b\b\b\b\b\b\b\b\b\b\b\b\b\b\b\b\b\b\b\b\b\b\b\b\b\b\b\b\b\b\b\b\b\b\b\b\b\b\b\b\b\b\b\b\b\b\b"
     ]
    },
    {
     "name": "stdout",
     "output_type": "stream",
     "text": [
      "6660/6680 [============================>.] - ETA: 452s - loss: 4.8894 - acc: 0.009 - ETA: 448s - loss: 4.8892 - acc: 0.009 - ETA: 444s - loss: 4.8893 - acc: 0.009 - ETA: 440s - loss: 4.8889 - acc: 0.009 - ETA: 436s - loss: 4.8887 - acc: 0.009 - ETA: 432s - loss: 4.8890 - acc: 0.009 - ETA: 428s - loss: 4.8889 - acc: 0.009 - ETA: 424s - loss: 4.8891 - acc: 0.009 - ETA: 420s - loss: 4.8893 - acc: 0.009 - ETA: 416s - loss: 4.8891 - acc: 0.009 - ETA: 412s - loss: 4.8890 - acc: 0.009 - ETA: 408s - loss: 4.8890 - acc: 0.009 - ETA: 405s - loss: 4.8889 - acc: 0.009 - ETA: 402s - loss: 4.8889 - acc: 0.009 - ETA: 398s - loss: 4.8888 - acc: 0.009 - ETA: 394s - loss: 4.8887 - acc: 0.009 - ETA: 390s - loss: 4.8887 - acc: 0.009 - ETA: 387s - loss: 4.8885 - acc: 0.009 - ETA: 384s - loss: 4.8886 - acc: 0.009 - ETA: 381s - loss: 4.8887 - acc: 0.009 - ETA: 377s - loss: 4.8886 - acc: 0.009 - ETA: 373s - loss: 4.8884 - acc: 0.009 - ETA: 369s - loss: 4.8881 - acc: 0.009 - ETA: 366s - loss: 4.8882 - acc: 0.009 - ETA: 362s - loss: 4.8881 - acc: 0.009 - ETA: 358s - loss: 4.8884 - acc: 0.009 - ETA: 354s - loss: 4.8884 - acc: 0.009 - ETA: 350s - loss: 4.8883 - acc: 0.009 - ETA: 347s - loss: 4.8885 - acc: 0.009 - ETA: 343s - loss: 4.8887 - acc: 0.009 - ETA: 340s - loss: 4.8887 - acc: 0.009 - ETA: 337s - loss: 4.8888 - acc: 0.009 - ETA: 333s - loss: 4.8886 - acc: 0.009 - ETA: 329s - loss: 4.8886 - acc: 0.009 - ETA: 325s - loss: 4.8885 - acc: 0.009 - ETA: 322s - loss: 4.8885 - acc: 0.009 - ETA: 318s - loss: 4.8885 - acc: 0.009 - ETA: 315s - loss: 4.8886 - acc: 0.009 - ETA: 311s - loss: 4.8884 - acc: 0.009 - ETA: 308s - loss: 4.8885 - acc: 0.009 - ETA: 304s - loss: 4.8886 - acc: 0.009 - ETA: 300s - loss: 4.8887 - acc: 0.009 - ETA: 297s - loss: 4.8886 - acc: 0.009 - ETA: 293s - loss: 4.8885 - acc: 0.009 - ETA: 290s - loss: 4.8885 - acc: 0.009 - ETA: 286s - loss: 4.8885 - acc: 0.009 - ETA: 283s - loss: 4.8885 - acc: 0.009 - ETA: 279s - loss: 4.8885 - acc: 0.009 - ETA: 276s - loss: 4.8883 - acc: 0.009 - ETA: 272s - loss: 4.8884 - acc: 0.009 - ETA: 268s - loss: 4.8883 - acc: 0.009 - ETA: 265s - loss: 4.8883 - acc: 0.009 - ETA: 261s - loss: 4.8882 - acc: 0.009 - ETA: 258s - loss: 4.8882 - acc: 0.009 - ETA: 254s - loss: 4.8882 - acc: 0.009 - ETA: 251s - loss: 4.8882 - acc: 0.009 - ETA: 247s - loss: 4.8883 - acc: 0.010 - ETA: 244s - loss: 4.8881 - acc: 0.010 - ETA: 240s - loss: 4.8879 - acc: 0.010 - ETA: 237s - loss: 4.8880 - acc: 0.009 - ETA: 233s - loss: 4.8881 - acc: 0.010 - ETA: 230s - loss: 4.8882 - acc: 0.010 - ETA: 226s - loss: 4.8881 - acc: 0.010 - ETA: 223s - loss: 4.8881 - acc: 0.010 - ETA: 219s - loss: 4.8883 - acc: 0.009 - ETA: 216s - loss: 4.8883 - acc: 0.009 - ETA: 213s - loss: 4.8883 - acc: 0.009 - ETA: 209s - loss: 4.8883 - acc: 0.009 - ETA: 206s - loss: 4.8881 - acc: 0.009 - ETA: 202s - loss: 4.8881 - acc: 0.009 - ETA: 199s - loss: 4.8882 - acc: 0.009 - ETA: 195s - loss: 4.8881 - acc: 0.009 - ETA: 192s - loss: 4.8879 - acc: 0.009 - ETA: 190s - loss: 4.8878 - acc: 0.009 - ETA: 186s - loss: 4.8879 - acc: 0.009 - ETA: 183s - loss: 4.8879 - acc: 0.009 - ETA: 179s - loss: 4.8880 - acc: 0.009 - ETA: 176s - loss: 4.8882 - acc: 0.009 - ETA: 173s - loss: 4.8882 - acc: 0.009 - ETA: 169s - loss: 4.8881 - acc: 0.009 - ETA: 166s - loss: 4.8882 - acc: 0.009 - ETA: 163s - loss: 4.8882 - acc: 0.009 - ETA: 160s - loss: 4.8879 - acc: 0.009 - ETA: 156s - loss: 4.8879 - acc: 0.009 - ETA: 153s - loss: 4.8879 - acc: 0.009 - ETA: 149s - loss: 4.8878 - acc: 0.009 - ETA: 146s - loss: 4.8878 - acc: 0.009 - ETA: 143s - loss: 4.8876 - acc: 0.009 - ETA: 139s - loss: 4.8879 - acc: 0.009 - ETA: 136s - loss: 4.8878 - acc: 0.009 - ETA: 133s - loss: 4.8879 - acc: 0.009 - ETA: 129s - loss: 4.8878 - acc: 0.009 - ETA: 126s - loss: 4.8879 - acc: 0.009 - ETA: 123s - loss: 4.8878 - acc: 0.009 - ETA: 119s - loss: 4.8878 - acc: 0.009 - ETA: 116s - loss: 4.8878 - acc: 0.009 - ETA: 113s - loss: 4.8878 - acc: 0.009 - ETA: 109s - loss: 4.8878 - acc: 0.009 - ETA: 106s - loss: 4.8878 - acc: 0.009 - ETA: 103s - loss: 4.8879 - acc: 0.009 - ETA: 100s - loss: 4.8879 - acc: 0.009 - ETA: 96s - loss: 4.8879 - acc: 0.009 - ETA: 93s - loss: 4.8879 - acc: 0.00 - ETA: 90s - loss: 4.8878 - acc: 0.00 - ETA: 87s - loss: 4.8879 - acc: 0.00 - ETA: 83s - loss: 4.8879 - acc: 0.00 - ETA: 80s - loss: 4.8880 - acc: 0.00 - ETA: 77s - loss: 4.8881 - acc: 0.00 - ETA: 73s - loss: 4.8881 - acc: 0.00 - ETA: 70s - loss: 4.8881 - acc: 0.00 - ETA: 67s - loss: 4.8880 - acc: 0.00 - ETA: 64s - loss: 4.8880 - acc: 0.00 - ETA: 60s - loss: 4.8879 - acc: 0.00 - ETA: 57s - loss: 4.8880 - acc: 0.00 - ETA: 54s - loss: 4.8879 - acc: 0.00 - ETA: 51s - loss: 4.8880 - acc: 0.00 - ETA: 48s - loss: 4.8879 - acc: 0.00 - ETA: 44s - loss: 4.8879 - acc: 0.00 - ETA: 41s - loss: 4.8878 - acc: 0.00 - ETA: 38s - loss: 4.8879 - acc: 0.00 - ETA: 35s - loss: 4.8878 - acc: 0.00 - ETA: 32s - loss: 4.8879 - acc: 0.00 - ETA: 28s - loss: 4.8878 - acc: 0.00 - ETA: 25s - loss: 4.8878 - acc: 0.00 - ETA: 22s - loss: 4.8877 - acc: 0.00 - ETA: 19s - loss: 4.8878 - acc: 0.00 - ETA: 16s - loss: 4.8878 - acc: 0.00 - ETA: 12s - loss: 4.8877 - acc: 0.00 - ETA: 9s - loss: 4.8878 - acc: 0.0094 - ETA: 6s - loss: 4.8877 - acc: 0.009 - ETA: 3s - loss: 4.8877 - acc: 0.0093Epoch 00000: val_loss improved from inf to 4.88015, saving model to saved_models/weights.best.from_scratch.hdf5\n",
      "6680/6680 [==============================] - 1142s - loss: 4.8878 - acc: 0.0093 - val_loss: 4.8801 - val_acc: 0.0072\n",
      "Epoch 2/5\n"
     ]
    },
    {
     "name": "stdout",
     "output_type": "stream",
     "text": [
      "4080/6680 [=================>............] - ETA: 962s - loss: 4.9216 - acc: 0.0000e+0 - ETA: 2092s - loss: 4.8905 - acc: 0.0250  - ETA: 2666s - loss: 4.8865 - acc: 0.01 - ETA: 2773s - loss: 4.8822 - acc: 0.02 - ETA: 2500s - loss: 4.8817 - acc: 0.02 - ETA: 2232s - loss: 4.8728 - acc: 0.02 - ETA: 2029s - loss: 4.8764 - acc: 0.02 - ETA: 1861s - loss: 4.8772 - acc: 0.01 - ETA: 1741s - loss: 4.8740 - acc: 0.01 - ETA: 1639s - loss: 4.8745 - acc: 0.01 - ETA: 1567s - loss: 4.8782 - acc: 0.01 - ETA: 1495s - loss: 4.8784 - acc: 0.01 - ETA: 1431s - loss: 4.8807 - acc: 0.01 - ETA: 1378s - loss: 4.8825 - acc: 0.01 - ETA: 1332s - loss: 4.8804 - acc: 0.01 - ETA: 1288s - loss: 4.8776 - acc: 0.00 - ETA: 1256s - loss: 4.8771 - acc: 0.00 - ETA: 1231s - loss: 4.8793 - acc: 0.00 - ETA: 1201s - loss: 4.8775 - acc: 0.00 - ETA: 1175s - loss: 4.8784 - acc: 0.00 - ETA: 1150s - loss: 4.8755 - acc: 0.00 - ETA: 1130s - loss: 4.8734 - acc: 0.00 - ETA: 1112s - loss: 4.8752 - acc: 0.00 - ETA: 1090s - loss: 4.8741 - acc: 0.00 - ETA: 1070s - loss: 4.8777 - acc: 0.01 - ETA: 1053s - loss: 4.8768 - acc: 0.00 - ETA: 1038s - loss: 4.8768 - acc: 0.01 - ETA: 1023s - loss: 4.8741 - acc: 0.01 - ETA: 1010s - loss: 4.8699 - acc: 0.01 - ETA: 996s - loss: 4.8705 - acc: 0.0117 - ETA: 984s - loss: 4.8703 - acc: 0.012 - ETA: 981s - loss: 4.8698 - acc: 0.012 - ETA: 976s - loss: 4.8694 - acc: 0.012 - ETA: 973s - loss: 4.8711 - acc: 0.011 - ETA: 967s - loss: 4.8704 - acc: 0.011 - ETA: 961s - loss: 4.8699 - acc: 0.011 - ETA: 951s - loss: 4.8678 - acc: 0.010 - ETA: 941s - loss: 4.8728 - acc: 0.010 - ETA: 936s - loss: 4.8736 - acc: 0.011 - ETA: 932s - loss: 4.8738 - acc: 0.012 - ETA: 923s - loss: 4.8734 - acc: 0.012 - ETA: 915s - loss: 4.8726 - acc: 0.013 - ETA: 906s - loss: 4.8743 - acc: 0.012 - ETA: 898s - loss: 4.8758 - acc: 0.013 - ETA: 894s - loss: 4.8756 - acc: 0.014 - ETA: 887s - loss: 4.8750 - acc: 0.014 - ETA: 878s - loss: 4.8745 - acc: 0.013 - ETA: 871s - loss: 4.8751 - acc: 0.013 - ETA: 864s - loss: 4.8746 - acc: 0.013 - ETA: 856s - loss: 4.8757 - acc: 0.013 - ETA: 849s - loss: 4.8758 - acc: 0.012 - ETA: 842s - loss: 4.8751 - acc: 0.013 - ETA: 836s - loss: 4.8763 - acc: 0.013 - ETA: 831s - loss: 4.8760 - acc: 0.013 - ETA: 825s - loss: 4.8754 - acc: 0.013 - ETA: 819s - loss: 4.8760 - acc: 0.013 - ETA: 820s - loss: 4.8751 - acc: 0.013 - ETA: 815s - loss: 4.8761 - acc: 0.012 - ETA: 809s - loss: 4.8768 - acc: 0.012 - ETA: 803s - loss: 4.8759 - acc: 0.012 - ETA: 797s - loss: 4.8753 - acc: 0.012 - ETA: 794s - loss: 4.8760 - acc: 0.012 - ETA: 790s - loss: 4.8751 - acc: 0.011 - ETA: 786s - loss: 4.8755 - acc: 0.012 - ETA: 780s - loss: 4.8758 - acc: 0.013 - ETA: 775s - loss: 4.8754 - acc: 0.012 - ETA: 769s - loss: 4.8767 - acc: 0.012 - ETA: 763s - loss: 4.8759 - acc: 0.012 - ETA: 759s - loss: 4.8762 - acc: 0.012 - ETA: 754s - loss: 4.8752 - acc: 0.012 - ETA: 749s - loss: 4.8755 - acc: 0.012 - ETA: 744s - loss: 4.8748 - acc: 0.013 - ETA: 741s - loss: 4.8741 - acc: 0.013 - ETA: 737s - loss: 4.8726 - acc: 0.012 - ETA: 733s - loss: 4.8730 - acc: 0.012 - ETA: 729s - loss: 4.8732 - acc: 0.012 - ETA: 727s - loss: 4.8735 - acc: 0.013 - ETA: 722s - loss: 4.8744 - acc: 0.012 - ETA: 718s - loss: 4.8747 - acc: 0.013 - ETA: 715s - loss: 4.8746 - acc: 0.013 - ETA: 713s - loss: 4.8746 - acc: 0.013 - ETA: 709s - loss: 4.8755 - acc: 0.012 - ETA: 705s - loss: 4.8756 - acc: 0.012 - ETA: 701s - loss: 4.8760 - acc: 0.012 - ETA: 696s - loss: 4.8754 - acc: 0.012 - ETA: 692s - loss: 4.8755 - acc: 0.012 - ETA: 688s - loss: 4.8748 - acc: 0.012 - ETA: 684s - loss: 4.8748 - acc: 0.012 - ETA: 681s - loss: 4.8746 - acc: 0.012 - ETA: 677s - loss: 4.8740 - acc: 0.012 - ETA: 673s - loss: 4.8729 - acc: 0.013 - ETA: 669s - loss: 4.8724 - acc: 0.013 - ETA: 665s - loss: 4.8730 - acc: 0.013 - ETA: 662s - loss: 4.8729 - acc: 0.013 - ETA: 658s - loss: 4.8725 - acc: 0.013 - ETA: 654s - loss: 4.8728 - acc: 0.013 - ETA: 651s - loss: 4.8727 - acc: 0.013 - ETA: 647s - loss: 4.8741 - acc: 0.013 - ETA: 644s - loss: 4.8738 - acc: 0.013 - ETA: 640s - loss: 4.8733 - acc: 0.013 - ETA: 636s - loss: 4.8729 - acc: 0.013 - ETA: 633s - loss: 4.8739 - acc: 0.013 - ETA: 629s - loss: 4.8745 - acc: 0.013 - ETA: 626s - loss: 4.8746 - acc: 0.013 - ETA: 622s - loss: 4.8744 - acc: 0.013 - ETA: 619s - loss: 4.8744 - acc: 0.013 - ETA: 616s - loss: 4.8744 - acc: 0.013 - ETA: 613s - loss: 4.8743 - acc: 0.013 - ETA: 621s - loss: 4.8739 - acc: 0.014 - ETA: 618s - loss: 4.8736 - acc: 0.014 - ETA: 614s - loss: 4.8737 - acc: 0.014 - ETA: 610s - loss: 4.8733 - acc: 0.013 - ETA: 607s - loss: 4.8735 - acc: 0.014 - ETA: 603s - loss: 4.8739 - acc: 0.014 - ETA: 600s - loss: 4.8739 - acc: 0.013 - ETA: 597s - loss: 4.8732 - acc: 0.014 - ETA: 593s - loss: 4.8725 - acc: 0.014 - ETA: 590s - loss: 4.8725 - acc: 0.014 - ETA: 588s - loss: 4.8725 - acc: 0.014 - ETA: 585s - loss: 4.8721 - acc: 0.014 - ETA: 581s - loss: 4.8722 - acc: 0.014 - ETA: 578s - loss: 4.8714 - acc: 0.014 - ETA: 575s - loss: 4.8716 - acc: 0.014 - ETA: 572s - loss: 4.8714 - acc: 0.014 - ETA: 569s - loss: 4.8717 - acc: 0.014 - ETA: 565s - loss: 4.8711 - acc: 0.014 - ETA: 562s - loss: 4.8708 - acc: 0.014 - ETA: 559s - loss: 4.8709 - acc: 0.014 - ETA: 556s - loss: 4.8702 - acc: 0.014 - ETA: 553s - loss: 4.8704 - acc: 0.014 - ETA: 550s - loss: 4.8704 - acc: 0.014 - ETA: 547s - loss: 4.8705 - acc: 0.014 - ETA: 545s - loss: 4.8700 - acc: 0.013 - ETA: 542s - loss: 4.8696 - acc: 0.013 - ETA: 544s - loss: 4.8693 - acc: 0.013 - ETA: 542s - loss: 4.8694 - acc: 0.013 - ETA: 540s - loss: 4.8700 - acc: 0.013 - ETA: 537s - loss: 4.8705 - acc: 0.013 - ETA: 535s - loss: 4.8706 - acc: 0.013 - ETA: 532s - loss: 4.8705 - acc: 0.013 - ETA: 529s - loss: 4.8707 - acc: 0.013 - ETA: 526s - loss: 4.8706 - acc: 0.014 - ETA: 523s - loss: 4.8705 - acc: 0.014 - ETA: 520s - loss: 4.8705 - acc: 0.014 - ETA: 518s - loss: 4.8705 - acc: 0.014 - ETA: 515s - loss: 4.8701 - acc: 0.014 - ETA: 512s - loss: 4.8700 - acc: 0.014 - ETA: 509s - loss: 4.8700 - acc: 0.014 - ETA: 506s - loss: 4.8698 - acc: 0.014 - ETA: 503s - loss: 4.8702 - acc: 0.014 - ETA: 501s - loss: 4.8697 - acc: 0.014 - ETA: 498s - loss: 4.8695 - acc: 0.014 - ETA: 495s - loss: 4.8695 - acc: 0.014 - ETA: 492s - loss: 4.8694 - acc: 0.014 - ETA: 489s - loss: 4.8688 - acc: 0.013 - ETA: 487s - loss: 4.8691 - acc: 0.013 - ETA: 483s - loss: 4.8695 - acc: 0.014 - ETA: 481s - loss: 4.8693 - acc: 0.013 - ETA: 478s - loss: 4.8693 - acc: 0.014 - ETA: 475s - loss: 4.8695 - acc: 0.014 - ETA: 472s - loss: 4.8693 - acc: 0.014 - ETA: 469s - loss: 4.8689 - acc: 0.014 - ETA: 466s - loss: 4.8689 - acc: 0.014 - ETA: 464s - loss: 4.8687 - acc: 0.014 - ETA: 460s - loss: 4.8683 - acc: 0.013 - ETA: 458s - loss: 4.8685 - acc: 0.013 - ETA: 455s - loss: 4.8688 - acc: 0.013 - ETA: 452s - loss: 4.8685 - acc: 0.014 - ETA: 449s - loss: 4.8683 - acc: 0.013 - ETA: 446s - loss: 4.8680 - acc: 0.013 - ETA: 443s - loss: 4.8683 - acc: 0.013 - ETA: 440s - loss: 4.8681 - acc: 0.014 - ETA: 437s - loss: 4.8681 - acc: 0.013 - ETA: 434s - loss: 4.8679 - acc: 0.013 - ETA: 431s - loss: 4.8677 - acc: 0.013 - ETA: 428s - loss: 4.8677 - acc: 0.013 - ETA: 425s - loss: 4.8675 - acc: 0.013 - ETA: 422s - loss: 4.8672 - acc: 0.013 - ETA: 420s - loss: 4.8672 - acc: 0.013 - ETA: 417s - loss: 4.8674 - acc: 0.013 - ETA: 414s - loss: 4.8671 - acc: 0.013 - ETA: 412s - loss: 4.8670 - acc: 0.013 - ETA: 409s - loss: 4.8664 - acc: 0.013 - ETA: 406s - loss: 4.8662 - acc: 0.013 - ETA: 403s - loss: 4.8661 - acc: 0.013 - ETA: 400s - loss: 4.8657 - acc: 0.013 - ETA: 398s - loss: 4.8654 - acc: 0.013 - ETA: 394s - loss: 4.8655 - acc: 0.013 - ETA: 392s - loss: 4.8653 - acc: 0.013 - ETA: 389s - loss: 4.8656 - acc: 0.013 - ETA: 386s - loss: 4.8653 - acc: 0.013 - ETA: 383s - loss: 4.8657 - acc: 0.013 - ETA: 380s - loss: 4.8658 - acc: 0.013 - ETA: 377s - loss: 4.8659 - acc: 0.013 - ETA: 374s - loss: 4.8659 - acc: 0.013 - ETA: 371s - loss: 4.8661 - acc: 0.013 - ETA: 369s - loss: 4.8662 - acc: 0.013 - ETA: 366s - loss: 4.8660 - acc: 0.013 - ETA: 363s - loss: 4.8663 - acc: 0.013 - ETA: 360s - loss: 4.8659 - acc: 0.013 - ETA: 357s - loss: 4.8657 - acc: 0.013 - ETA: 354s - loss: 4.8659 - acc: 0.013 - ETA: 352s - loss: 4.8655 - acc: 0.013 - ETA: 349s - loss: 4.8655 - acc: 0.0135"
     ]
    },
    {
     "name": "stdout",
     "output_type": "stream",
     "text": [
      "6660/6680 [============================>.] - ETA: 346s - loss: 4.8657 - acc: 0.013 - ETA: 343s - loss: 4.8656 - acc: 0.013 - ETA: 340s - loss: 4.8657 - acc: 0.013 - ETA: 338s - loss: 4.8655 - acc: 0.013 - ETA: 335s - loss: 4.8657 - acc: 0.013 - ETA: 332s - loss: 4.8658 - acc: 0.013 - ETA: 329s - loss: 4.8663 - acc: 0.013 - ETA: 326s - loss: 4.8662 - acc: 0.013 - ETA: 324s - loss: 4.8661 - acc: 0.012 - ETA: 321s - loss: 4.8661 - acc: 0.012 - ETA: 318s - loss: 4.8663 - acc: 0.012 - ETA: 315s - loss: 4.8663 - acc: 0.013 - ETA: 313s - loss: 4.8668 - acc: 0.013 - ETA: 310s - loss: 4.8669 - acc: 0.013 - ETA: 307s - loss: 4.8669 - acc: 0.013 - ETA: 304s - loss: 4.8666 - acc: 0.013 - ETA: 302s - loss: 4.8669 - acc: 0.012 - ETA: 299s - loss: 4.8668 - acc: 0.012 - ETA: 296s - loss: 4.8665 - acc: 0.013 - ETA: 293s - loss: 4.8663 - acc: 0.013 - ETA: 291s - loss: 4.8663 - acc: 0.013 - ETA: 288s - loss: 4.8662 - acc: 0.013 - ETA: 285s - loss: 4.8663 - acc: 0.013 - ETA: 282s - loss: 4.8663 - acc: 0.012 - ETA: 280s - loss: 4.8662 - acc: 0.012 - ETA: 277s - loss: 4.8659 - acc: 0.012 - ETA: 274s - loss: 4.8661 - acc: 0.012 - ETA: 272s - loss: 4.8654 - acc: 0.013 - ETA: 269s - loss: 4.8654 - acc: 0.013 - ETA: 266s - loss: 4.8657 - acc: 0.013 - ETA: 264s - loss: 4.8656 - acc: 0.013 - ETA: 261s - loss: 4.8651 - acc: 0.012 - ETA: 258s - loss: 4.8651 - acc: 0.012 - ETA: 256s - loss: 4.8647 - acc: 0.012 - ETA: 253s - loss: 4.8641 - acc: 0.013 - ETA: 250s - loss: 4.8643 - acc: 0.012 - ETA: 248s - loss: 4.8645 - acc: 0.012 - ETA: 245s - loss: 4.8645 - acc: 0.012 - ETA: 242s - loss: 4.8649 - acc: 0.012 - ETA: 240s - loss: 4.8649 - acc: 0.012 - ETA: 237s - loss: 4.8650 - acc: 0.012 - ETA: 234s - loss: 4.8648 - acc: 0.012 - ETA: 231s - loss: 4.8652 - acc: 0.012 - ETA: 229s - loss: 4.8650 - acc: 0.012 - ETA: 226s - loss: 4.8650 - acc: 0.012 - ETA: 223s - loss: 4.8649 - acc: 0.012 - ETA: 221s - loss: 4.8652 - acc: 0.012 - ETA: 218s - loss: 4.8650 - acc: 0.012 - ETA: 215s - loss: 4.8650 - acc: 0.012 - ETA: 212s - loss: 4.8647 - acc: 0.012 - ETA: 210s - loss: 4.8648 - acc: 0.012 - ETA: 207s - loss: 4.8651 - acc: 0.012 - ETA: 204s - loss: 4.8654 - acc: 0.012 - ETA: 202s - loss: 4.8656 - acc: 0.012 - ETA: 199s - loss: 4.8655 - acc: 0.012 - ETA: 196s - loss: 4.8654 - acc: 0.012 - ETA: 193s - loss: 4.8653 - acc: 0.012 - ETA: 191s - loss: 4.8655 - acc: 0.012 - ETA: 188s - loss: 4.8656 - acc: 0.012 - ETA: 186s - loss: 4.8654 - acc: 0.012 - ETA: 183s - loss: 4.8655 - acc: 0.012 - ETA: 180s - loss: 4.8656 - acc: 0.012 - ETA: 177s - loss: 4.8656 - acc: 0.012 - ETA: 175s - loss: 4.8659 - acc: 0.012 - ETA: 172s - loss: 4.8661 - acc: 0.012 - ETA: 169s - loss: 4.8660 - acc: 0.012 - ETA: 167s - loss: 4.8659 - acc: 0.012 - ETA: 165s - loss: 4.8658 - acc: 0.012 - ETA: 162s - loss: 4.8657 - acc: 0.012 - ETA: 160s - loss: 4.8656 - acc: 0.012 - ETA: 157s - loss: 4.8653 - acc: 0.012 - ETA: 155s - loss: 4.8651 - acc: 0.012 - ETA: 152s - loss: 4.8649 - acc: 0.012 - ETA: 149s - loss: 4.8652 - acc: 0.012 - ETA: 146s - loss: 4.8653 - acc: 0.012 - ETA: 144s - loss: 4.8655 - acc: 0.012 - ETA: 141s - loss: 4.8655 - acc: 0.012 - ETA: 138s - loss: 4.8653 - acc: 0.012 - ETA: 136s - loss: 4.8651 - acc: 0.012 - ETA: 133s - loss: 4.8651 - acc: 0.012 - ETA: 130s - loss: 4.8648 - acc: 0.012 - ETA: 128s - loss: 4.8646 - acc: 0.012 - ETA: 125s - loss: 4.8643 - acc: 0.012 - ETA: 122s - loss: 4.8642 - acc: 0.012 - ETA: 120s - loss: 4.8646 - acc: 0.011 - ETA: 117s - loss: 4.8649 - acc: 0.011 - ETA: 114s - loss: 4.8649 - acc: 0.011 - ETA: 113s - loss: 4.8646 - acc: 0.012 - ETA: 110s - loss: 4.8642 - acc: 0.012 - ETA: 107s - loss: 4.8639 - acc: 0.012 - ETA: 105s - loss: 4.8638 - acc: 0.012 - ETA: 102s - loss: 4.8637 - acc: 0.012 - ETA: 99s - loss: 4.8635 - acc: 0.012 - ETA: 97s - loss: 4.8630 - acc: 0.01 - ETA: 94s - loss: 4.8629 - acc: 0.01 - ETA: 91s - loss: 4.8627 - acc: 0.01 - ETA: 88s - loss: 4.8627 - acc: 0.01 - ETA: 86s - loss: 4.8633 - acc: 0.01 - ETA: 83s - loss: 4.8632 - acc: 0.01 - ETA: 80s - loss: 4.8634 - acc: 0.01 - ETA: 78s - loss: 4.8633 - acc: 0.01 - ETA: 75s - loss: 4.8630 - acc: 0.01 - ETA: 72s - loss: 4.8631 - acc: 0.01 - ETA: 70s - loss: 4.8632 - acc: 0.01 - ETA: 67s - loss: 4.8633 - acc: 0.01 - ETA: 64s - loss: 4.8633 - acc: 0.01 - ETA: 61s - loss: 4.8631 - acc: 0.01 - ETA: 59s - loss: 4.8630 - acc: 0.01 - ETA: 56s - loss: 4.8629 - acc: 0.01 - ETA: 53s - loss: 4.8629 - acc: 0.01 - ETA: 51s - loss: 4.8629 - acc: 0.01 - ETA: 48s - loss: 4.8629 - acc: 0.01 - ETA: 45s - loss: 4.8631 - acc: 0.01 - ETA: 43s - loss: 4.8630 - acc: 0.01 - ETA: 40s - loss: 4.8627 - acc: 0.01 - ETA: 37s - loss: 4.8629 - acc: 0.01 - ETA: 34s - loss: 4.8627 - acc: 0.01 - ETA: 32s - loss: 4.8625 - acc: 0.01 - ETA: 29s - loss: 4.8623 - acc: 0.01 - ETA: 26s - loss: 4.8624 - acc: 0.01 - ETA: 24s - loss: 4.8623 - acc: 0.01 - ETA: 21s - loss: 4.8624 - acc: 0.01 - ETA: 18s - loss: 4.8627 - acc: 0.01 - ETA: 16s - loss: 4.8627 - acc: 0.01 - ETA: 13s - loss: 4.8626 - acc: 0.01 - ETA: 10s - loss: 4.8625 - acc: 0.01 - ETA: 8s - loss: 4.8625 - acc: 0.0130 - ETA: 5s - loss: 4.8623 - acc: 0.013 - ETA: 2s - loss: 4.8627 - acc: 0.0129Epoch 00001: val_loss improved from 4.88015 to 4.84613, saving model to saved_models/weights.best.from_scratch.hdf5\n",
      "6680/6680 [==============================] - 940s - loss: 4.8630 - acc: 0.0129 - val_loss: 4.8461 - val_acc: 0.0180\n",
      "Epoch 3/5\n"
     ]
    },
    {
     "name": "stdout",
     "output_type": "stream",
     "text": [
      "4080/6680 [=================>............] - ETA: 786s - loss: 4.7648 - acc: 0.0000e+0 - ETA: 747s - loss: 4.7919 - acc: 0.0250    - ETA: 753s - loss: 4.7881 - acc: 0.016 - ETA: 1197s - loss: 4.7960 - acc: 0.01 - ETA: 1116s - loss: 4.7872 - acc: 0.02 - ETA: 1058s - loss: 4.7795 - acc: 0.02 - ETA: 1021s - loss: 4.7622 - acc: 0.02 - ETA: 987s - loss: 4.7793 - acc: 0.0188 - ETA: 962s - loss: 4.8018 - acc: 0.016 - ETA: 937s - loss: 4.8023 - acc: 0.015 - ETA: 922s - loss: 4.8037 - acc: 0.018 - ETA: 905s - loss: 4.8105 - acc: 0.016 - ETA: 892s - loss: 4.8215 - acc: 0.015 - ETA: 892s - loss: 4.8216 - acc: 0.017 - ETA: 881s - loss: 4.8155 - acc: 0.016 - ETA: 872s - loss: 4.8269 - acc: 0.015 - ETA: 862s - loss: 4.8225 - acc: 0.017 - ETA: 865s - loss: 4.8317 - acc: 0.016 - ETA: 856s - loss: 4.8353 - acc: 0.015 - ETA: 852s - loss: 4.8306 - acc: 0.015 - ETA: 843s - loss: 4.8265 - acc: 0.021 - ETA: 838s - loss: 4.8268 - acc: 0.020 - ETA: 832s - loss: 4.8251 - acc: 0.019 - ETA: 826s - loss: 4.8227 - acc: 0.018 - ETA: 825s - loss: 4.8289 - acc: 0.018 - ETA: 818s - loss: 4.8279 - acc: 0.017 - ETA: 812s - loss: 4.8286 - acc: 0.016 - ETA: 806s - loss: 4.8245 - acc: 0.016 - ETA: 802s - loss: 4.8236 - acc: 0.015 - ETA: 799s - loss: 4.8231 - acc: 0.015 - ETA: 794s - loss: 4.8208 - acc: 0.014 - ETA: 788s - loss: 4.8252 - acc: 0.014 - ETA: 784s - loss: 4.8283 - acc: 0.013 - ETA: 780s - loss: 4.8286 - acc: 0.014 - ETA: 776s - loss: 4.8319 - acc: 0.015 - ETA: 772s - loss: 4.8303 - acc: 0.015 - ETA: 768s - loss: 4.8299 - acc: 0.014 - ETA: 764s - loss: 4.8314 - acc: 0.014 - ETA: 761s - loss: 4.8312 - acc: 0.016 - ETA: 757s - loss: 4.8311 - acc: 0.016 - ETA: 754s - loss: 4.8304 - acc: 0.015 - ETA: 760s - loss: 4.8350 - acc: 0.015 - ETA: 757s - loss: 4.8318 - acc: 0.015 - ETA: 758s - loss: 4.8304 - acc: 0.014 - ETA: 765s - loss: 4.8294 - acc: 0.014 - ETA: 791s - loss: 4.8307 - acc: 0.014 - ETA: 836s - loss: 4.8297 - acc: 0.016 - ETA: 895s - loss: 4.8299 - acc: 0.015 - ETA: 930s - loss: 4.8322 - acc: 0.015 - ETA: 966s - loss: 4.8338 - acc: 0.015 - ETA: 1002s - loss: 4.8325 - acc: 0.01 - ETA: 1046s - loss: 4.8290 - acc: 0.01 - ETA: 1075s - loss: 4.8291 - acc: 0.01 - ETA: 1098s - loss: 4.8299 - acc: 0.01 - ETA: 1112s - loss: 4.8317 - acc: 0.01 - ETA: 1132s - loss: 4.8324 - acc: 0.01 - ETA: 1148s - loss: 4.8310 - acc: 0.01 - ETA: 1166s - loss: 4.8307 - acc: 0.01 - ETA: 1178s - loss: 4.8306 - acc: 0.01 - ETA: 1203s - loss: 4.8301 - acc: 0.01 - ETA: 1224s - loss: 4.8290 - acc: 0.01 - ETA: 1236s - loss: 4.8286 - acc: 0.01 - ETA: 1262s - loss: 4.8280 - acc: 0.01 - ETA: 1248s - loss: 4.8297 - acc: 0.01 - ETA: 1233s - loss: 4.8285 - acc: 0.01 - ETA: 1218s - loss: 4.8260 - acc: 0.01 - ETA: 1203s - loss: 4.8265 - acc: 0.01 - ETA: 1191s - loss: 4.8244 - acc: 0.01 - ETA: 1177s - loss: 4.8231 - acc: 0.01 - ETA: 1163s - loss: 4.8273 - acc: 0.01 - ETA: 1150s - loss: 4.8266 - acc: 0.01 - ETA: 1137s - loss: 4.8257 - acc: 0.01 - ETA: 1124s - loss: 4.8248 - acc: 0.01 - ETA: 1112s - loss: 4.8247 - acc: 0.01 - ETA: 1100s - loss: 4.8242 - acc: 0.01 - ETA: 1090s - loss: 4.8247 - acc: 0.01 - ETA: 1079s - loss: 4.8250 - acc: 0.01 - ETA: 1070s - loss: 4.8258 - acc: 0.01 - ETA: 1062s - loss: 4.8257 - acc: 0.01 - ETA: 1052s - loss: 4.8251 - acc: 0.01 - ETA: 1043s - loss: 4.8262 - acc: 0.01 - ETA: 1035s - loss: 4.8269 - acc: 0.01 - ETA: 1025s - loss: 4.8269 - acc: 0.01 - ETA: 1017s - loss: 4.8273 - acc: 0.01 - ETA: 1009s - loss: 4.8254 - acc: 0.01 - ETA: 1000s - loss: 4.8252 - acc: 0.01 - ETA: 991s - loss: 4.8255 - acc: 0.0149 - ETA: 982s - loss: 4.8253 - acc: 0.014 - ETA: 974s - loss: 4.8251 - acc: 0.014 - ETA: 967s - loss: 4.8253 - acc: 0.014 - ETA: 960s - loss: 4.8246 - acc: 0.014 - ETA: 953s - loss: 4.8239 - acc: 0.014 - ETA: 945s - loss: 4.8242 - acc: 0.014 - ETA: 938s - loss: 4.8245 - acc: 0.014 - ETA: 931s - loss: 4.8241 - acc: 0.014 - ETA: 924s - loss: 4.8238 - acc: 0.014 - ETA: 919s - loss: 4.8249 - acc: 0.014 - ETA: 912s - loss: 4.8252 - acc: 0.014 - ETA: 904s - loss: 4.8247 - acc: 0.014 - ETA: 897s - loss: 4.8239 - acc: 0.014 - ETA: 890s - loss: 4.8246 - acc: 0.014 - ETA: 887s - loss: 4.8245 - acc: 0.014 - ETA: 880s - loss: 4.8241 - acc: 0.014 - ETA: 873s - loss: 4.8253 - acc: 0.013 - ETA: 866s - loss: 4.8242 - acc: 0.013 - ETA: 861s - loss: 4.8249 - acc: 0.013 - ETA: 854s - loss: 4.8244 - acc: 0.013 - ETA: 847s - loss: 4.8264 - acc: 0.013 - ETA: 841s - loss: 4.8272 - acc: 0.013 - ETA: 836s - loss: 4.8275 - acc: 0.013 - ETA: 829s - loss: 4.8277 - acc: 0.013 - ETA: 823s - loss: 4.8279 - acc: 0.014 - ETA: 817s - loss: 4.8293 - acc: 0.014 - ETA: 810s - loss: 4.8296 - acc: 0.014 - ETA: 804s - loss: 4.8300 - acc: 0.014 - ETA: 798s - loss: 4.8289 - acc: 0.014 - ETA: 792s - loss: 4.8290 - acc: 0.014 - ETA: 786s - loss: 4.8281 - acc: 0.014 - ETA: 780s - loss: 4.8279 - acc: 0.014 - ETA: 775s - loss: 4.8263 - acc: 0.014 - ETA: 769s - loss: 4.8259 - acc: 0.014 - ETA: 764s - loss: 4.8261 - acc: 0.014 - ETA: 759s - loss: 4.8264 - acc: 0.015 - ETA: 753s - loss: 4.8261 - acc: 0.015 - ETA: 749s - loss: 4.8249 - acc: 0.015 - ETA: 743s - loss: 4.8249 - acc: 0.015 - ETA: 738s - loss: 4.8250 - acc: 0.015 - ETA: 733s - loss: 4.8256 - acc: 0.015 - ETA: 728s - loss: 4.8253 - acc: 0.015 - ETA: 722s - loss: 4.8256 - acc: 0.015 - ETA: 717s - loss: 4.8256 - acc: 0.015 - ETA: 712s - loss: 4.8261 - acc: 0.015 - ETA: 707s - loss: 4.8256 - acc: 0.015 - ETA: 701s - loss: 4.8259 - acc: 0.015 - ETA: 696s - loss: 4.8271 - acc: 0.015 - ETA: 691s - loss: 4.8271 - acc: 0.015 - ETA: 686s - loss: 4.8270 - acc: 0.015 - ETA: 681s - loss: 4.8279 - acc: 0.015 - ETA: 676s - loss: 4.8287 - acc: 0.015 - ETA: 671s - loss: 4.8291 - acc: 0.015 - ETA: 666s - loss: 4.8293 - acc: 0.015 - ETA: 662s - loss: 4.8294 - acc: 0.015 - ETA: 657s - loss: 4.8291 - acc: 0.015 - ETA: 652s - loss: 4.8281 - acc: 0.015 - ETA: 647s - loss: 4.8269 - acc: 0.015 - ETA: 643s - loss: 4.8274 - acc: 0.015 - ETA: 639s - loss: 4.8271 - acc: 0.015 - ETA: 634s - loss: 4.8271 - acc: 0.015 - ETA: 630s - loss: 4.8270 - acc: 0.015 - ETA: 625s - loss: 4.8258 - acc: 0.015 - ETA: 621s - loss: 4.8264 - acc: 0.015 - ETA: 616s - loss: 4.8267 - acc: 0.015 - ETA: 612s - loss: 4.8263 - acc: 0.015 - ETA: 607s - loss: 4.8271 - acc: 0.015 - ETA: 603s - loss: 4.8258 - acc: 0.015 - ETA: 598s - loss: 4.8267 - acc: 0.015 - ETA: 594s - loss: 4.8272 - acc: 0.015 - ETA: 589s - loss: 4.8274 - acc: 0.015 - ETA: 585s - loss: 4.8286 - acc: 0.015 - ETA: 581s - loss: 4.8284 - acc: 0.015 - ETA: 576s - loss: 4.8286 - acc: 0.015 - ETA: 572s - loss: 4.8293 - acc: 0.015 - ETA: 568s - loss: 4.8298 - acc: 0.015 - ETA: 564s - loss: 4.8296 - acc: 0.015 - ETA: 559s - loss: 4.8298 - acc: 0.015 - ETA: 555s - loss: 4.8294 - acc: 0.015 - ETA: 552s - loss: 4.8299 - acc: 0.015 - ETA: 548s - loss: 4.8301 - acc: 0.015 - ETA: 546s - loss: 4.8304 - acc: 0.015 - ETA: 541s - loss: 4.8297 - acc: 0.015 - ETA: 537s - loss: 4.8297 - acc: 0.015 - ETA: 534s - loss: 4.8294 - acc: 0.015 - ETA: 530s - loss: 4.8290 - acc: 0.015 - ETA: 525s - loss: 4.8284 - acc: 0.015 - ETA: 522s - loss: 4.8288 - acc: 0.015 - ETA: 518s - loss: 4.8284 - acc: 0.015 - ETA: 514s - loss: 4.8285 - acc: 0.015 - ETA: 510s - loss: 4.8283 - acc: 0.014 - ETA: 506s - loss: 4.8281 - acc: 0.015 - ETA: 502s - loss: 4.8284 - acc: 0.015 - ETA: 498s - loss: 4.8283 - acc: 0.015 - ETA: 494s - loss: 4.8282 - acc: 0.015 - ETA: 490s - loss: 4.8284 - acc: 0.015 - ETA: 487s - loss: 4.8284 - acc: 0.015 - ETA: 483s - loss: 4.8279 - acc: 0.015 - ETA: 479s - loss: 4.8271 - acc: 0.015 - ETA: 475s - loss: 4.8269 - acc: 0.015 - ETA: 472s - loss: 4.8265 - acc: 0.015 - ETA: 468s - loss: 4.8277 - acc: 0.015 - ETA: 464s - loss: 4.8280 - acc: 0.015 - ETA: 460s - loss: 4.8275 - acc: 0.015 - ETA: 456s - loss: 4.8284 - acc: 0.015 - ETA: 452s - loss: 4.8284 - acc: 0.015 - ETA: 448s - loss: 4.8282 - acc: 0.015 - ETA: 445s - loss: 4.8283 - acc: 0.015 - ETA: 441s - loss: 4.8285 - acc: 0.015 - ETA: 437s - loss: 4.8290 - acc: 0.015 - ETA: 434s - loss: 4.8289 - acc: 0.015 - ETA: 430s - loss: 4.8288 - acc: 0.015 - ETA: 426s - loss: 4.8290 - acc: 0.015 - ETA: 423s - loss: 4.8289 - acc: 0.015 - ETA: 419s - loss: 4.8293 - acc: 0.015 - ETA: 415s - loss: 4.8293 - acc: 0.015 - ETA: 412s - loss: 4.8294 - acc: 0.0157"
     ]
    },
    {
     "name": "stdout",
     "output_type": "stream",
     "text": [
      "6660/6680 [============================>.] - ETA: 409s - loss: 4.8297 - acc: 0.015 - ETA: 405s - loss: 4.8299 - acc: 0.015 - ETA: 401s - loss: 4.8301 - acc: 0.015 - ETA: 398s - loss: 4.8303 - acc: 0.015 - ETA: 394s - loss: 4.8302 - acc: 0.015 - ETA: 391s - loss: 4.8295 - acc: 0.015 - ETA: 387s - loss: 4.8289 - acc: 0.015 - ETA: 383s - loss: 4.8289 - acc: 0.015 - ETA: 380s - loss: 4.8293 - acc: 0.015 - ETA: 376s - loss: 4.8295 - acc: 0.015 - ETA: 373s - loss: 4.8294 - acc: 0.016 - ETA: 369s - loss: 4.8292 - acc: 0.016 - ETA: 366s - loss: 4.8291 - acc: 0.016 - ETA: 363s - loss: 4.8298 - acc: 0.016 - ETA: 359s - loss: 4.8304 - acc: 0.016 - ETA: 355s - loss: 4.8307 - acc: 0.016 - ETA: 352s - loss: 4.8308 - acc: 0.016 - ETA: 349s - loss: 4.8310 - acc: 0.016 - ETA: 346s - loss: 4.8312 - acc: 0.016 - ETA: 343s - loss: 4.8315 - acc: 0.016 - ETA: 339s - loss: 4.8312 - acc: 0.016 - ETA: 336s - loss: 4.8309 - acc: 0.016 - ETA: 333s - loss: 4.8308 - acc: 0.016 - ETA: 329s - loss: 4.8313 - acc: 0.016 - ETA: 326s - loss: 4.8314 - acc: 0.015 - ETA: 322s - loss: 4.8316 - acc: 0.015 - ETA: 319s - loss: 4.8313 - acc: 0.015 - ETA: 316s - loss: 4.8312 - acc: 0.015 - ETA: 312s - loss: 4.8314 - acc: 0.015 - ETA: 309s - loss: 4.8314 - acc: 0.015 - ETA: 306s - loss: 4.8308 - acc: 0.015 - ETA: 303s - loss: 4.8319 - acc: 0.015 - ETA: 300s - loss: 4.8315 - acc: 0.015 - ETA: 297s - loss: 4.8308 - acc: 0.015 - ETA: 295s - loss: 4.8307 - acc: 0.015 - ETA: 292s - loss: 4.8309 - acc: 0.015 - ETA: 289s - loss: 4.8313 - acc: 0.015 - ETA: 285s - loss: 4.8312 - acc: 0.015 - ETA: 282s - loss: 4.8311 - acc: 0.015 - ETA: 279s - loss: 4.8312 - acc: 0.015 - ETA: 276s - loss: 4.8307 - acc: 0.015 - ETA: 272s - loss: 4.8306 - acc: 0.015 - ETA: 269s - loss: 4.8306 - acc: 0.016 - ETA: 266s - loss: 4.8305 - acc: 0.016 - ETA: 263s - loss: 4.8314 - acc: 0.016 - ETA: 259s - loss: 4.8316 - acc: 0.016 - ETA: 256s - loss: 4.8314 - acc: 0.016 - ETA: 253s - loss: 4.8322 - acc: 0.016 - ETA: 249s - loss: 4.8323 - acc: 0.016 - ETA: 246s - loss: 4.8324 - acc: 0.016 - ETA: 243s - loss: 4.8319 - acc: 0.016 - ETA: 240s - loss: 4.8320 - acc: 0.016 - ETA: 236s - loss: 4.8313 - acc: 0.016 - ETA: 233s - loss: 4.8316 - acc: 0.016 - ETA: 230s - loss: 4.8314 - acc: 0.016 - ETA: 227s - loss: 4.8314 - acc: 0.016 - ETA: 223s - loss: 4.8313 - acc: 0.016 - ETA: 220s - loss: 4.8316 - acc: 0.016 - ETA: 217s - loss: 4.8314 - acc: 0.016 - ETA: 214s - loss: 4.8314 - acc: 0.016 - ETA: 211s - loss: 4.8314 - acc: 0.017 - ETA: 207s - loss: 4.8317 - acc: 0.017 - ETA: 204s - loss: 4.8313 - acc: 0.017 - ETA: 201s - loss: 4.8318 - acc: 0.017 - ETA: 198s - loss: 4.8317 - acc: 0.017 - ETA: 195s - loss: 4.8317 - acc: 0.017 - ETA: 191s - loss: 4.8318 - acc: 0.017 - ETA: 188s - loss: 4.8316 - acc: 0.016 - ETA: 185s - loss: 4.8309 - acc: 0.017 - ETA: 182s - loss: 4.8315 - acc: 0.017 - ETA: 179s - loss: 4.8317 - acc: 0.016 - ETA: 176s - loss: 4.8315 - acc: 0.016 - ETA: 172s - loss: 4.8315 - acc: 0.016 - ETA: 169s - loss: 4.8312 - acc: 0.016 - ETA: 166s - loss: 4.8317 - acc: 0.016 - ETA: 163s - loss: 4.8315 - acc: 0.016 - ETA: 160s - loss: 4.8317 - acc: 0.016 - ETA: 157s - loss: 4.8319 - acc: 0.016 - ETA: 154s - loss: 4.8324 - acc: 0.016 - ETA: 150s - loss: 4.8322 - acc: 0.016 - ETA: 147s - loss: 4.8321 - acc: 0.016 - ETA: 144s - loss: 4.8317 - acc: 0.016 - ETA: 141s - loss: 4.8308 - acc: 0.016 - ETA: 138s - loss: 4.8320 - acc: 0.016 - ETA: 135s - loss: 4.8321 - acc: 0.016 - ETA: 132s - loss: 4.8318 - acc: 0.016 - ETA: 129s - loss: 4.8320 - acc: 0.016 - ETA: 126s - loss: 4.8320 - acc: 0.016 - ETA: 123s - loss: 4.8322 - acc: 0.016 - ETA: 120s - loss: 4.8324 - acc: 0.016 - ETA: 117s - loss: 4.8323 - acc: 0.016 - ETA: 114s - loss: 4.8328 - acc: 0.016 - ETA: 111s - loss: 4.8330 - acc: 0.016 - ETA: 108s - loss: 4.8331 - acc: 0.016 - ETA: 105s - loss: 4.8330 - acc: 0.016 - ETA: 102s - loss: 4.8336 - acc: 0.016 - ETA: 99s - loss: 4.8335 - acc: 0.016 - ETA: 95s - loss: 4.8330 - acc: 0.01 - ETA: 92s - loss: 4.8332 - acc: 0.01 - ETA: 89s - loss: 4.8331 - acc: 0.01 - ETA: 86s - loss: 4.8334 - acc: 0.01 - ETA: 83s - loss: 4.8334 - acc: 0.01 - ETA: 80s - loss: 4.8333 - acc: 0.01 - ETA: 77s - loss: 4.8330 - acc: 0.01 - ETA: 74s - loss: 4.8326 - acc: 0.01 - ETA: 71s - loss: 4.8323 - acc: 0.01 - ETA: 68s - loss: 4.8325 - acc: 0.01 - ETA: 65s - loss: 4.8326 - acc: 0.01 - ETA: 62s - loss: 4.8330 - acc: 0.01 - ETA: 59s - loss: 4.8329 - acc: 0.01 - ETA: 56s - loss: 4.8325 - acc: 0.01 - ETA: 53s - loss: 4.8322 - acc: 0.01 - ETA: 50s - loss: 4.8321 - acc: 0.01 - ETA: 47s - loss: 4.8321 - acc: 0.01 - ETA: 44s - loss: 4.8323 - acc: 0.01 - ETA: 41s - loss: 4.8325 - acc: 0.01 - ETA: 38s - loss: 4.8326 - acc: 0.01 - ETA: 35s - loss: 4.8327 - acc: 0.01 - ETA: 32s - loss: 4.8327 - acc: 0.01 - ETA: 29s - loss: 4.8326 - acc: 0.01 - ETA: 26s - loss: 4.8323 - acc: 0.01 - ETA: 23s - loss: 4.8323 - acc: 0.01 - ETA: 20s - loss: 4.8324 - acc: 0.01 - ETA: 17s - loss: 4.8323 - acc: 0.01 - ETA: 14s - loss: 4.8323 - acc: 0.01 - ETA: 11s - loss: 4.8321 - acc: 0.01 - ETA: 8s - loss: 4.8321 - acc: 0.0172 - ETA: 5s - loss: 4.8320 - acc: 0.017 - ETA: 2s - loss: 4.8322 - acc: 0.0171Epoch 00002: val_loss improved from 4.84613 to 4.82468, saving model to saved_models/weights.best.from_scratch.hdf5\n",
      "6680/6680 [==============================] - 1019s - loss: 4.8323 - acc: 0.0171 - val_loss: 4.8247 - val_acc: 0.0216\n",
      "Epoch 4/5\n"
     ]
    },
    {
     "name": "stdout",
     "output_type": "stream",
     "text": [
      "4080/6680 [=================>............] - ETA: 728s - loss: 4.7950 - acc: 0.0000e+0 - ETA: 738s - loss: 4.8281 - acc: 0.0000e+0 - ETA: 738s - loss: 4.7732 - acc: 0.0167    - ETA: 744s - loss: 4.7856 - acc: 0.012 - ETA: 737s - loss: 4.7750 - acc: 0.010 - ETA: 731s - loss: 4.7670 - acc: 0.008 - ETA: 728s - loss: 4.7496 - acc: 0.014 - ETA: 725s - loss: 4.7453 - acc: 0.012 - ETA: 722s - loss: 4.7598 - acc: 0.011 - ETA: 717s - loss: 4.7663 - acc: 0.010 - ETA: 714s - loss: 4.7655 - acc: 0.009 - ETA: 713s - loss: 4.7692 - acc: 0.012 - ETA: 711s - loss: 4.7767 - acc: 0.011 - ETA: 707s - loss: 4.7797 - acc: 0.010 - ETA: 705s - loss: 4.7819 - acc: 0.013 - ETA: 702s - loss: 4.7895 - acc: 0.012 - ETA: 700s - loss: 4.7897 - acc: 0.011 - ETA: 698s - loss: 4.7947 - acc: 0.011 - ETA: 696s - loss: 4.7864 - acc: 0.015 - ETA: 694s - loss: 4.7933 - acc: 0.015 - ETA: 692s - loss: 4.8066 - acc: 0.014 - ETA: 694s - loss: 4.8038 - acc: 0.015 - ETA: 692s - loss: 4.8052 - acc: 0.015 - ETA: 689s - loss: 4.8120 - acc: 0.014 - ETA: 687s - loss: 4.8118 - acc: 0.014 - ETA: 684s - loss: 4.8176 - acc: 0.013 - ETA: 681s - loss: 4.8200 - acc: 0.013 - ETA: 679s - loss: 4.8219 - acc: 0.014 - ETA: 677s - loss: 4.8232 - acc: 0.015 - ETA: 674s - loss: 4.8200 - acc: 0.016 - ETA: 672s - loss: 4.8195 - acc: 0.016 - ETA: 670s - loss: 4.8181 - acc: 0.015 - ETA: 668s - loss: 4.8178 - acc: 0.016 - ETA: 666s - loss: 4.8154 - acc: 0.016 - ETA: 663s - loss: 4.8119 - acc: 0.015 - ETA: 661s - loss: 4.8093 - acc: 0.015 - ETA: 658s - loss: 4.8077 - acc: 0.016 - ETA: 655s - loss: 4.8063 - acc: 0.017 - ETA: 653s - loss: 4.8065 - acc: 0.016 - ETA: 651s - loss: 4.8058 - acc: 0.016 - ETA: 648s - loss: 4.8044 - acc: 0.019 - ETA: 646s - loss: 4.8030 - acc: 0.020 - ETA: 644s - loss: 4.8064 - acc: 0.019 - ETA: 642s - loss: 4.8063 - acc: 0.019 - ETA: 639s - loss: 4.8037 - acc: 0.018 - ETA: 637s - loss: 4.8056 - acc: 0.018 - ETA: 635s - loss: 4.8032 - acc: 0.019 - ETA: 633s - loss: 4.8015 - acc: 0.018 - ETA: 630s - loss: 4.8013 - acc: 0.018 - ETA: 628s - loss: 4.7995 - acc: 0.019 - ETA: 627s - loss: 4.7997 - acc: 0.018 - ETA: 625s - loss: 4.8003 - acc: 0.018 - ETA: 623s - loss: 4.8016 - acc: 0.017 - ETA: 620s - loss: 4.8049 - acc: 0.017 - ETA: 618s - loss: 4.8044 - acc: 0.017 - ETA: 616s - loss: 4.8032 - acc: 0.017 - ETA: 614s - loss: 4.8047 - acc: 0.016 - ETA: 613s - loss: 4.8042 - acc: 0.016 - ETA: 610s - loss: 4.8027 - acc: 0.016 - ETA: 609s - loss: 4.8048 - acc: 0.015 - ETA: 606s - loss: 4.8056 - acc: 0.016 - ETA: 604s - loss: 4.8045 - acc: 0.016 - ETA: 603s - loss: 4.8085 - acc: 0.016 - ETA: 601s - loss: 4.8082 - acc: 0.017 - ETA: 598s - loss: 4.8055 - acc: 0.016 - ETA: 596s - loss: 4.8042 - acc: 0.016 - ETA: 594s - loss: 4.8047 - acc: 0.016 - ETA: 592s - loss: 4.8039 - acc: 0.016 - ETA: 589s - loss: 4.8007 - acc: 0.016 - ETA: 587s - loss: 4.8031 - acc: 0.016 - ETA: 585s - loss: 4.8044 - acc: 0.016 - ETA: 582s - loss: 4.8031 - acc: 0.017 - ETA: 580s - loss: 4.8035 - acc: 0.017 - ETA: 579s - loss: 4.8023 - acc: 0.017 - ETA: 577s - loss: 4.8021 - acc: 0.017 - ETA: 575s - loss: 4.8042 - acc: 0.017 - ETA: 572s - loss: 4.8005 - acc: 0.017 - ETA: 570s - loss: 4.8027 - acc: 0.017 - ETA: 568s - loss: 4.8019 - acc: 0.017 - ETA: 565s - loss: 4.8025 - acc: 0.017 - ETA: 563s - loss: 4.8006 - acc: 0.018 - ETA: 561s - loss: 4.8026 - acc: 0.018 - ETA: 558s - loss: 4.8047 - acc: 0.018 - ETA: 556s - loss: 4.8045 - acc: 0.018 - ETA: 553s - loss: 4.8064 - acc: 0.018 - ETA: 551s - loss: 4.8060 - acc: 0.019 - ETA: 549s - loss: 4.8065 - acc: 0.019 - ETA: 547s - loss: 4.8064 - acc: 0.019 - ETA: 544s - loss: 4.8059 - acc: 0.019 - ETA: 542s - loss: 4.8051 - acc: 0.018 - ETA: 540s - loss: 4.8065 - acc: 0.018 - ETA: 537s - loss: 4.8066 - acc: 0.018 - ETA: 535s - loss: 4.8071 - acc: 0.018 - ETA: 533s - loss: 4.8059 - acc: 0.019 - ETA: 531s - loss: 4.8057 - acc: 0.019 - ETA: 528s - loss: 4.8051 - acc: 0.019 - ETA: 526s - loss: 4.8050 - acc: 0.019 - ETA: 524s - loss: 4.8062 - acc: 0.019 - ETA: 522s - loss: 4.8057 - acc: 0.019 - ETA: 519s - loss: 4.8052 - acc: 0.019 - ETA: 518s - loss: 4.8048 - acc: 0.019 - ETA: 516s - loss: 4.8051 - acc: 0.019 - ETA: 513s - loss: 4.8058 - acc: 0.019 - ETA: 511s - loss: 4.8069 - acc: 0.019 - ETA: 508s - loss: 4.8063 - acc: 0.019 - ETA: 506s - loss: 4.8064 - acc: 0.019 - ETA: 504s - loss: 4.8053 - acc: 0.019 - ETA: 502s - loss: 4.8061 - acc: 0.020 - ETA: 499s - loss: 4.8044 - acc: 0.020 - ETA: 497s - loss: 4.8047 - acc: 0.020 - ETA: 495s - loss: 4.8052 - acc: 0.020 - ETA: 493s - loss: 4.8034 - acc: 0.020 - ETA: 491s - loss: 4.8047 - acc: 0.020 - ETA: 488s - loss: 4.8040 - acc: 0.020 - ETA: 486s - loss: 4.8037 - acc: 0.020 - ETA: 484s - loss: 4.8038 - acc: 0.019 - ETA: 481s - loss: 4.8029 - acc: 0.019 - ETA: 479s - loss: 4.8037 - acc: 0.019 - ETA: 477s - loss: 4.8030 - acc: 0.019 - ETA: 475s - loss: 4.8029 - acc: 0.019 - ETA: 473s - loss: 4.8025 - acc: 0.019 - ETA: 470s - loss: 4.8044 - acc: 0.019 - ETA: 468s - loss: 4.8034 - acc: 0.019 - ETA: 466s - loss: 4.8028 - acc: 0.019 - ETA: 464s - loss: 4.8041 - acc: 0.018 - ETA: 461s - loss: 4.8037 - acc: 0.018 - ETA: 459s - loss: 4.8025 - acc: 0.018 - ETA: 457s - loss: 4.8009 - acc: 0.018 - ETA: 455s - loss: 4.8012 - acc: 0.018 - ETA: 453s - loss: 4.8015 - acc: 0.018 - ETA: 450s - loss: 4.8018 - acc: 0.018 - ETA: 448s - loss: 4.8017 - acc: 0.018 - ETA: 446s - loss: 4.8033 - acc: 0.018 - ETA: 443s - loss: 4.8023 - acc: 0.019 - ETA: 441s - loss: 4.8020 - acc: 0.018 - ETA: 439s - loss: 4.8028 - acc: 0.019 - ETA: 437s - loss: 4.8029 - acc: 0.019 - ETA: 435s - loss: 4.8039 - acc: 0.019 - ETA: 433s - loss: 4.8040 - acc: 0.019 - ETA: 430s - loss: 4.8049 - acc: 0.019 - ETA: 428s - loss: 4.8053 - acc: 0.019 - ETA: 426s - loss: 4.8048 - acc: 0.019 - ETA: 424s - loss: 4.8052 - acc: 0.019 - ETA: 421s - loss: 4.8057 - acc: 0.019 - ETA: 419s - loss: 4.8051 - acc: 0.019 - ETA: 417s - loss: 4.8034 - acc: 0.019 - ETA: 415s - loss: 4.8021 - acc: 0.019 - ETA: 413s - loss: 4.8028 - acc: 0.018 - ETA: 410s - loss: 4.8035 - acc: 0.019 - ETA: 408s - loss: 4.8037 - acc: 0.019 - ETA: 406s - loss: 4.8041 - acc: 0.018 - ETA: 404s - loss: 4.8039 - acc: 0.018 - ETA: 401s - loss: 4.8041 - acc: 0.018 - ETA: 399s - loss: 4.8029 - acc: 0.018 - ETA: 397s - loss: 4.8043 - acc: 0.018 - ETA: 395s - loss: 4.8040 - acc: 0.018 - ETA: 393s - loss: 4.8032 - acc: 0.018 - ETA: 390s - loss: 4.8030 - acc: 0.018 - ETA: 388s - loss: 4.8016 - acc: 0.018 - ETA: 386s - loss: 4.8011 - acc: 0.018 - ETA: 384s - loss: 4.8023 - acc: 0.018 - ETA: 382s - loss: 4.8025 - acc: 0.017 - ETA: 380s - loss: 4.8029 - acc: 0.018 - ETA: 377s - loss: 4.8029 - acc: 0.018 - ETA: 375s - loss: 4.8028 - acc: 0.017 - ETA: 373s - loss: 4.8035 - acc: 0.017 - ETA: 371s - loss: 4.8041 - acc: 0.017 - ETA: 369s - loss: 4.8039 - acc: 0.017 - ETA: 366s - loss: 4.8031 - acc: 0.017 - ETA: 364s - loss: 4.8037 - acc: 0.017 - ETA: 362s - loss: 4.8030 - acc: 0.017 - ETA: 360s - loss: 4.8030 - acc: 0.017 - ETA: 357s - loss: 4.8027 - acc: 0.017 - ETA: 355s - loss: 4.8036 - acc: 0.017 - ETA: 353s - loss: 4.8030 - acc: 0.017 - ETA: 351s - loss: 4.8031 - acc: 0.017 - ETA: 349s - loss: 4.8035 - acc: 0.017 - ETA: 346s - loss: 4.8037 - acc: 0.017 - ETA: 344s - loss: 4.8035 - acc: 0.017 - ETA: 342s - loss: 4.8030 - acc: 0.017 - ETA: 340s - loss: 4.8022 - acc: 0.017 - ETA: 337s - loss: 4.8026 - acc: 0.017 - ETA: 335s - loss: 4.8027 - acc: 0.018 - ETA: 333s - loss: 4.8031 - acc: 0.017 - ETA: 331s - loss: 4.8027 - acc: 0.018 - ETA: 328s - loss: 4.8030 - acc: 0.018 - ETA: 326s - loss: 4.8026 - acc: 0.018 - ETA: 324s - loss: 4.8028 - acc: 0.018 - ETA: 322s - loss: 4.8031 - acc: 0.018 - ETA: 320s - loss: 4.8032 - acc: 0.018 - ETA: 317s - loss: 4.8027 - acc: 0.018 - ETA: 315s - loss: 4.8022 - acc: 0.018 - ETA: 313s - loss: 4.8025 - acc: 0.018 - ETA: 311s - loss: 4.8024 - acc: 0.018 - ETA: 308s - loss: 4.8016 - acc: 0.017 - ETA: 306s - loss: 4.8014 - acc: 0.018 - ETA: 304s - loss: 4.8017 - acc: 0.018 - ETA: 302s - loss: 4.8016 - acc: 0.018 - ETA: 299s - loss: 4.8013 - acc: 0.018 - ETA: 297s - loss: 4.8014 - acc: 0.018 - ETA: 295s - loss: 4.8023 - acc: 0.018 - ETA: 293s - loss: 4.8022 - acc: 0.018 - ETA: 291s - loss: 4.8012 - acc: 0.018 - ETA: 288s - loss: 4.8015 - acc: 0.0186"
     ]
    },
    {
     "name": "stdout",
     "output_type": "stream",
     "text": [
      "6660/6680 [============================>.] - ETA: 286s - loss: 4.8010 - acc: 0.019 - ETA: 284s - loss: 4.8019 - acc: 0.019 - ETA: 282s - loss: 4.8015 - acc: 0.019 - ETA: 280s - loss: 4.8012 - acc: 0.019 - ETA: 277s - loss: 4.8019 - acc: 0.019 - ETA: 275s - loss: 4.8013 - acc: 0.019 - ETA: 273s - loss: 4.8005 - acc: 0.019 - ETA: 271s - loss: 4.8001 - acc: 0.019 - ETA: 268s - loss: 4.7994 - acc: 0.019 - ETA: 266s - loss: 4.7993 - acc: 0.019 - ETA: 264s - loss: 4.7987 - acc: 0.019 - ETA: 262s - loss: 4.7989 - acc: 0.019 - ETA: 260s - loss: 4.7991 - acc: 0.019 - ETA: 257s - loss: 4.8003 - acc: 0.019 - ETA: 255s - loss: 4.8001 - acc: 0.019 - ETA: 253s - loss: 4.8006 - acc: 0.019 - ETA: 251s - loss: 4.8002 - acc: 0.019 - ETA: 249s - loss: 4.8006 - acc: 0.019 - ETA: 247s - loss: 4.8006 - acc: 0.019 - ETA: 244s - loss: 4.8009 - acc: 0.019 - ETA: 242s - loss: 4.8011 - acc: 0.019 - ETA: 240s - loss: 4.8011 - acc: 0.019 - ETA: 238s - loss: 4.8004 - acc: 0.019 - ETA: 235s - loss: 4.8001 - acc: 0.019 - ETA: 233s - loss: 4.8003 - acc: 0.019 - ETA: 231s - loss: 4.8000 - acc: 0.019 - ETA: 229s - loss: 4.8015 - acc: 0.019 - ETA: 226s - loss: 4.8018 - acc: 0.019 - ETA: 224s - loss: 4.8014 - acc: 0.019 - ETA: 222s - loss: 4.8013 - acc: 0.019 - ETA: 220s - loss: 4.8012 - acc: 0.019 - ETA: 218s - loss: 4.8014 - acc: 0.019 - ETA: 215s - loss: 4.8014 - acc: 0.019 - ETA: 213s - loss: 4.8012 - acc: 0.019 - ETA: 211s - loss: 4.8006 - acc: 0.020 - ETA: 209s - loss: 4.8009 - acc: 0.020 - ETA: 206s - loss: 4.8015 - acc: 0.020 - ETA: 204s - loss: 4.8017 - acc: 0.020 - ETA: 202s - loss: 4.8015 - acc: 0.020 - ETA: 200s - loss: 4.8012 - acc: 0.020 - ETA: 198s - loss: 4.8004 - acc: 0.020 - ETA: 195s - loss: 4.8007 - acc: 0.020 - ETA: 193s - loss: 4.8007 - acc: 0.020 - ETA: 191s - loss: 4.8006 - acc: 0.020 - ETA: 189s - loss: 4.8005 - acc: 0.020 - ETA: 187s - loss: 4.8011 - acc: 0.020 - ETA: 184s - loss: 4.8010 - acc: 0.020 - ETA: 182s - loss: 4.8004 - acc: 0.020 - ETA: 180s - loss: 4.8007 - acc: 0.020 - ETA: 178s - loss: 4.8012 - acc: 0.020 - ETA: 175s - loss: 4.8007 - acc: 0.020 - ETA: 173s - loss: 4.8000 - acc: 0.020 - ETA: 171s - loss: 4.7998 - acc: 0.020 - ETA: 169s - loss: 4.8001 - acc: 0.020 - ETA: 167s - loss: 4.7999 - acc: 0.020 - ETA: 164s - loss: 4.7998 - acc: 0.020 - ETA: 162s - loss: 4.7997 - acc: 0.020 - ETA: 160s - loss: 4.7991 - acc: 0.020 - ETA: 158s - loss: 4.7982 - acc: 0.020 - ETA: 155s - loss: 4.7978 - acc: 0.020 - ETA: 153s - loss: 4.7978 - acc: 0.020 - ETA: 151s - loss: 4.7969 - acc: 0.020 - ETA: 149s - loss: 4.7968 - acc: 0.020 - ETA: 147s - loss: 4.7967 - acc: 0.020 - ETA: 144s - loss: 4.7968 - acc: 0.019 - ETA: 142s - loss: 4.7965 - acc: 0.020 - ETA: 140s - loss: 4.7965 - acc: 0.019 - ETA: 138s - loss: 4.7964 - acc: 0.020 - ETA: 135s - loss: 4.7963 - acc: 0.020 - ETA: 133s - loss: 4.7966 - acc: 0.019 - ETA: 131s - loss: 4.7964 - acc: 0.019 - ETA: 129s - loss: 4.7959 - acc: 0.019 - ETA: 127s - loss: 4.7962 - acc: 0.019 - ETA: 124s - loss: 4.7969 - acc: 0.019 - ETA: 122s - loss: 4.7960 - acc: 0.019 - ETA: 120s - loss: 4.7955 - acc: 0.019 - ETA: 118s - loss: 4.7955 - acc: 0.019 - ETA: 115s - loss: 4.7954 - acc: 0.019 - ETA: 113s - loss: 4.7955 - acc: 0.019 - ETA: 111s - loss: 4.7949 - acc: 0.019 - ETA: 109s - loss: 4.7952 - acc: 0.019 - ETA: 107s - loss: 4.7953 - acc: 0.019 - ETA: 104s - loss: 4.7951 - acc: 0.019 - ETA: 102s - loss: 4.7950 - acc: 0.019 - ETA: 100s - loss: 4.7954 - acc: 0.019 - ETA: 98s - loss: 4.7957 - acc: 0.019 - ETA: 95s - loss: 4.7960 - acc: 0.01 - ETA: 93s - loss: 4.7962 - acc: 0.01 - ETA: 91s - loss: 4.7970 - acc: 0.01 - ETA: 89s - loss: 4.7973 - acc: 0.01 - ETA: 87s - loss: 4.7971 - acc: 0.01 - ETA: 84s - loss: 4.7970 - acc: 0.01 - ETA: 82s - loss: 4.7972 - acc: 0.01 - ETA: 80s - loss: 4.7973 - acc: 0.01 - ETA: 78s - loss: 4.7973 - acc: 0.01 - ETA: 75s - loss: 4.7972 - acc: 0.01 - ETA: 73s - loss: 4.7974 - acc: 0.01 - ETA: 71s - loss: 4.7974 - acc: 0.01 - ETA: 69s - loss: 4.7981 - acc: 0.01 - ETA: 66s - loss: 4.7981 - acc: 0.01 - ETA: 64s - loss: 4.7987 - acc: 0.01 - ETA: 62s - loss: 4.7983 - acc: 0.01 - ETA: 60s - loss: 4.7982 - acc: 0.01 - ETA: 58s - loss: 4.7980 - acc: 0.01 - ETA: 55s - loss: 4.7980 - acc: 0.01 - ETA: 53s - loss: 4.7985 - acc: 0.01 - ETA: 51s - loss: 4.7981 - acc: 0.01 - ETA: 49s - loss: 4.7978 - acc: 0.01 - ETA: 46s - loss: 4.7978 - acc: 0.01 - ETA: 44s - loss: 4.7975 - acc: 0.01 - ETA: 42s - loss: 4.7974 - acc: 0.01 - ETA: 40s - loss: 4.7977 - acc: 0.01 - ETA: 37s - loss: 4.7974 - acc: 0.01 - ETA: 35s - loss: 4.7974 - acc: 0.01 - ETA: 33s - loss: 4.7970 - acc: 0.01 - ETA: 31s - loss: 4.7972 - acc: 0.01 - ETA: 29s - loss: 4.7969 - acc: 0.01 - ETA: 26s - loss: 4.7966 - acc: 0.01 - ETA: 24s - loss: 4.7963 - acc: 0.01 - ETA: 22s - loss: 4.7962 - acc: 0.01 - ETA: 20s - loss: 4.7971 - acc: 0.01 - ETA: 17s - loss: 4.7971 - acc: 0.01 - ETA: 15s - loss: 4.7973 - acc: 0.01 - ETA: 13s - loss: 4.7976 - acc: 0.01 - ETA: 11s - loss: 4.7978 - acc: 0.01 - ETA: 8s - loss: 4.7977 - acc: 0.0191 - ETA: 6s - loss: 4.7975 - acc: 0.019 - ETA: 4s - loss: 4.7977 - acc: 0.019 - ETA: 2s - loss: 4.7980 - acc: 0.0192Epoch 00003: val_loss improved from 4.82468 to 4.79343, saving model to saved_models/weights.best.from_scratch.hdf5\n",
      "6680/6680 [==============================] - 776s - loss: 4.7978 - acc: 0.0193 - val_loss: 4.7934 - val_acc: 0.0228\n",
      "Epoch 5/5\n"
     ]
    },
    {
     "name": "stdout",
     "output_type": "stream",
     "text": [
      "4080/6680 [=================>............] - ETA: 750s - loss: 4.6998 - acc: 0.0000e+0 - ETA: 744s - loss: 4.7186 - acc: 0.0000e+0 - ETA: 737s - loss: 4.6944 - acc: 0.0167    - ETA: 733s - loss: 4.7510 - acc: 0.012 - ETA: 728s - loss: 4.7361 - acc: 0.010 - ETA: 729s - loss: 4.7506 - acc: 0.008 - ETA: 730s - loss: 4.7444 - acc: 0.007 - ETA: 728s - loss: 4.7578 - acc: 0.012 - ETA: 727s - loss: 4.7393 - acc: 0.016 - ETA: 725s - loss: 4.7354 - acc: 0.015 - ETA: 723s - loss: 4.7514 - acc: 0.013 - ETA: 720s - loss: 4.7526 - acc: 0.012 - ETA: 718s - loss: 4.7471 - acc: 0.011 - ETA: 715s - loss: 4.7327 - acc: 0.014 - ETA: 713s - loss: 4.7276 - acc: 0.013 - ETA: 711s - loss: 4.7417 - acc: 0.012 - ETA: 708s - loss: 4.7372 - acc: 0.014 - ETA: 706s - loss: 4.7458 - acc: 0.013 - ETA: 704s - loss: 4.7497 - acc: 0.015 - ETA: 700s - loss: 4.7467 - acc: 0.017 - ETA: 697s - loss: 4.7566 - acc: 0.016 - ETA: 695s - loss: 4.7603 - acc: 0.015 - ETA: 693s - loss: 4.7551 - acc: 0.017 - ETA: 691s - loss: 4.7525 - acc: 0.016 - ETA: 689s - loss: 4.7514 - acc: 0.016 - ETA: 687s - loss: 4.7494 - acc: 0.019 - ETA: 685s - loss: 4.7524 - acc: 0.020 - ETA: 683s - loss: 4.7556 - acc: 0.019 - ETA: 680s - loss: 4.7574 - acc: 0.019 - ETA: 677s - loss: 4.7542 - acc: 0.021 - ETA: 676s - loss: 4.7515 - acc: 0.022 - ETA: 673s - loss: 4.7521 - acc: 0.021 - ETA: 671s - loss: 4.7460 - acc: 0.021 - ETA: 669s - loss: 4.7480 - acc: 0.020 - ETA: 668s - loss: 4.7463 - acc: 0.020 - ETA: 666s - loss: 4.7497 - acc: 0.019 - ETA: 663s - loss: 4.7531 - acc: 0.018 - ETA: 661s - loss: 4.7530 - acc: 0.018 - ETA: 658s - loss: 4.7499 - acc: 0.020 - ETA: 656s - loss: 4.7535 - acc: 0.020 - ETA: 654s - loss: 4.7534 - acc: 0.019 - ETA: 652s - loss: 4.7577 - acc: 0.019 - ETA: 649s - loss: 4.7585 - acc: 0.018 - ETA: 648s - loss: 4.7536 - acc: 0.019 - ETA: 645s - loss: 4.7518 - acc: 0.020 - ETA: 643s - loss: 4.7591 - acc: 0.019 - ETA: 641s - loss: 4.7579 - acc: 0.020 - ETA: 639s - loss: 4.7568 - acc: 0.020 - ETA: 636s - loss: 4.7570 - acc: 0.020 - ETA: 634s - loss: 4.7597 - acc: 0.020 - ETA: 632s - loss: 4.7606 - acc: 0.019 - ETA: 630s - loss: 4.7589 - acc: 0.019 - ETA: 627s - loss: 4.7603 - acc: 0.019 - ETA: 625s - loss: 4.7580 - acc: 0.019 - ETA: 623s - loss: 4.7542 - acc: 0.019 - ETA: 621s - loss: 4.7593 - acc: 0.018 - ETA: 618s - loss: 4.7582 - acc: 0.018 - ETA: 616s - loss: 4.7596 - acc: 0.019 - ETA: 614s - loss: 4.7590 - acc: 0.018 - ETA: 612s - loss: 4.7621 - acc: 0.018 - ETA: 609s - loss: 4.7630 - acc: 0.018 - ETA: 607s - loss: 4.7656 - acc: 0.018 - ETA: 605s - loss: 4.7677 - acc: 0.018 - ETA: 602s - loss: 4.7675 - acc: 0.019 - ETA: 600s - loss: 4.7661 - acc: 0.019 - ETA: 598s - loss: 4.7662 - acc: 0.018 - ETA: 595s - loss: 4.7669 - acc: 0.018 - ETA: 593s - loss: 4.7674 - acc: 0.019 - ETA: 591s - loss: 4.7658 - acc: 0.019 - ETA: 588s - loss: 4.7710 - acc: 0.019 - ETA: 586s - loss: 4.7723 - acc: 0.019 - ETA: 584s - loss: 4.7731 - acc: 0.019 - ETA: 582s - loss: 4.7742 - acc: 0.019 - ETA: 580s - loss: 4.7759 - acc: 0.019 - ETA: 578s - loss: 4.7775 - acc: 0.019 - ETA: 575s - loss: 4.7766 - acc: 0.019 - ETA: 573s - loss: 4.7734 - acc: 0.019 - ETA: 571s - loss: 4.7737 - acc: 0.019 - ETA: 568s - loss: 4.7750 - acc: 0.019 - ETA: 566s - loss: 4.7756 - acc: 0.018 - ETA: 564s - loss: 4.7770 - acc: 0.018 - ETA: 561s - loss: 4.7754 - acc: 0.018 - ETA: 559s - loss: 4.7725 - acc: 0.019 - ETA: 557s - loss: 4.7723 - acc: 0.019 - ETA: 555s - loss: 4.7729 - acc: 0.019 - ETA: 553s - loss: 4.7719 - acc: 0.019 - ETA: 551s - loss: 4.7724 - acc: 0.020 - ETA: 549s - loss: 4.7725 - acc: 0.019 - ETA: 546s - loss: 4.7721 - acc: 0.019 - ETA: 544s - loss: 4.7713 - acc: 0.019 - ETA: 542s - loss: 4.7710 - acc: 0.019 - ETA: 539s - loss: 4.7722 - acc: 0.019 - ETA: 537s - loss: 4.7733 - acc: 0.019 - ETA: 535s - loss: 4.7734 - acc: 0.019 - ETA: 532s - loss: 4.7733 - acc: 0.019 - ETA: 530s - loss: 4.7727 - acc: 0.020 - ETA: 528s - loss: 4.7728 - acc: 0.020 - ETA: 526s - loss: 4.7745 - acc: 0.019 - ETA: 523s - loss: 4.7737 - acc: 0.020 - ETA: 521s - loss: 4.7742 - acc: 0.020 - ETA: 519s - loss: 4.7733 - acc: 0.020 - ETA: 517s - loss: 4.7724 - acc: 0.020 - ETA: 515s - loss: 4.7719 - acc: 0.020 - ETA: 512s - loss: 4.7701 - acc: 0.020 - ETA: 510s - loss: 4.7712 - acc: 0.020 - ETA: 508s - loss: 4.7702 - acc: 0.019 - ETA: 506s - loss: 4.7717 - acc: 0.019 - ETA: 503s - loss: 4.7729 - acc: 0.019 - ETA: 501s - loss: 4.7725 - acc: 0.019 - ETA: 499s - loss: 4.7715 - acc: 0.019 - ETA: 497s - loss: 4.7713 - acc: 0.019 - ETA: 494s - loss: 4.7698 - acc: 0.020 - ETA: 492s - loss: 4.7682 - acc: 0.019 - ETA: 490s - loss: 4.7680 - acc: 0.019 - ETA: 488s - loss: 4.7672 - acc: 0.020 - ETA: 486s - loss: 4.7687 - acc: 0.020 - ETA: 484s - loss: 4.7709 - acc: 0.020 - ETA: 481s - loss: 4.7710 - acc: 0.020 - ETA: 479s - loss: 4.7702 - acc: 0.020 - ETA: 477s - loss: 4.7701 - acc: 0.020 - ETA: 475s - loss: 4.7706 - acc: 0.020 - ETA: 472s - loss: 4.7720 - acc: 0.020 - ETA: 471s - loss: 4.7712 - acc: 0.019 - ETA: 468s - loss: 4.7704 - acc: 0.019 - ETA: 466s - loss: 4.7707 - acc: 0.019 - ETA: 464s - loss: 4.7719 - acc: 0.019 - ETA: 461s - loss: 4.7717 - acc: 0.019 - ETA: 459s - loss: 4.7729 - acc: 0.019 - ETA: 457s - loss: 4.7733 - acc: 0.019 - ETA: 455s - loss: 4.7734 - acc: 0.019 - ETA: 453s - loss: 4.7735 - acc: 0.019 - ETA: 450s - loss: 4.7732 - acc: 0.019 - ETA: 448s - loss: 4.7736 - acc: 0.019 - ETA: 446s - loss: 4.7749 - acc: 0.019 - ETA: 444s - loss: 4.7760 - acc: 0.018 - ETA: 441s - loss: 4.7767 - acc: 0.018 - ETA: 439s - loss: 4.7764 - acc: 0.019 - ETA: 437s - loss: 4.7770 - acc: 0.018 - ETA: 435s - loss: 4.7782 - acc: 0.019 - ETA: 432s - loss: 4.7764 - acc: 0.019 - ETA: 430s - loss: 4.7764 - acc: 0.020 - ETA: 428s - loss: 4.7766 - acc: 0.020 - ETA: 426s - loss: 4.7770 - acc: 0.019 - ETA: 424s - loss: 4.7765 - acc: 0.019 - ETA: 421s - loss: 4.7763 - acc: 0.019 - ETA: 419s - loss: 4.7771 - acc: 0.019 - ETA: 417s - loss: 4.7771 - acc: 0.019 - ETA: 415s - loss: 4.7775 - acc: 0.019 - ETA: 412s - loss: 4.7768 - acc: 0.019 - ETA: 410s - loss: 4.7772 - acc: 0.019 - ETA: 408s - loss: 4.7770 - acc: 0.019 - ETA: 406s - loss: 4.7781 - acc: 0.019 - ETA: 403s - loss: 4.7778 - acc: 0.019 - ETA: 401s - loss: 4.7779 - acc: 0.019 - ETA: 399s - loss: 4.7778 - acc: 0.019 - ETA: 397s - loss: 4.7785 - acc: 0.019 - ETA: 394s - loss: 4.7788 - acc: 0.019 - ETA: 392s - loss: 4.7788 - acc: 0.019 - ETA: 390s - loss: 4.7785 - acc: 0.019 - ETA: 388s - loss: 4.7781 - acc: 0.019 - ETA: 385s - loss: 4.7777 - acc: 0.019 - ETA: 383s - loss: 4.7763 - acc: 0.020 - ETA: 381s - loss: 4.7767 - acc: 0.019 - ETA: 379s - loss: 4.7761 - acc: 0.019 - ETA: 376s - loss: 4.7764 - acc: 0.019 - ETA: 374s - loss: 4.7758 - acc: 0.019 - ETA: 372s - loss: 4.7768 - acc: 0.020 - ETA: 370s - loss: 4.7775 - acc: 0.020 - ETA: 367s - loss: 4.7772 - acc: 0.020 - ETA: 365s - loss: 4.7756 - acc: 0.020 - ETA: 363s - loss: 4.7745 - acc: 0.020 - ETA: 361s - loss: 4.7759 - acc: 0.020 - ETA: 359s - loss: 4.7759 - acc: 0.020 - ETA: 356s - loss: 4.7746 - acc: 0.020 - ETA: 354s - loss: 4.7741 - acc: 0.020 - ETA: 352s - loss: 4.7753 - acc: 0.020 - ETA: 350s - loss: 4.7758 - acc: 0.020 - ETA: 347s - loss: 4.7763 - acc: 0.020 - ETA: 345s - loss: 4.7766 - acc: 0.020 - ETA: 343s - loss: 4.7757 - acc: 0.020 - ETA: 341s - loss: 4.7757 - acc: 0.020 - ETA: 339s - loss: 4.7760 - acc: 0.020 - ETA: 336s - loss: 4.7765 - acc: 0.020 - ETA: 334s - loss: 4.7765 - acc: 0.020 - ETA: 332s - loss: 4.7774 - acc: 0.020 - ETA: 330s - loss: 4.7771 - acc: 0.020 - ETA: 327s - loss: 4.7780 - acc: 0.020 - ETA: 325s - loss: 4.7793 - acc: 0.019 - ETA: 323s - loss: 4.7787 - acc: 0.020 - ETA: 321s - loss: 4.7785 - acc: 0.020 - ETA: 318s - loss: 4.7781 - acc: 0.020 - ETA: 316s - loss: 4.7789 - acc: 0.020 - ETA: 314s - loss: 4.7787 - acc: 0.020 - ETA: 312s - loss: 4.7795 - acc: 0.020 - ETA: 310s - loss: 4.7792 - acc: 0.020 - ETA: 307s - loss: 4.7795 - acc: 0.020 - ETA: 305s - loss: 4.7797 - acc: 0.021 - ETA: 303s - loss: 4.7804 - acc: 0.021 - ETA: 301s - loss: 4.7801 - acc: 0.021 - ETA: 298s - loss: 4.7802 - acc: 0.021 - ETA: 296s - loss: 4.7804 - acc: 0.021 - ETA: 294s - loss: 4.7802 - acc: 0.021 - ETA: 292s - loss: 4.7795 - acc: 0.020 - ETA: 290s - loss: 4.7809 - acc: 0.0208"
     ]
    },
    {
     "name": "stdout",
     "output_type": "stream",
     "text": [
      "6660/6680 [============================>.] - ETA: 287s - loss: 4.7808 - acc: 0.020 - ETA: 285s - loss: 4.7809 - acc: 0.021 - ETA: 283s - loss: 4.7818 - acc: 0.021 - ETA: 281s - loss: 4.7819 - acc: 0.021 - ETA: 279s - loss: 4.7816 - acc: 0.021 - ETA: 276s - loss: 4.7815 - acc: 0.021 - ETA: 274s - loss: 4.7809 - acc: 0.021 - ETA: 272s - loss: 4.7808 - acc: 0.021 - ETA: 270s - loss: 4.7828 - acc: 0.021 - ETA: 267s - loss: 4.7823 - acc: 0.021 - ETA: 265s - loss: 4.7825 - acc: 0.020 - ETA: 263s - loss: 4.7816 - acc: 0.021 - ETA: 261s - loss: 4.7813 - acc: 0.021 - ETA: 259s - loss: 4.7815 - acc: 0.020 - ETA: 257s - loss: 4.7820 - acc: 0.020 - ETA: 254s - loss: 4.7816 - acc: 0.020 - ETA: 252s - loss: 4.7805 - acc: 0.020 - ETA: 250s - loss: 4.7801 - acc: 0.020 - ETA: 248s - loss: 4.7800 - acc: 0.020 - ETA: 245s - loss: 4.7803 - acc: 0.021 - ETA: 243s - loss: 4.7805 - acc: 0.021 - ETA: 241s - loss: 4.7806 - acc: 0.021 - ETA: 239s - loss: 4.7813 - acc: 0.021 - ETA: 236s - loss: 4.7811 - acc: 0.021 - ETA: 234s - loss: 4.7806 - acc: 0.021 - ETA: 232s - loss: 4.7803 - acc: 0.021 - ETA: 230s - loss: 4.7807 - acc: 0.021 - ETA: 228s - loss: 4.7807 - acc: 0.020 - ETA: 225s - loss: 4.7806 - acc: 0.020 - ETA: 223s - loss: 4.7802 - acc: 0.020 - ETA: 221s - loss: 4.7805 - acc: 0.020 - ETA: 219s - loss: 4.7807 - acc: 0.020 - ETA: 216s - loss: 4.7806 - acc: 0.020 - ETA: 214s - loss: 4.7805 - acc: 0.020 - ETA: 212s - loss: 4.7800 - acc: 0.020 - ETA: 210s - loss: 4.7804 - acc: 0.020 - ETA: 207s - loss: 4.7802 - acc: 0.020 - ETA: 205s - loss: 4.7797 - acc: 0.020 - ETA: 203s - loss: 4.7795 - acc: 0.020 - ETA: 201s - loss: 4.7807 - acc: 0.020 - ETA: 198s - loss: 4.7812 - acc: 0.020 - ETA: 196s - loss: 4.7817 - acc: 0.020 - ETA: 194s - loss: 4.7820 - acc: 0.020 - ETA: 192s - loss: 4.7817 - acc: 0.020 - ETA: 189s - loss: 4.7814 - acc: 0.020 - ETA: 187s - loss: 4.7809 - acc: 0.020 - ETA: 185s - loss: 4.7803 - acc: 0.020 - ETA: 183s - loss: 4.7799 - acc: 0.020 - ETA: 180s - loss: 4.7802 - acc: 0.020 - ETA: 178s - loss: 4.7798 - acc: 0.020 - ETA: 176s - loss: 4.7796 - acc: 0.020 - ETA: 174s - loss: 4.7798 - acc: 0.020 - ETA: 171s - loss: 4.7797 - acc: 0.020 - ETA: 169s - loss: 4.7795 - acc: 0.020 - ETA: 167s - loss: 4.7793 - acc: 0.020 - ETA: 165s - loss: 4.7786 - acc: 0.020 - ETA: 162s - loss: 4.7789 - acc: 0.020 - ETA: 160s - loss: 4.7786 - acc: 0.020 - ETA: 158s - loss: 4.7780 - acc: 0.020 - ETA: 156s - loss: 4.7787 - acc: 0.020 - ETA: 153s - loss: 4.7790 - acc: 0.020 - ETA: 151s - loss: 4.7783 - acc: 0.020 - ETA: 149s - loss: 4.7788 - acc: 0.020 - ETA: 147s - loss: 4.7782 - acc: 0.020 - ETA: 145s - loss: 4.7784 - acc: 0.020 - ETA: 142s - loss: 4.7783 - acc: 0.020 - ETA: 140s - loss: 4.7789 - acc: 0.020 - ETA: 138s - loss: 4.7788 - acc: 0.021 - ETA: 136s - loss: 4.7790 - acc: 0.020 - ETA: 133s - loss: 4.7792 - acc: 0.020 - ETA: 131s - loss: 4.7784 - acc: 0.021 - ETA: 129s - loss: 4.7783 - acc: 0.021 - ETA: 127s - loss: 4.7784 - acc: 0.020 - ETA: 124s - loss: 4.7779 - acc: 0.021 - ETA: 122s - loss: 4.7772 - acc: 0.021 - ETA: 120s - loss: 4.7778 - acc: 0.021 - ETA: 118s - loss: 4.7779 - acc: 0.021 - ETA: 115s - loss: 4.7776 - acc: 0.021 - ETA: 113s - loss: 4.7771 - acc: 0.021 - ETA: 111s - loss: 4.7772 - acc: 0.021 - ETA: 109s - loss: 4.7766 - acc: 0.021 - ETA: 106s - loss: 4.7761 - acc: 0.021 - ETA: 104s - loss: 4.7756 - acc: 0.021 - ETA: 102s - loss: 4.7750 - acc: 0.021 - ETA: 100s - loss: 4.7754 - acc: 0.021 - ETA: 98s - loss: 4.7759 - acc: 0.021 - ETA: 95s - loss: 4.7758 - acc: 0.02 - ETA: 93s - loss: 4.7752 - acc: 0.02 - ETA: 91s - loss: 4.7745 - acc: 0.02 - ETA: 89s - loss: 4.7744 - acc: 0.02 - ETA: 86s - loss: 4.7743 - acc: 0.02 - ETA: 84s - loss: 4.7742 - acc: 0.02 - ETA: 82s - loss: 4.7740 - acc: 0.02 - ETA: 80s - loss: 4.7739 - acc: 0.02 - ETA: 77s - loss: 4.7738 - acc: 0.02 - ETA: 75s - loss: 4.7746 - acc: 0.02 - ETA: 73s - loss: 4.7742 - acc: 0.02 - ETA: 71s - loss: 4.7749 - acc: 0.02 - ETA: 69s - loss: 4.7748 - acc: 0.02 - ETA: 66s - loss: 4.7746 - acc: 0.02 - ETA: 64s - loss: 4.7749 - acc: 0.02 - ETA: 62s - loss: 4.7751 - acc: 0.02 - ETA: 60s - loss: 4.7755 - acc: 0.02 - ETA: 57s - loss: 4.7755 - acc: 0.02 - ETA: 55s - loss: 4.7755 - acc: 0.02 - ETA: 53s - loss: 4.7749 - acc: 0.02 - ETA: 51s - loss: 4.7746 - acc: 0.02 - ETA: 48s - loss: 4.7746 - acc: 0.02 - ETA: 46s - loss: 4.7750 - acc: 0.02 - ETA: 44s - loss: 4.7749 - acc: 0.02 - ETA: 42s - loss: 4.7749 - acc: 0.02 - ETA: 40s - loss: 4.7751 - acc: 0.02 - ETA: 37s - loss: 4.7753 - acc: 0.02 - ETA: 35s - loss: 4.7748 - acc: 0.02 - ETA: 33s - loss: 4.7754 - acc: 0.02 - ETA: 31s - loss: 4.7757 - acc: 0.02 - ETA: 28s - loss: 4.7763 - acc: 0.02 - ETA: 26s - loss: 4.7762 - acc: 0.02 - ETA: 24s - loss: 4.7764 - acc: 0.02 - ETA: 22s - loss: 4.7759 - acc: 0.02 - ETA: 20s - loss: 4.7759 - acc: 0.02 - ETA: 17s - loss: 4.7754 - acc: 0.02 - ETA: 15s - loss: 4.7754 - acc: 0.02 - ETA: 13s - loss: 4.7749 - acc: 0.02 - ETA: 11s - loss: 4.7749 - acc: 0.02 - ETA: 8s - loss: 4.7754 - acc: 0.0209 - ETA: 6s - loss: 4.7750 - acc: 0.020 - ETA: 4s - loss: 4.7754 - acc: 0.020 - ETA: 2s - loss: 4.7749 - acc: 0.0209Epoch 00004: val_loss improved from 4.79343 to 4.77923, saving model to saved_models/weights.best.from_scratch.hdf5\n",
      "6680/6680 [==============================] - 772s - loss: 4.7751 - acc: 0.0208 - val_loss: 4.7792 - val_acc: 0.0240\n"
     ]
    },
    {
     "data": {
      "text/plain": [
       "<keras.callbacks.History at 0x3f7efb00>"
      ]
     },
     "execution_count": 19,
     "metadata": {},
     "output_type": "execute_result"
    }
   ],
   "source": [
    "from keras.callbacks import ModelCheckpoint  \n",
    "\n",
    "### TODO: specify the number of epochs that you would like to use to train the model.\n",
    "\n",
    "epochs = 5\n",
    "\n",
    "### Do NOT modify the code below this line.\n",
    "\n",
    "checkpointer = ModelCheckpoint(filepath='saved_models/weights.best.from_scratch.hdf5', \n",
    "                               verbose=1, save_best_only=True)\n",
    "\n",
    "model.fit(train_tensors, train_targets, \n",
    "          validation_data=(valid_tensors, valid_targets),\n",
    "          epochs=epochs, batch_size=20, callbacks=[checkpointer], verbose=1)"
   ]
  },
  {
   "cell_type": "markdown",
   "metadata": {},
   "source": [
    "### Load the Model with the Best Validation Loss"
   ]
  },
  {
   "cell_type": "code",
   "execution_count": 20,
   "metadata": {},
   "outputs": [],
   "source": [
    "model.load_weights('saved_models/weights.best.from_scratch.hdf5')"
   ]
  },
  {
   "cell_type": "markdown",
   "metadata": {},
   "source": [
    "### Test the Model\n",
    "\n",
    "Try out your model on the test dataset of dog images.  Ensure that your test accuracy is greater than 1%."
   ]
  },
  {
   "cell_type": "code",
   "execution_count": 21,
   "metadata": {},
   "outputs": [
    {
     "name": "stdout",
     "output_type": "stream",
     "text": [
      "Test accuracy: 2.1531%\n"
     ]
    }
   ],
   "source": [
    "# get index of predicted dog breed for each image in test set\n",
    "dog_breed_predictions = [np.argmax(model.predict(np.expand_dims(tensor, axis=0))) for tensor in test_tensors]\n",
    "\n",
    "# report test accuracy\n",
    "test_accuracy = 100*np.sum(np.array(dog_breed_predictions)==np.argmax(test_targets, axis=1))/len(dog_breed_predictions)\n",
    "print('Test accuracy: %.4f%%' % test_accuracy)"
   ]
  },
  {
   "cell_type": "markdown",
   "metadata": {},
   "source": [
    "---\n",
    "<a id='step4'></a>\n",
    "## Step 4: Use a CNN to Classify Dog Breeds\n",
    "\n",
    "To reduce training time without sacrificing accuracy, we show you how to train a CNN using transfer learning.  In the following step, you will get a chance to use transfer learning to train your own CNN.\n",
    "\n",
    "### Obtain Bottleneck Features"
   ]
  },
  {
   "cell_type": "code",
   "execution_count": 22,
   "metadata": {},
   "outputs": [],
   "source": [
    "bottleneck_features = np.load('bottleneck_features/DogVGG16Data.npz')\n",
    "train_VGG16 = bottleneck_features['train']\n",
    "valid_VGG16 = bottleneck_features['valid']\n",
    "test_VGG16 = bottleneck_features['test']"
   ]
  },
  {
   "cell_type": "markdown",
   "metadata": {},
   "source": [
    "### Model Architecture\n",
    "\n",
    "The model uses the the pre-trained VGG-16 model as a fixed feature extractor, where the last convolutional output of VGG-16 is fed as input to our model.  We only add a global average pooling layer and a fully connected layer, where the latter contains one node for each dog category and is equipped with a softmax."
   ]
  },
  {
   "cell_type": "code",
   "execution_count": 23,
   "metadata": {},
   "outputs": [
    {
     "name": "stdout",
     "output_type": "stream",
     "text": [
      "_________________________________________________________________\n",
      "Layer (type)                 Output Shape              Param #   \n",
      "=================================================================\n",
      "global_average_pooling2d_4 ( (None, 512)               0         \n",
      "_________________________________________________________________\n",
      "dense_2 (Dense)              (None, 133)               68229     \n",
      "=================================================================\n",
      "Total params: 68,229.0\n",
      "Trainable params: 68,229.0\n",
      "Non-trainable params: 0.0\n",
      "_________________________________________________________________\n"
     ]
    }
   ],
   "source": [
    "VGG16_model = Sequential()\n",
    "VGG16_model.add(GlobalAveragePooling2D(input_shape=train_VGG16.shape[1:]))\n",
    "VGG16_model.add(Dense(133, activation='softmax'))\n",
    "\n",
    "VGG16_model.summary()"
   ]
  },
  {
   "cell_type": "markdown",
   "metadata": {},
   "source": [
    "### Compile the Model"
   ]
  },
  {
   "cell_type": "code",
   "execution_count": 24,
   "metadata": {},
   "outputs": [],
   "source": [
    "VGG16_model.compile(loss='categorical_crossentropy', optimizer='rmsprop', metrics=['accuracy'])"
   ]
  },
  {
   "cell_type": "markdown",
   "metadata": {},
   "source": [
    "### Train the Model"
   ]
  },
  {
   "cell_type": "code",
   "execution_count": 25,
   "metadata": {},
   "outputs": [
    {
     "name": "stdout",
     "output_type": "stream",
     "text": [
      "Train on 6680 samples, validate on 835 samples\n",
      "Epoch 1/20\n",
      "6580/6680 [============================>.] - ETA: 453s - loss: 15.1655 - acc: 0.0000e+ - ETA: 117s - loss: 15.0610 - acc: 0.0125   - ETA: 80s - loss: 15.1028 - acc: 0.0083 - ETA: 44s - loss: 15.1100 - acc: 0.013 - ETA: 31s - loss: 14.9796 - acc: 0.015 - ETA: 22s - loss: 14.7205 - acc: 0.021 - ETA: 18s - loss: 14.5918 - acc: 0.019 - ETA: 17s - loss: 14.5120 - acc: 0.021 - ETA: 16s - loss: 14.4223 - acc: 0.023 - ETA: 14s - loss: 14.3930 - acc: 0.022 - ETA: 13s - loss: 14.2622 - acc: 0.026 - ETA: 11s - loss: 14.2019 - acc: 0.026 - ETA: 10s - loss: 14.0415 - acc: 0.031 - ETA: 9s - loss: 14.0341 - acc: 0.032 - ETA: 8s - loss: 14.0022 - acc: 0.03 - ETA: 7s - loss: 13.9070 - acc: 0.03 - ETA: 6s - loss: 13.8415 - acc: 0.04 - ETA: 6s - loss: 13.7930 - acc: 0.04 - ETA: 6s - loss: 13.6798 - acc: 0.04 - ETA: 5s - loss: 13.6605 - acc: 0.05 - ETA: 5s - loss: 13.6252 - acc: 0.05 - ETA: 4s - loss: 13.5616 - acc: 0.05 - ETA: 4s - loss: 13.5256 - acc: 0.05 - ETA: 4s - loss: 13.4822 - acc: 0.05 - ETA: 4s - loss: 13.4467 - acc: 0.05 - ETA: 3s - loss: 13.3816 - acc: 0.06 - ETA: 3s - loss: 13.3677 - acc: 0.06 - ETA: 3s - loss: 13.3328 - acc: 0.06 - ETA: 3s - loss: 13.2967 - acc: 0.06 - ETA: 3s - loss: 13.2160 - acc: 0.07 - ETA: 2s - loss: 13.1597 - acc: 0.07 - ETA: 2s - loss: 13.1242 - acc: 0.07 - ETA: 2s - loss: 13.0827 - acc: 0.08 - ETA: 2s - loss: 13.0221 - acc: 0.08 - ETA: 2s - loss: 12.9618 - acc: 0.08 - ETA: 2s - loss: 12.8924 - acc: 0.09 - ETA: 1s - loss: 12.8783 - acc: 0.09 - ETA: 1s - loss: 12.8389 - acc: 0.09 - ETA: 1s - loss: 12.8324 - acc: 0.09 - ETA: 1s - loss: 12.8225 - acc: 0.09 - ETA: 1s - loss: 12.7869 - acc: 0.10 - ETA: 1s - loss: 12.7623 - acc: 0.10 - ETA: 1s - loss: 12.7331 - acc: 0.10 - ETA: 1s - loss: 12.7087 - acc: 0.10 - ETA: 1s - loss: 12.7013 - acc: 0.10 - ETA: 0s - loss: 12.6734 - acc: 0.10 - ETA: 0s - loss: 12.6355 - acc: 0.11 - ETA: 0s - loss: 12.6064 - acc: 0.11 - ETA: 0s - loss: 12.5944 - acc: 0.11 - ETA: 0s - loss: 12.5956 - acc: 0.11 - ETA: 0s - loss: 12.5682 - acc: 0.11 - ETA: 0s - loss: 12.5233 - acc: 0.11 - ETA: 0s - loss: 12.4824 - acc: 0.12 - ETA: 0s - loss: 12.4640 - acc: 0.12 - ETA: 0s - loss: 12.4256 - acc: 0.12 - ETA: 0s - loss: 12.3818 - acc: 0.12 - ETA: 0s - loss: 12.3717 - acc: 0.1275Epoch 00000: val_loss improved from inf to 10.97452, saving model to saved_models/weights.best.VGG16.hdf5\n",
      "6680/6680 [==============================] - 5s - loss: 12.3566 - acc: 0.1284 - val_loss: 10.9745 - val_acc: 0.2024\n",
      "Epoch 2/20\n",
      "6640/6680 [============================>.] - ETA: 2s - loss: 13.2604 - acc: 0.15 - ETA: 2s - loss: 11.4690 - acc: 0.23 - ETA: 2s - loss: 11.0783 - acc: 0.22 - ETA: 2s - loss: 10.8377 - acc: 0.23 - ETA: 2s - loss: 10.9262 - acc: 0.23 - ETA: 2s - loss: 10.7240 - acc: 0.24 - ETA: 2s - loss: 10.7336 - acc: 0.25 - ETA: 2s - loss: 10.7838 - acc: 0.24 - ETA: 2s - loss: 10.7378 - acc: 0.24 - ETA: 2s - loss: 10.8118 - acc: 0.24 - ETA: 2s - loss: 10.7369 - acc: 0.24 - ETA: 2s - loss: 10.7024 - acc: 0.24 - ETA: 2s - loss: 10.6850 - acc: 0.24 - ETA: 2s - loss: 10.6578 - acc: 0.25 - ETA: 2s - loss: 10.6282 - acc: 0.25 - ETA: 2s - loss: 10.5503 - acc: 0.25 - ETA: 1s - loss: 10.5576 - acc: 0.25 - ETA: 1s - loss: 10.5530 - acc: 0.25 - ETA: 1s - loss: 10.5589 - acc: 0.25 - ETA: 1s - loss: 10.6046 - acc: 0.25 - ETA: 1s - loss: 10.5694 - acc: 0.25 - ETA: 1s - loss: 10.5472 - acc: 0.25 - ETA: 1s - loss: 10.5549 - acc: 0.25 - ETA: 1s - loss: 10.5009 - acc: 0.25 - ETA: 1s - loss: 10.4647 - acc: 0.25 - ETA: 1s - loss: 10.4825 - acc: 0.25 - ETA: 1s - loss: 10.5116 - acc: 0.25 - ETA: 1s - loss: 10.4819 - acc: 0.25 - ETA: 1s - loss: 10.4924 - acc: 0.25 - ETA: 1s - loss: 10.4862 - acc: 0.25 - ETA: 1s - loss: 10.4832 - acc: 0.25 - ETA: 1s - loss: 10.4421 - acc: 0.26 - ETA: 1s - loss: 10.4382 - acc: 0.26 - ETA: 1s - loss: 10.4399 - acc: 0.26 - ETA: 1s - loss: 10.4566 - acc: 0.26 - ETA: 0s - loss: 10.4453 - acc: 0.26 - ETA: 0s - loss: 10.4236 - acc: 0.26 - ETA: 0s - loss: 10.3750 - acc: 0.26 - ETA: 0s - loss: 10.3825 - acc: 0.26 - ETA: 0s - loss: 10.3499 - acc: 0.27 - ETA: 0s - loss: 10.3445 - acc: 0.27 - ETA: 0s - loss: 10.3163 - acc: 0.27 - ETA: 0s - loss: 10.3379 - acc: 0.27 - ETA: 0s - loss: 10.3464 - acc: 0.27 - ETA: 0s - loss: 10.3361 - acc: 0.27 - ETA: 0s - loss: 10.3410 - acc: 0.27 - ETA: 0s - loss: 10.3421 - acc: 0.27 - ETA: 0s - loss: 10.3207 - acc: 0.27 - ETA: 0s - loss: 10.2975 - acc: 0.27 - ETA: 0s - loss: 10.2711 - acc: 0.27 - ETA: 0s - loss: 10.2915 - acc: 0.27 - ETA: 0s - loss: 10.2784 - acc: 0.27 - ETA: 0s - loss: 10.2711 - acc: 0.27 - ETA: 0s - loss: 10.2410 - acc: 0.2759Epoch 00001: val_loss improved from 10.97452 to 10.04001, saving model to saved_models/weights.best.VGG16.hdf5\n",
      "6680/6680 [==============================] - 3s - loss: 10.2340 - acc: 0.2763 - val_loss: 10.0400 - val_acc: 0.2850\n",
      "Epoch 3/20\n",
      "6580/6680 [============================>.] - ETA: 3s - loss: 10.5331 - acc: 0.30 - ETA: 2s - loss: 9.4084 - acc: 0.3500 - ETA: 2s - loss: 9.0857 - acc: 0.369 - ETA: 1s - loss: 9.5322 - acc: 0.350 - ETA: 2s - loss: 9.6553 - acc: 0.342 - ETA: 2s - loss: 9.7805 - acc: 0.334 - ETA: 2s - loss: 9.8337 - acc: 0.331 - ETA: 2s - loss: 9.7942 - acc: 0.332 - ETA: 2s - loss: 9.7377 - acc: 0.336 - ETA: 2s - loss: 9.7529 - acc: 0.338 - ETA: 2s - loss: 9.7068 - acc: 0.341 - ETA: 2s - loss: 9.6378 - acc: 0.344 - ETA: 1s - loss: 9.6886 - acc: 0.342 - ETA: 1s - loss: 9.7287 - acc: 0.338 - ETA: 1s - loss: 9.7493 - acc: 0.336 - ETA: 1s - loss: 9.6748 - acc: 0.342 - ETA: 1s - loss: 9.5976 - acc: 0.346 - ETA: 1s - loss: 9.5908 - acc: 0.346 - ETA: 1s - loss: 9.6164 - acc: 0.345 - ETA: 1s - loss: 9.6540 - acc: 0.343 - ETA: 1s - loss: 9.5624 - acc: 0.350 - ETA: 1s - loss: 9.5443 - acc: 0.350 - ETA: 1s - loss: 9.5284 - acc: 0.351 - ETA: 1s - loss: 9.5266 - acc: 0.350 - ETA: 1s - loss: 9.5230 - acc: 0.349 - ETA: 1s - loss: 9.4882 - acc: 0.350 - ETA: 1s - loss: 9.4614 - acc: 0.353 - ETA: 1s - loss: 9.5001 - acc: 0.351 - ETA: 1s - loss: 9.5180 - acc: 0.350 - ETA: 1s - loss: 9.5321 - acc: 0.350 - ETA: 1s - loss: 9.5713 - acc: 0.348 - ETA: 1s - loss: 9.6111 - acc: 0.346 - ETA: 1s - loss: 9.6276 - acc: 0.344 - ETA: 0s - loss: 9.6598 - acc: 0.342 - ETA: 0s - loss: 9.6434 - acc: 0.344 - ETA: 0s - loss: 9.6367 - acc: 0.344 - ETA: 0s - loss: 9.6169 - acc: 0.344 - ETA: 0s - loss: 9.6347 - acc: 0.342 - ETA: 0s - loss: 9.5870 - acc: 0.345 - ETA: 0s - loss: 9.5836 - acc: 0.346 - ETA: 0s - loss: 9.5824 - acc: 0.346 - ETA: 0s - loss: 9.5747 - acc: 0.347 - ETA: 0s - loss: 9.5578 - acc: 0.348 - ETA: 0s - loss: 9.5690 - acc: 0.347 - ETA: 0s - loss: 9.5741 - acc: 0.346 - ETA: 0s - loss: 9.5858 - acc: 0.346 - ETA: 0s - loss: 9.5786 - acc: 0.347 - ETA: 0s - loss: 9.5748 - acc: 0.347 - ETA: 0s - loss: 9.5706 - acc: 0.347 - ETA: 0s - loss: 9.5879 - acc: 0.346 - ETA: 0s - loss: 9.5816 - acc: 0.3470Epoch 00002: val_loss improved from 10.04001 to 9.75731, saving model to saved_models/weights.best.VGG16.hdf5\n",
      "6680/6680 [==============================] - 2s - loss: 9.5806 - acc: 0.3473 - val_loss: 9.7573 - val_acc: 0.3210\n",
      "Epoch 4/20\n"
     ]
    },
    {
     "name": "stdout",
     "output_type": "stream",
     "text": [
      "6560/6680 [============================>.] - ETA: 2s - loss: 9.9968 - acc: 0.300 - ETA: 2s - loss: 8.4726 - acc: 0.427 - ETA: 1s - loss: 8.7588 - acc: 0.417 - ETA: 1s - loss: 8.7168 - acc: 0.415 - ETA: 1s - loss: 8.7432 - acc: 0.417 - ETA: 1s - loss: 8.8025 - acc: 0.413 - ETA: 1s - loss: 8.7518 - acc: 0.413 - ETA: 1s - loss: 8.9366 - acc: 0.401 - ETA: 1s - loss: 9.0496 - acc: 0.397 - ETA: 1s - loss: 9.1324 - acc: 0.392 - ETA: 1s - loss: 9.2094 - acc: 0.387 - ETA: 1s - loss: 9.2223 - acc: 0.384 - ETA: 1s - loss: 9.2721 - acc: 0.382 - ETA: 1s - loss: 9.3426 - acc: 0.376 - ETA: 1s - loss: 9.2894 - acc: 0.379 - ETA: 1s - loss: 9.2916 - acc: 0.379 - ETA: 1s - loss: 9.3038 - acc: 0.378 - ETA: 1s - loss: 9.3130 - acc: 0.379 - ETA: 1s - loss: 9.3319 - acc: 0.379 - ETA: 1s - loss: 9.3894 - acc: 0.375 - ETA: 0s - loss: 9.3682 - acc: 0.377 - ETA: 0s - loss: 9.3799 - acc: 0.376 - ETA: 0s - loss: 9.3706 - acc: 0.376 - ETA: 0s - loss: 9.3436 - acc: 0.378 - ETA: 0s - loss: 9.3692 - acc: 0.377 - ETA: 0s - loss: 9.3549 - acc: 0.378 - ETA: 0s - loss: 9.3539 - acc: 0.378 - ETA: 0s - loss: 9.3391 - acc: 0.380 - ETA: 0s - loss: 9.3546 - acc: 0.379 - ETA: 0s - loss: 9.3306 - acc: 0.381 - ETA: 0s - loss: 9.3037 - acc: 0.383 - ETA: 0s - loss: 9.2857 - acc: 0.383 - ETA: 0s - loss: 9.2827 - acc: 0.383 - ETA: 0s - loss: 9.2851 - acc: 0.383 - ETA: 0s - loss: 9.2947 - acc: 0.382 - ETA: 0s - loss: 9.3273 - acc: 0.380 - ETA: 0s - loss: 9.3395 - acc: 0.379 - ETA: 0s - loss: 9.3596 - acc: 0.378 - ETA: 0s - loss: 9.3684 - acc: 0.378 - ETA: 0s - loss: 9.3762 - acc: 0.378 - ETA: 0s - loss: 9.3814 - acc: 0.378 - ETA: 0s - loss: 9.4034 - acc: 0.376 - ETA: 0s - loss: 9.4193 - acc: 0.3761Epoch 00003: val_loss improved from 9.75731 to 9.63045, saving model to saved_models/weights.best.VGG16.hdf5\n",
      "6680/6680 [==============================] - 2s - loss: 9.4013 - acc: 0.3768 - val_loss: 9.6305 - val_acc: 0.3341\n",
      "Epoch 5/20\n",
      "6540/6680 [============================>.] - ETA: 3s - loss: 8.0819 - acc: 0.500 - ETA: 2s - loss: 8.0147 - acc: 0.470 - ETA: 1s - loss: 9.2375 - acc: 0.392 - ETA: 1s - loss: 9.0738 - acc: 0.405 - ETA: 2s - loss: 9.0726 - acc: 0.406 - ETA: 1s - loss: 8.9657 - acc: 0.415 - ETA: 1s - loss: 8.9148 - acc: 0.419 - ETA: 1s - loss: 8.8732 - acc: 0.420 - ETA: 1s - loss: 8.8744 - acc: 0.422 - ETA: 1s - loss: 8.9061 - acc: 0.418 - ETA: 1s - loss: 8.9880 - acc: 0.412 - ETA: 1s - loss: 9.0356 - acc: 0.408 - ETA: 1s - loss: 9.1227 - acc: 0.402 - ETA: 1s - loss: 9.1361 - acc: 0.402 - ETA: 1s - loss: 9.1458 - acc: 0.401 - ETA: 1s - loss: 9.1113 - acc: 0.403 - ETA: 1s - loss: 9.0726 - acc: 0.404 - ETA: 1s - loss: 9.0954 - acc: 0.403 - ETA: 1s - loss: 9.0843 - acc: 0.403 - ETA: 1s - loss: 9.1156 - acc: 0.400 - ETA: 1s - loss: 9.1127 - acc: 0.399 - ETA: 1s - loss: 9.1005 - acc: 0.400 - ETA: 1s - loss: 9.1062 - acc: 0.399 - ETA: 1s - loss: 9.0696 - acc: 0.401 - ETA: 1s - loss: 9.0497 - acc: 0.401 - ETA: 1s - loss: 9.0620 - acc: 0.400 - ETA: 0s - loss: 9.0782 - acc: 0.399 - ETA: 0s - loss: 9.0634 - acc: 0.400 - ETA: 0s - loss: 9.0786 - acc: 0.399 - ETA: 0s - loss: 9.0594 - acc: 0.399 - ETA: 0s - loss: 9.0738 - acc: 0.397 - ETA: 0s - loss: 9.0626 - acc: 0.398 - ETA: 0s - loss: 9.0525 - acc: 0.399 - ETA: 0s - loss: 9.0394 - acc: 0.400 - ETA: 0s - loss: 9.0268 - acc: 0.399 - ETA: 0s - loss: 9.0019 - acc: 0.400 - ETA: 0s - loss: 8.9850 - acc: 0.400 - ETA: 0s - loss: 8.9656 - acc: 0.402 - ETA: 0s - loss: 8.9834 - acc: 0.400 - ETA: 0s - loss: 8.9806 - acc: 0.400 - ETA: 0s - loss: 8.9689 - acc: 0.400 - ETA: 0s - loss: 8.9732 - acc: 0.400 - ETA: 0s - loss: 8.9824 - acc: 0.3991Epoch 00004: val_loss improved from 9.63045 to 9.18241, saving model to saved_models/weights.best.VGG16.hdf5\n",
      "6680/6680 [==============================] - 2s - loss: 8.9918 - acc: 0.3984 - val_loss: 9.1824 - val_acc: 0.3557\n",
      "Epoch 6/20\n",
      "6560/6680 [============================>.] - ETA: 2s - loss: 12.5202 - acc: 0.20 - ETA: 2s - loss: 8.6231 - acc: 0.4286 - ETA: 2s - loss: 8.1662 - acc: 0.461 - ETA: 2s - loss: 8.4402 - acc: 0.442 - ETA: 2s - loss: 8.6462 - acc: 0.431 - ETA: 2s - loss: 8.6608 - acc: 0.428 - ETA: 2s - loss: 8.5883 - acc: 0.433 - ETA: 2s - loss: 8.4740 - acc: 0.438 - ETA: 2s - loss: 8.4720 - acc: 0.439 - ETA: 2s - loss: 8.5779 - acc: 0.431 - ETA: 2s - loss: 8.5975 - acc: 0.432 - ETA: 1s - loss: 8.7362 - acc: 0.422 - ETA: 1s - loss: 8.7566 - acc: 0.421 - ETA: 1s - loss: 8.7391 - acc: 0.421 - ETA: 1s - loss: 8.7488 - acc: 0.420 - ETA: 1s - loss: 8.6882 - acc: 0.425 - ETA: 1s - loss: 8.7334 - acc: 0.421 - ETA: 1s - loss: 8.7329 - acc: 0.422 - ETA: 1s - loss: 8.6948 - acc: 0.424 - ETA: 1s - loss: 8.7223 - acc: 0.422 - ETA: 1s - loss: 8.7176 - acc: 0.422 - ETA: 1s - loss: 8.7080 - acc: 0.421 - ETA: 1s - loss: 8.7029 - acc: 0.421 - ETA: 1s - loss: 8.6647 - acc: 0.424 - ETA: 1s - loss: 8.6609 - acc: 0.424 - ETA: 1s - loss: 8.6677 - acc: 0.423 - ETA: 1s - loss: 8.6608 - acc: 0.424 - ETA: 0s - loss: 8.6666 - acc: 0.424 - ETA: 0s - loss: 8.7301 - acc: 0.420 - ETA: 0s - loss: 8.6915 - acc: 0.423 - ETA: 0s - loss: 8.6498 - acc: 0.425 - ETA: 0s - loss: 8.6413 - acc: 0.425 - ETA: 0s - loss: 8.6242 - acc: 0.426 - ETA: 0s - loss: 8.6297 - acc: 0.425 - ETA: 0s - loss: 8.6422 - acc: 0.425 - ETA: 0s - loss: 8.6435 - acc: 0.424 - ETA: 0s - loss: 8.6645 - acc: 0.423 - ETA: 0s - loss: 8.6589 - acc: 0.423 - ETA: 0s - loss: 8.6518 - acc: 0.422 - ETA: 0s - loss: 8.6481 - acc: 0.423 - ETA: 0s - loss: 8.6387 - acc: 0.424 - ETA: 0s - loss: 8.6299 - acc: 0.424 - ETA: 0s - loss: 8.6193 - acc: 0.424 - ETA: 0s - loss: 8.5990 - acc: 0.426 - ETA: 0s - loss: 8.6048 - acc: 0.4256Epoch 00005: val_loss improved from 9.18241 to 9.01931, saving model to saved_models/weights.best.VGG16.hdf5\n",
      "6680/6680 [==============================] - 2s - loss: 8.6060 - acc: 0.4256 - val_loss: 9.0193 - val_acc: 0.3689\n",
      "Epoch 7/20\n",
      "6560/6680 [============================>.] - ETA: 2s - loss: 8.0626 - acc: 0.500 - ETA: 2s - loss: 8.9872 - acc: 0.425 - ETA: 2s - loss: 8.9489 - acc: 0.428 - ETA: 2s - loss: 8.8984 - acc: 0.430 - ETA: 2s - loss: 8.8976 - acc: 0.428 - ETA: 2s - loss: 8.6823 - acc: 0.440 - ETA: 2s - loss: 8.6273 - acc: 0.439 - ETA: 2s - loss: 8.5339 - acc: 0.444 - ETA: 1s - loss: 8.4873 - acc: 0.447 - ETA: 1s - loss: 8.4479 - acc: 0.450 - ETA: 1s - loss: 8.3370 - acc: 0.457 - ETA: 1s - loss: 8.3663 - acc: 0.456 - ETA: 1s - loss: 8.3335 - acc: 0.458 - ETA: 1s - loss: 8.3426 - acc: 0.457 - ETA: 1s - loss: 8.3438 - acc: 0.456 - ETA: 1s - loss: 8.3465 - acc: 0.455 - ETA: 1s - loss: 8.3087 - acc: 0.455 - ETA: 1s - loss: 8.3029 - acc: 0.455 - ETA: 1s - loss: 8.3060 - acc: 0.456 - ETA: 1s - loss: 8.2622 - acc: 0.460 - ETA: 1s - loss: 8.3011 - acc: 0.458 - ETA: 1s - loss: 8.3184 - acc: 0.457 - ETA: 1s - loss: 8.3346 - acc: 0.455 - ETA: 1s - loss: 8.3728 - acc: 0.453 - ETA: 1s - loss: 8.3658 - acc: 0.455 - ETA: 1s - loss: 8.3447 - acc: 0.456 - ETA: 0s - loss: 8.3672 - acc: 0.455 - ETA: 0s - loss: 8.3750 - acc: 0.455 - ETA: 0s - loss: 8.3467 - acc: 0.457 - ETA: 0s - loss: 8.3645 - acc: 0.455 - ETA: 0s - loss: 8.3638 - acc: 0.454 - ETA: 0s - loss: 8.3785 - acc: 0.453 - ETA: 0s - loss: 8.3417 - acc: 0.455 - ETA: 0s - loss: 8.3460 - acc: 0.455 - ETA: 0s - loss: 8.3715 - acc: 0.453 - ETA: 0s - loss: 8.3851 - acc: 0.452 - ETA: 0s - loss: 8.3945 - acc: 0.451 - ETA: 0s - loss: 8.3980 - acc: 0.451 - ETA: 0s - loss: 8.4367 - acc: 0.448 - ETA: 0s - loss: 8.4223 - acc: 0.449 - ETA: 0s - loss: 8.4171 - acc: 0.449 - ETA: 0s - loss: 8.4337 - acc: 0.449 - ETA: 0s - loss: 8.4170 - acc: 0.449 - ETA: 0s - loss: 8.4348 - acc: 0.448 - ETA: 0s - loss: 8.4365 - acc: 0.4486Epoch 00006: val_loss improved from 9.01931 to 8.91414, saving model to saved_models/weights.best.VGG16.hdf5\n",
      "6680/6680 [==============================] - 2s - loss: 8.4363 - acc: 0.4488 - val_loss: 8.9141 - val_acc: 0.3760\n",
      "Epoch 8/20\n"
     ]
    },
    {
     "name": "stdout",
     "output_type": "stream",
     "text": [
      "6580/6680 [============================>.] - ETA: 3s - loss: 8.8987 - acc: 0.450 - ETA: 2s - loss: 8.5936 - acc: 0.455 - ETA: 2s - loss: 8.3326 - acc: 0.470 - ETA: 2s - loss: 8.1625 - acc: 0.480 - ETA: 2s - loss: 8.4161 - acc: 0.457 - ETA: 2s - loss: 8.3431 - acc: 0.459 - ETA: 2s - loss: 8.3490 - acc: 0.459 - ETA: 1s - loss: 8.4941 - acc: 0.448 - ETA: 1s - loss: 8.4299 - acc: 0.452 - ETA: 1s - loss: 8.3979 - acc: 0.457 - ETA: 1s - loss: 8.5183 - acc: 0.450 - ETA: 1s - loss: 8.5600 - acc: 0.447 - ETA: 1s - loss: 8.4921 - acc: 0.451 - ETA: 1s - loss: 8.3765 - acc: 0.458 - ETA: 1s - loss: 8.3905 - acc: 0.457 - ETA: 1s - loss: 8.3019 - acc: 0.463 - ETA: 1s - loss: 8.3185 - acc: 0.462 - ETA: 1s - loss: 8.3088 - acc: 0.463 - ETA: 1s - loss: 8.2763 - acc: 0.465 - ETA: 1s - loss: 8.2426 - acc: 0.467 - ETA: 1s - loss: 8.2378 - acc: 0.466 - ETA: 1s - loss: 8.2731 - acc: 0.464 - ETA: 1s - loss: 8.2571 - acc: 0.466 - ETA: 1s - loss: 8.2379 - acc: 0.467 - ETA: 1s - loss: 8.2321 - acc: 0.468 - ETA: 1s - loss: 8.2441 - acc: 0.468 - ETA: 0s - loss: 8.2772 - acc: 0.466 - ETA: 0s - loss: 8.2394 - acc: 0.468 - ETA: 0s - loss: 8.2327 - acc: 0.469 - ETA: 0s - loss: 8.2299 - acc: 0.469 - ETA: 0s - loss: 8.2284 - acc: 0.469 - ETA: 0s - loss: 8.2590 - acc: 0.467 - ETA: 0s - loss: 8.2718 - acc: 0.466 - ETA: 0s - loss: 8.2689 - acc: 0.466 - ETA: 0s - loss: 8.2715 - acc: 0.466 - ETA: 0s - loss: 8.2696 - acc: 0.465 - ETA: 0s - loss: 8.2675 - acc: 0.465 - ETA: 0s - loss: 8.3020 - acc: 0.463 - ETA: 0s - loss: 8.2920 - acc: 0.463 - ETA: 0s - loss: 8.2873 - acc: 0.463 - ETA: 0s - loss: 8.2667 - acc: 0.465 - ETA: 0s - loss: 8.3015 - acc: 0.463 - ETA: 0s - loss: 8.3138 - acc: 0.462 - ETA: 0s - loss: 8.3293 - acc: 0.461 - ETA: 0s - loss: 8.3231 - acc: 0.4625Epoch 00007: val_loss did not improve\n",
      "6680/6680 [==============================] - 2s - loss: 8.3261 - acc: 0.4623 - val_loss: 8.9314 - val_acc: 0.3772\n",
      "Epoch 9/20\n",
      "6620/6680 [============================>.] - ETA: 4s - loss: 5.6664 - acc: 0.650 - ETA: 2s - loss: 7.8559 - acc: 0.507 - ETA: 2s - loss: 7.8619 - acc: 0.490 - ETA: 2s - loss: 7.8770 - acc: 0.495 - ETA: 2s - loss: 7.7912 - acc: 0.503 - ETA: 2s - loss: 7.9341 - acc: 0.494 - ETA: 2s - loss: 8.0080 - acc: 0.485 - ETA: 2s - loss: 8.0108 - acc: 0.486 - ETA: 2s - loss: 8.1325 - acc: 0.479 - ETA: 1s - loss: 8.2903 - acc: 0.470 - ETA: 1s - loss: 8.2682 - acc: 0.473 - ETA: 1s - loss: 8.2862 - acc: 0.472 - ETA: 1s - loss: 8.2552 - acc: 0.474 - ETA: 1s - loss: 8.2754 - acc: 0.472 - ETA: 1s - loss: 8.2409 - acc: 0.474 - ETA: 1s - loss: 8.3498 - acc: 0.468 - ETA: 1s - loss: 8.2781 - acc: 0.471 - ETA: 1s - loss: 8.2695 - acc: 0.472 - ETA: 1s - loss: 8.2280 - acc: 0.475 - ETA: 1s - loss: 8.3019 - acc: 0.471 - ETA: 1s - loss: 8.2628 - acc: 0.473 - ETA: 1s - loss: 8.2983 - acc: 0.470 - ETA: 1s - loss: 8.3141 - acc: 0.469 - ETA: 1s - loss: 8.2764 - acc: 0.471 - ETA: 1s - loss: 8.2260 - acc: 0.474 - ETA: 1s - loss: 8.2471 - acc: 0.473 - ETA: 1s - loss: 8.2413 - acc: 0.474 - ETA: 0s - loss: 8.1972 - acc: 0.476 - ETA: 0s - loss: 8.2156 - acc: 0.475 - ETA: 0s - loss: 8.2031 - acc: 0.476 - ETA: 0s - loss: 8.2381 - acc: 0.473 - ETA: 0s - loss: 8.2684 - acc: 0.471 - ETA: 0s - loss: 8.2668 - acc: 0.471 - ETA: 0s - loss: 8.2475 - acc: 0.472 - ETA: 0s - loss: 8.2504 - acc: 0.472 - ETA: 0s - loss: 8.2574 - acc: 0.472 - ETA: 0s - loss: 8.2625 - acc: 0.472 - ETA: 0s - loss: 8.2665 - acc: 0.471 - ETA: 0s - loss: 8.2476 - acc: 0.473 - ETA: 0s - loss: 8.2524 - acc: 0.472 - ETA: 0s - loss: 8.2442 - acc: 0.472 - ETA: 0s - loss: 8.2394 - acc: 0.473 - ETA: 0s - loss: 8.2335 - acc: 0.473 - ETA: 0s - loss: 8.2444 - acc: 0.472 - ETA: 0s - loss: 8.2533 - acc: 0.472 - ETA: 0s - loss: 8.2782 - acc: 0.470 - ETA: 0s - loss: 8.2842 - acc: 0.4702Epoch 00008: val_loss improved from 8.91414 to 8.88543, saving model to saved_models/weights.best.VGG16.hdf5\n",
      "6680/6680 [==============================] - 2s - loss: 8.2830 - acc: 0.4702 - val_loss: 8.8854 - val_acc: 0.3880\n",
      "Epoch 10/20\n",
      "6520/6680 [============================>.] - ETA: 3s - loss: 7.2536 - acc: 0.550 - ETA: 5s - loss: 6.6728 - acc: 0.575 - ETA: 3s - loss: 7.2380 - acc: 0.535 - ETA: 3s - loss: 7.1978 - acc: 0.538 - ETA: 2s - loss: 7.5686 - acc: 0.520 - ETA: 2s - loss: 7.5708 - acc: 0.519 - ETA: 2s - loss: 7.8444 - acc: 0.504 - ETA: 2s - loss: 7.7893 - acc: 0.508 - ETA: 2s - loss: 8.0875 - acc: 0.489 - ETA: 2s - loss: 8.1518 - acc: 0.485 - ETA: 2s - loss: 8.0769 - acc: 0.489 - ETA: 1s - loss: 8.1416 - acc: 0.485 - ETA: 1s - loss: 8.0939 - acc: 0.488 - ETA: 1s - loss: 8.0680 - acc: 0.489 - ETA: 1s - loss: 8.1642 - acc: 0.482 - ETA: 1s - loss: 8.2311 - acc: 0.478 - ETA: 1s - loss: 8.2646 - acc: 0.477 - ETA: 1s - loss: 8.2879 - acc: 0.475 - ETA: 1s - loss: 8.2836 - acc: 0.476 - ETA: 1s - loss: 8.2812 - acc: 0.476 - ETA: 1s - loss: 8.2737 - acc: 0.476 - ETA: 1s - loss: 8.3042 - acc: 0.474 - ETA: 1s - loss: 8.2514 - acc: 0.477 - ETA: 1s - loss: 8.2349 - acc: 0.479 - ETA: 1s - loss: 8.2934 - acc: 0.475 - ETA: 1s - loss: 8.3193 - acc: 0.473 - ETA: 1s - loss: 8.3139 - acc: 0.474 - ETA: 1s - loss: 8.2713 - acc: 0.476 - ETA: 1s - loss: 8.2598 - acc: 0.477 - ETA: 0s - loss: 8.2623 - acc: 0.476 - ETA: 0s - loss: 8.2881 - acc: 0.475 - ETA: 0s - loss: 8.2742 - acc: 0.475 - ETA: 0s - loss: 8.2885 - acc: 0.474 - ETA: 0s - loss: 8.3062 - acc: 0.473 - ETA: 0s - loss: 8.2720 - acc: 0.475 - ETA: 0s - loss: 8.2670 - acc: 0.476 - ETA: 0s - loss: 8.2715 - acc: 0.475 - ETA: 0s - loss: 8.2629 - acc: 0.476 - ETA: 0s - loss: 8.2727 - acc: 0.476 - ETA: 0s - loss: 8.2752 - acc: 0.475 - ETA: 0s - loss: 8.2653 - acc: 0.476 - ETA: 0s - loss: 8.2550 - acc: 0.477 - ETA: 0s - loss: 8.2726 - acc: 0.475 - ETA: 0s - loss: 8.2677 - acc: 0.476 - ETA: 0s - loss: 8.2740 - acc: 0.475 - ETA: 0s - loss: 8.2524 - acc: 0.477 - ETA: 0s - loss: 8.2479 - acc: 0.4771Epoch 00009: val_loss did not improve\n",
      "6680/6680 [==============================] - 2s - loss: 8.2460 - acc: 0.4774 - val_loss: 8.9100 - val_acc: 0.3880\n",
      "Epoch 11/20\n",
      "6640/6680 [============================>.] - ETA: 2s - loss: 7.2561 - acc: 0.550 - ETA: 2s - loss: 8.3111 - acc: 0.475 - ETA: 2s - loss: 8.2677 - acc: 0.481 - ETA: 2s - loss: 8.4568 - acc: 0.466 - ETA: 2s - loss: 8.4585 - acc: 0.468 - ETA: 1s - loss: 8.2439 - acc: 0.481 - ETA: 1s - loss: 8.1915 - acc: 0.484 - ETA: 1s - loss: 8.2997 - acc: 0.476 - ETA: 1s - loss: 8.3432 - acc: 0.473 - ETA: 1s - loss: 8.3165 - acc: 0.475 - ETA: 1s - loss: 8.4111 - acc: 0.470 - ETA: 1s - loss: 8.2907 - acc: 0.477 - ETA: 1s - loss: 8.3023 - acc: 0.477 - ETA: 1s - loss: 8.2415 - acc: 0.481 - ETA: 1s - loss: 8.2628 - acc: 0.479 - ETA: 1s - loss: 8.3444 - acc: 0.474 - ETA: 1s - loss: 8.3398 - acc: 0.475 - ETA: 1s - loss: 8.3338 - acc: 0.475 - ETA: 1s - loss: 8.3503 - acc: 0.474 - ETA: 1s - loss: 8.3249 - acc: 0.476 - ETA: 1s - loss: 8.3064 - acc: 0.477 - ETA: 1s - loss: 8.2762 - acc: 0.478 - ETA: 1s - loss: 8.2365 - acc: 0.480 - ETA: 1s - loss: 8.2066 - acc: 0.482 - ETA: 1s - loss: 8.2055 - acc: 0.483 - ETA: 1s - loss: 8.2211 - acc: 0.482 - ETA: 0s - loss: 8.2370 - acc: 0.481 - ETA: 0s - loss: 8.2561 - acc: 0.480 - ETA: 0s - loss: 8.2846 - acc: 0.478 - ETA: 0s - loss: 8.2464 - acc: 0.480 - ETA: 0s - loss: 8.2573 - acc: 0.479 - ETA: 0s - loss: 8.2734 - acc: 0.479 - ETA: 0s - loss: 8.2773 - acc: 0.478 - ETA: 0s - loss: 8.2570 - acc: 0.479 - ETA: 0s - loss: 8.2866 - acc: 0.477 - ETA: 0s - loss: 8.2769 - acc: 0.478 - ETA: 0s - loss: 8.2572 - acc: 0.479 - ETA: 0s - loss: 8.2800 - acc: 0.478 - ETA: 0s - loss: 8.2797 - acc: 0.478 - ETA: 0s - loss: 8.2864 - acc: 0.477 - ETA: 0s - loss: 8.2562 - acc: 0.478 - ETA: 0s - loss: 8.2606 - acc: 0.478 - ETA: 0s - loss: 8.2775 - acc: 0.477 - ETA: 0s - loss: 8.2703 - acc: 0.478 - ETA: 0s - loss: 8.2536 - acc: 0.479 - ETA: 0s - loss: 8.2500 - acc: 0.4795Epoch 00010: val_loss improved from 8.88543 to 8.82900, saving model to saved_models/weights.best.VGG16.hdf5\n",
      "6680/6680 [==============================] - 2s - loss: 8.2354 - acc: 0.4802 - val_loss: 8.8290 - val_acc: 0.3976\n",
      "Epoch 12/20\n"
     ]
    },
    {
     "name": "stdout",
     "output_type": "stream",
     "text": [
      "6620/6680 [============================>.] - ETA: 35s - loss: 9.6710 - acc: 0.40 - ETA: 10s - loss: 8.4429 - acc: 0.46 - ETA: 5s - loss: 8.1451 - acc: 0.4885 - ETA: 4s - loss: 8.2054 - acc: 0.485 - ETA: 3s - loss: 7.9601 - acc: 0.500 - ETA: 3s - loss: 8.0541 - acc: 0.494 - ETA: 2s - loss: 8.1372 - acc: 0.487 - ETA: 2s - loss: 8.3113 - acc: 0.478 - ETA: 2s - loss: 8.2835 - acc: 0.478 - ETA: 2s - loss: 8.1689 - acc: 0.486 - ETA: 2s - loss: 8.2175 - acc: 0.483 - ETA: 2s - loss: 8.1498 - acc: 0.488 - ETA: 2s - loss: 8.1445 - acc: 0.488 - ETA: 2s - loss: 8.2637 - acc: 0.481 - ETA: 2s - loss: 8.3166 - acc: 0.478 - ETA: 2s - loss: 8.3806 - acc: 0.474 - ETA: 1s - loss: 8.3932 - acc: 0.472 - ETA: 1s - loss: 8.3854 - acc: 0.472 - ETA: 1s - loss: 8.3510 - acc: 0.475 - ETA: 1s - loss: 8.3712 - acc: 0.473 - ETA: 1s - loss: 8.3084 - acc: 0.476 - ETA: 1s - loss: 8.2704 - acc: 0.479 - ETA: 1s - loss: 8.3453 - acc: 0.474 - ETA: 1s - loss: 8.3391 - acc: 0.474 - ETA: 1s - loss: 8.3359 - acc: 0.473 - ETA: 1s - loss: 8.2991 - acc: 0.476 - ETA: 1s - loss: 8.2709 - acc: 0.477 - ETA: 1s - loss: 8.2762 - acc: 0.477 - ETA: 1s - loss: 8.3019 - acc: 0.476 - ETA: 1s - loss: 8.3450 - acc: 0.473 - ETA: 1s - loss: 8.3220 - acc: 0.474 - ETA: 0s - loss: 8.2866 - acc: 0.475 - ETA: 0s - loss: 8.2630 - acc: 0.476 - ETA: 0s - loss: 8.2399 - acc: 0.478 - ETA: 0s - loss: 8.2591 - acc: 0.477 - ETA: 0s - loss: 8.2342 - acc: 0.478 - ETA: 0s - loss: 8.2237 - acc: 0.478 - ETA: 0s - loss: 8.2088 - acc: 0.479 - ETA: 0s - loss: 8.2268 - acc: 0.478 - ETA: 0s - loss: 8.2201 - acc: 0.478 - ETA: 0s - loss: 8.1998 - acc: 0.479 - ETA: 0s - loss: 8.1780 - acc: 0.480 - ETA: 0s - loss: 8.1763 - acc: 0.480 - ETA: 0s - loss: 8.1710 - acc: 0.480 - ETA: 0s - loss: 8.1827 - acc: 0.480 - ETA: 0s - loss: 8.1603 - acc: 0.481 - ETA: 0s - loss: 8.1556 - acc: 0.481 - ETA: 0s - loss: 8.1713 - acc: 0.4810Epoch 00011: val_loss did not improve\n",
      "6680/6680 [==============================] - 2s - loss: 8.1719 - acc: 0.4808 - val_loss: 8.8634 - val_acc: 0.3892\n",
      "Epoch 13/20\n",
      "6660/6680 [============================>.] - ETA: 1s - loss: 7.2534 - acc: 0.550 - ETA: 2s - loss: 7.8586 - acc: 0.512 - ETA: 2s - loss: 8.3346 - acc: 0.480 - ETA: 2s - loss: 8.3654 - acc: 0.478 - ETA: 2s - loss: 7.9762 - acc: 0.501 - ETA: 2s - loss: 7.6832 - acc: 0.518 - ETA: 2s - loss: 7.6288 - acc: 0.522 - ETA: 2s - loss: 7.7215 - acc: 0.516 - ETA: 2s - loss: 7.8518 - acc: 0.508 - ETA: 1s - loss: 8.0199 - acc: 0.496 - ETA: 1s - loss: 7.9565 - acc: 0.500 - ETA: 1s - loss: 7.9983 - acc: 0.496 - ETA: 1s - loss: 8.0502 - acc: 0.494 - ETA: 1s - loss: 8.1126 - acc: 0.490 - ETA: 1s - loss: 8.0609 - acc: 0.492 - ETA: 1s - loss: 7.9973 - acc: 0.496 - ETA: 1s - loss: 8.0811 - acc: 0.490 - ETA: 1s - loss: 8.1194 - acc: 0.489 - ETA: 1s - loss: 8.1420 - acc: 0.488 - ETA: 1s - loss: 8.1413 - acc: 0.487 - ETA: 1s - loss: 8.0809 - acc: 0.490 - ETA: 1s - loss: 8.0640 - acc: 0.492 - ETA: 1s - loss: 8.0797 - acc: 0.491 - ETA: 1s - loss: 8.1046 - acc: 0.489 - ETA: 1s - loss: 8.0679 - acc: 0.491 - ETA: 1s - loss: 8.0691 - acc: 0.491 - ETA: 1s - loss: 8.0817 - acc: 0.490 - ETA: 1s - loss: 8.0895 - acc: 0.490 - ETA: 0s - loss: 8.0817 - acc: 0.490 - ETA: 0s - loss: 8.0661 - acc: 0.491 - ETA: 0s - loss: 8.1022 - acc: 0.488 - ETA: 0s - loss: 8.1192 - acc: 0.488 - ETA: 0s - loss: 8.1242 - acc: 0.487 - ETA: 0s - loss: 8.1469 - acc: 0.486 - ETA: 0s - loss: 8.1186 - acc: 0.487 - ETA: 0s - loss: 8.1173 - acc: 0.487 - ETA: 0s - loss: 8.1336 - acc: 0.486 - ETA: 0s - loss: 8.1287 - acc: 0.487 - ETA: 0s - loss: 8.1156 - acc: 0.488 - ETA: 0s - loss: 8.1192 - acc: 0.487 - ETA: 0s - loss: 8.1018 - acc: 0.488 - ETA: 0s - loss: 8.0961 - acc: 0.488 - ETA: 0s - loss: 8.0944 - acc: 0.488 - ETA: 0s - loss: 8.0892 - acc: 0.488 - ETA: 0s - loss: 8.0758 - acc: 0.489 - ETA: 0s - loss: 8.0788 - acc: 0.489 - ETA: 0s - loss: 8.0732 - acc: 0.490 - ETA: 0s - loss: 8.0829 - acc: 0.4898Epoch 00012: val_loss improved from 8.82900 to 8.72898, saving model to saved_models/weights.best.VGG16.hdf5\n",
      "6680/6680 [==============================] - 2s - loss: 8.0806 - acc: 0.4898 - val_loss: 8.7290 - val_acc: 0.4000\n",
      "Epoch 14/20\n",
      "6580/6680 [============================>.] - ETA: 3s - loss: 8.3838 - acc: 0.450 - ETA: 2s - loss: 8.4515 - acc: 0.462 - ETA: 2s - loss: 7.8483 - acc: 0.503 - ETA: 2s - loss: 7.9767 - acc: 0.493 - ETA: 2s - loss: 8.3581 - acc: 0.472 - ETA: 2s - loss: 8.1502 - acc: 0.481 - ETA: 2s - loss: 8.2309 - acc: 0.477 - ETA: 2s - loss: 8.2088 - acc: 0.479 - ETA: 2s - loss: 8.2061 - acc: 0.480 - ETA: 1s - loss: 8.1461 - acc: 0.483 - ETA: 1s - loss: 8.1049 - acc: 0.485 - ETA: 1s - loss: 8.1169 - acc: 0.484 - ETA: 1s - loss: 8.1402 - acc: 0.483 - ETA: 1s - loss: 8.1517 - acc: 0.483 - ETA: 1s - loss: 8.1617 - acc: 0.483 - ETA: 1s - loss: 8.1263 - acc: 0.486 - ETA: 1s - loss: 8.1255 - acc: 0.486 - ETA: 1s - loss: 8.0651 - acc: 0.489 - ETA: 1s - loss: 8.0382 - acc: 0.491 - ETA: 1s - loss: 8.0278 - acc: 0.492 - ETA: 1s - loss: 7.9418 - acc: 0.497 - ETA: 1s - loss: 7.9410 - acc: 0.497 - ETA: 1s - loss: 7.9609 - acc: 0.496 - ETA: 1s - loss: 7.9338 - acc: 0.497 - ETA: 1s - loss: 7.9493 - acc: 0.496 - ETA: 1s - loss: 7.9667 - acc: 0.495 - ETA: 1s - loss: 7.9899 - acc: 0.493 - ETA: 0s - loss: 7.9881 - acc: 0.494 - ETA: 0s - loss: 7.9883 - acc: 0.493 - ETA: 0s - loss: 7.9681 - acc: 0.495 - ETA: 0s - loss: 7.9368 - acc: 0.496 - ETA: 0s - loss: 7.9290 - acc: 0.497 - ETA: 0s - loss: 7.9407 - acc: 0.496 - ETA: 0s - loss: 7.9236 - acc: 0.497 - ETA: 0s - loss: 7.9424 - acc: 0.496 - ETA: 0s - loss: 7.9559 - acc: 0.495 - ETA: 0s - loss: 7.9688 - acc: 0.494 - ETA: 0s - loss: 7.9817 - acc: 0.494 - ETA: 0s - loss: 7.9749 - acc: 0.494 - ETA: 0s - loss: 7.9580 - acc: 0.495 - ETA: 0s - loss: 7.9475 - acc: 0.495 - ETA: 0s - loss: 7.9562 - acc: 0.495 - ETA: 0s - loss: 7.9474 - acc: 0.495 - ETA: 0s - loss: 7.9510 - acc: 0.495 - ETA: 0s - loss: 7.9588 - acc: 0.494 - ETA: 0s - loss: 7.9769 - acc: 0.493 - ETA: 0s - loss: 7.9924 - acc: 0.4921Epoch 00013: val_loss improved from 8.72898 to 8.59459, saving model to saved_models/weights.best.VGG16.hdf5\n",
      "6680/6680 [==============================] - 2s - loss: 7.9965 - acc: 0.4918 - val_loss: 8.5946 - val_acc: 0.4096\n",
      "Epoch 15/20\n",
      "6620/6680 [============================>.] - ETA: 4s - loss: 6.4473 - acc: 0.600 - ETA: 3s - loss: 7.4988 - acc: 0.528 - ETA: 2s - loss: 8.1357 - acc: 0.485 - ETA: 2s - loss: 8.1500 - acc: 0.488 - ETA: 2s - loss: 7.9230 - acc: 0.500 - ETA: 2s - loss: 7.8129 - acc: 0.508 - ETA: 2s - loss: 7.8691 - acc: 0.506 - ETA: 2s - loss: 7.7887 - acc: 0.510 - ETA: 2s - loss: 7.8647 - acc: 0.506 - ETA: 2s - loss: 7.9025 - acc: 0.504 - ETA: 2s - loss: 7.8529 - acc: 0.506 - ETA: 2s - loss: 7.8834 - acc: 0.504 - ETA: 2s - loss: 7.8235 - acc: 0.508 - ETA: 1s - loss: 7.8616 - acc: 0.506 - ETA: 1s - loss: 7.8637 - acc: 0.505 - ETA: 1s - loss: 7.9317 - acc: 0.501 - ETA: 1s - loss: 7.9257 - acc: 0.501 - ETA: 1s - loss: 7.9637 - acc: 0.499 - ETA: 1s - loss: 7.9500 - acc: 0.500 - ETA: 1s - loss: 8.0368 - acc: 0.494 - ETA: 1s - loss: 8.0310 - acc: 0.494 - ETA: 1s - loss: 8.0206 - acc: 0.495 - ETA: 1s - loss: 8.0025 - acc: 0.496 - ETA: 1s - loss: 7.9868 - acc: 0.497 - ETA: 1s - loss: 8.0197 - acc: 0.495 - ETA: 1s - loss: 8.0245 - acc: 0.494 - ETA: 1s - loss: 7.9967 - acc: 0.496 - ETA: 1s - loss: 8.0319 - acc: 0.493 - ETA: 1s - loss: 8.0337 - acc: 0.493 - ETA: 1s - loss: 8.0006 - acc: 0.495 - ETA: 0s - loss: 8.0075 - acc: 0.495 - ETA: 0s - loss: 8.0112 - acc: 0.494 - ETA: 0s - loss: 7.9678 - acc: 0.496 - ETA: 0s - loss: 7.9297 - acc: 0.498 - ETA: 0s - loss: 7.8901 - acc: 0.501 - ETA: 0s - loss: 7.8835 - acc: 0.501 - ETA: 0s - loss: 7.8980 - acc: 0.500 - ETA: 0s - loss: 7.8993 - acc: 0.500 - ETA: 0s - loss: 7.8755 - acc: 0.501 - ETA: 0s - loss: 7.9019 - acc: 0.500 - ETA: 0s - loss: 7.9081 - acc: 0.500 - ETA: 0s - loss: 7.9036 - acc: 0.500 - ETA: 0s - loss: 7.9251 - acc: 0.499 - ETA: 0s - loss: 7.9362 - acc: 0.498 - ETA: 0s - loss: 7.9392 - acc: 0.498 - ETA: 0s - loss: 7.9480 - acc: 0.497 - ETA: 0s - loss: 7.9408 - acc: 0.498 - ETA: 0s - loss: 7.9654 - acc: 0.496 - ETA: 0s - loss: 7.9577 - acc: 0.4976Epoch 00014: val_loss did not improve\n"
     ]
    },
    {
     "name": "stdout",
     "output_type": "stream",
     "text": [
      "6680/6680 [==============================] - 2s - loss: 7.9568 - acc: 0.4976 - val_loss: 8.6516 - val_acc: 0.4132\n",
      "Epoch 16/20\n",
      "6540/6680 [============================>.] - ETA: 5s - loss: 10.4774 - acc: 0.35 - ETA: 3s - loss: 8.8677 - acc: 0.4500 - ETA: 3s - loss: 7.9973 - acc: 0.500 - ETA: 2s - loss: 8.4025 - acc: 0.476 - ETA: 2s - loss: 8.2016 - acc: 0.486 - ETA: 2s - loss: 8.0758 - acc: 0.495 - ETA: 2s - loss: 7.9320 - acc: 0.505 - ETA: 2s - loss: 7.9466 - acc: 0.502 - ETA: 2s - loss: 7.9693 - acc: 0.500 - ETA: 2s - loss: 8.0383 - acc: 0.495 - ETA: 2s - loss: 8.0727 - acc: 0.493 - ETA: 2s - loss: 8.0938 - acc: 0.492 - ETA: 2s - loss: 8.1159 - acc: 0.490 - ETA: 1s - loss: 8.0467 - acc: 0.493 - ETA: 1s - loss: 8.0808 - acc: 0.490 - ETA: 1s - loss: 8.1094 - acc: 0.488 - ETA: 1s - loss: 8.0533 - acc: 0.492 - ETA: 1s - loss: 8.0225 - acc: 0.494 - ETA: 1s - loss: 8.0667 - acc: 0.491 - ETA: 1s - loss: 8.1079 - acc: 0.488 - ETA: 1s - loss: 8.0388 - acc: 0.493 - ETA: 1s - loss: 7.9430 - acc: 0.498 - ETA: 1s - loss: 7.9850 - acc: 0.496 - ETA: 1s - loss: 7.9370 - acc: 0.499 - ETA: 1s - loss: 7.9138 - acc: 0.500 - ETA: 1s - loss: 7.9400 - acc: 0.498 - ETA: 1s - loss: 7.9044 - acc: 0.500 - ETA: 1s - loss: 7.8527 - acc: 0.503 - ETA: 1s - loss: 7.8863 - acc: 0.502 - ETA: 1s - loss: 7.8948 - acc: 0.501 - ETA: 1s - loss: 7.9020 - acc: 0.501 - ETA: 1s - loss: 7.8675 - acc: 0.503 - ETA: 0s - loss: 7.8654 - acc: 0.503 - ETA: 0s - loss: 7.8915 - acc: 0.501 - ETA: 0s - loss: 7.8845 - acc: 0.502 - ETA: 0s - loss: 7.8864 - acc: 0.501 - ETA: 0s - loss: 7.8745 - acc: 0.502 - ETA: 0s - loss: 7.8830 - acc: 0.502 - ETA: 0s - loss: 7.8584 - acc: 0.503 - ETA: 0s - loss: 7.8670 - acc: 0.502 - ETA: 0s - loss: 7.8775 - acc: 0.501 - ETA: 0s - loss: 7.8766 - acc: 0.501 - ETA: 0s - loss: 7.8812 - acc: 0.501 - ETA: 0s - loss: 7.8802 - acc: 0.501 - ETA: 0s - loss: 7.8649 - acc: 0.502 - ETA: 0s - loss: 7.8582 - acc: 0.502 - ETA: 0s - loss: 7.8509 - acc: 0.503 - ETA: 0s - loss: 7.8638 - acc: 0.501 - ETA: 0s - loss: 7.9074 - acc: 0.499 - ETA: 0s - loss: 7.9033 - acc: 0.4994Epoch 00015: val_loss improved from 8.59459 to 8.56018, saving model to saved_models/weights.best.VGG16.hdf5\n",
      "6680/6680 [==============================] - 2s - loss: 7.8884 - acc: 0.5001 - val_loss: 8.5602 - val_acc: 0.4096\n",
      "Epoch 17/20\n",
      "6640/6680 [============================>.] - ETA: 2s - loss: 5.6473 - acc: 0.650 - ETA: 2s - loss: 6.6841 - acc: 0.585 - ETA: 2s - loss: 6.8036 - acc: 0.571 - ETA: 2s - loss: 7.3397 - acc: 0.538 - ETA: 2s - loss: 7.4011 - acc: 0.532 - ETA: 2s - loss: 7.4507 - acc: 0.528 - ETA: 2s - loss: 7.5445 - acc: 0.519 - ETA: 2s - loss: 7.7380 - acc: 0.508 - ETA: 2s - loss: 7.8146 - acc: 0.501 - ETA: 2s - loss: 7.7399 - acc: 0.507 - ETA: 1s - loss: 7.7292 - acc: 0.508 - ETA: 1s - loss: 7.6201 - acc: 0.516 - ETA: 1s - loss: 7.5539 - acc: 0.519 - ETA: 1s - loss: 7.5538 - acc: 0.519 - ETA: 1s - loss: 7.5875 - acc: 0.517 - ETA: 1s - loss: 7.5998 - acc: 0.516 - ETA: 1s - loss: 7.6154 - acc: 0.515 - ETA: 1s - loss: 7.6312 - acc: 0.514 - ETA: 1s - loss: 7.6081 - acc: 0.516 - ETA: 1s - loss: 7.5718 - acc: 0.518 - ETA: 1s - loss: 7.5746 - acc: 0.517 - ETA: 1s - loss: 7.5634 - acc: 0.517 - ETA: 1s - loss: 7.6107 - acc: 0.515 - ETA: 1s - loss: 7.6199 - acc: 0.514 - ETA: 1s - loss: 7.6230 - acc: 0.514 - ETA: 1s - loss: 7.6606 - acc: 0.512 - ETA: 1s - loss: 7.6694 - acc: 0.512 - ETA: 1s - loss: 7.6930 - acc: 0.511 - ETA: 1s - loss: 7.7006 - acc: 0.510 - ETA: 1s - loss: 7.6901 - acc: 0.511 - ETA: 0s - loss: 7.7046 - acc: 0.510 - ETA: 0s - loss: 7.7170 - acc: 0.509 - ETA: 0s - loss: 7.7052 - acc: 0.509 - ETA: 0s - loss: 7.7078 - acc: 0.509 - ETA: 0s - loss: 7.7043 - acc: 0.509 - ETA: 0s - loss: 7.6810 - acc: 0.511 - ETA: 0s - loss: 7.6890 - acc: 0.511 - ETA: 0s - loss: 7.6942 - acc: 0.510 - ETA: 0s - loss: 7.6976 - acc: 0.510 - ETA: 0s - loss: 7.7054 - acc: 0.510 - ETA: 0s - loss: 7.7277 - acc: 0.508 - ETA: 0s - loss: 7.7688 - acc: 0.506 - ETA: 0s - loss: 7.7875 - acc: 0.505 - ETA: 0s - loss: 7.7895 - acc: 0.505 - ETA: 0s - loss: 7.7824 - acc: 0.505 - ETA: 0s - loss: 7.7762 - acc: 0.505 - ETA: 0s - loss: 7.7932 - acc: 0.504 - ETA: 0s - loss: 7.7839 - acc: 0.505 - ETA: 0s - loss: 7.7781 - acc: 0.506 - ETA: 0s - loss: 7.7987 - acc: 0.5048Epoch 00016: val_loss improved from 8.56018 to 8.51034, saving model to saved_models/weights.best.VGG16.hdf5\n",
      "6680/6680 [==============================] - 2s - loss: 7.7983 - acc: 0.5048 - val_loss: 8.5103 - val_acc: 0.4120\n",
      "Epoch 18/20\n",
      "6640/6680 [============================>.] - ETA: 2s - loss: 6.4473 - acc: 0.600 - ETA: 2s - loss: 8.0676 - acc: 0.487 - ETA: 2s - loss: 7.3929 - acc: 0.530 - ETA: 2s - loss: 7.6446 - acc: 0.515 - ETA: 2s - loss: 7.4980 - acc: 0.525 - ETA: 2s - loss: 7.6759 - acc: 0.515 - ETA: 2s - loss: 7.7022 - acc: 0.512 - ETA: 2s - loss: 7.7090 - acc: 0.512 - ETA: 2s - loss: 7.7343 - acc: 0.510 - ETA: 2s - loss: 7.7826 - acc: 0.507 - ETA: 1s - loss: 7.7795 - acc: 0.508 - ETA: 1s - loss: 7.7809 - acc: 0.508 - ETA: 1s - loss: 7.8099 - acc: 0.507 - ETA: 1s - loss: 7.7675 - acc: 0.510 - ETA: 1s - loss: 7.7656 - acc: 0.510 - ETA: 1s - loss: 7.6966 - acc: 0.514 - ETA: 1s - loss: 7.7343 - acc: 0.512 - ETA: 1s - loss: 7.7687 - acc: 0.510 - ETA: 1s - loss: 7.8272 - acc: 0.505 - ETA: 1s - loss: 7.8524 - acc: 0.503 - ETA: 1s - loss: 7.9112 - acc: 0.499 - ETA: 1s - loss: 7.9191 - acc: 0.499 - ETA: 1s - loss: 7.9067 - acc: 0.500 - ETA: 1s - loss: 7.9143 - acc: 0.499 - ETA: 1s - loss: 7.9004 - acc: 0.500 - ETA: 1s - loss: 7.8472 - acc: 0.503 - ETA: 1s - loss: 7.8534 - acc: 0.503 - ETA: 1s - loss: 7.8851 - acc: 0.501 - ETA: 1s - loss: 7.8833 - acc: 0.501 - ETA: 1s - loss: 7.8929 - acc: 0.501 - ETA: 0s - loss: 7.9452 - acc: 0.498 - ETA: 0s - loss: 7.9157 - acc: 0.499 - ETA: 0s - loss: 7.9161 - acc: 0.500 - ETA: 0s - loss: 7.9205 - acc: 0.500 - ETA: 0s - loss: 7.8882 - acc: 0.502 - ETA: 0s - loss: 7.8861 - acc: 0.502 - ETA: 0s - loss: 7.8398 - acc: 0.505 - ETA: 0s - loss: 7.8069 - acc: 0.506 - ETA: 0s - loss: 7.7953 - acc: 0.507 - ETA: 0s - loss: 7.7932 - acc: 0.507 - ETA: 0s - loss: 7.7776 - acc: 0.508 - ETA: 0s - loss: 7.7847 - acc: 0.508 - ETA: 0s - loss: 7.7763 - acc: 0.508 - ETA: 0s - loss: 7.7749 - acc: 0.508 - ETA: 0s - loss: 7.7742 - acc: 0.509 - ETA: 0s - loss: 7.7819 - acc: 0.508 - ETA: 0s - loss: 7.7795 - acc: 0.509 - ETA: 0s - loss: 7.7584 - acc: 0.510 - ETA: 0s - loss: 7.7581 - acc: 0.5102Epoch 00017: val_loss did not improve\n",
      "6680/6680 [==============================] - 2s - loss: 7.7599 - acc: 0.5102 - val_loss: 8.5786 - val_acc: 0.4024\n",
      "Epoch 19/20\n"
     ]
    },
    {
     "name": "stdout",
     "output_type": "stream",
     "text": [
      "6600/6680 [============================>.] - ETA: 2s - loss: 8.0681 - acc: 0.500 - ETA: 2s - loss: 8.0686 - acc: 0.492 - ETA: 2s - loss: 7.7245 - acc: 0.514 - ETA: 2s - loss: 7.7681 - acc: 0.509 - ETA: 2s - loss: 7.7588 - acc: 0.510 - ETA: 2s - loss: 7.9025 - acc: 0.501 - ETA: 2s - loss: 7.8986 - acc: 0.502 - ETA: 2s - loss: 7.8567 - acc: 0.505 - ETA: 2s - loss: 7.7521 - acc: 0.510 - ETA: 2s - loss: 7.7089 - acc: 0.514 - ETA: 2s - loss: 7.6332 - acc: 0.519 - ETA: 2s - loss: 7.6028 - acc: 0.522 - ETA: 1s - loss: 7.7883 - acc: 0.509 - ETA: 1s - loss: 7.7735 - acc: 0.510 - ETA: 1s - loss: 7.7915 - acc: 0.510 - ETA: 1s - loss: 7.8024 - acc: 0.509 - ETA: 1s - loss: 7.7598 - acc: 0.512 - ETA: 1s - loss: 7.7084 - acc: 0.516 - ETA: 1s - loss: 7.7417 - acc: 0.514 - ETA: 1s - loss: 7.7844 - acc: 0.511 - ETA: 1s - loss: 7.7416 - acc: 0.514 - ETA: 1s - loss: 7.6879 - acc: 0.517 - ETA: 1s - loss: 7.7115 - acc: 0.516 - ETA: 1s - loss: 7.6941 - acc: 0.517 - ETA: 1s - loss: 7.6805 - acc: 0.518 - ETA: 1s - loss: 7.7241 - acc: 0.515 - ETA: 1s - loss: 7.7059 - acc: 0.517 - ETA: 1s - loss: 7.7086 - acc: 0.517 - ETA: 1s - loss: 7.7093 - acc: 0.516 - ETA: 1s - loss: 7.6992 - acc: 0.517 - ETA: 0s - loss: 7.6848 - acc: 0.518 - ETA: 0s - loss: 7.6934 - acc: 0.517 - ETA: 0s - loss: 7.7247 - acc: 0.515 - ETA: 0s - loss: 7.7219 - acc: 0.515 - ETA: 0s - loss: 7.7237 - acc: 0.515 - ETA: 0s - loss: 7.7221 - acc: 0.515 - ETA: 0s - loss: 7.7319 - acc: 0.515 - ETA: 0s - loss: 7.7286 - acc: 0.515 - ETA: 0s - loss: 7.7351 - acc: 0.514 - ETA: 0s - loss: 7.7456 - acc: 0.513 - ETA: 0s - loss: 7.7323 - acc: 0.514 - ETA: 0s - loss: 7.7264 - acc: 0.514 - ETA: 0s - loss: 7.7345 - acc: 0.513 - ETA: 0s - loss: 7.7323 - acc: 0.513 - ETA: 0s - loss: 7.7567 - acc: 0.511 - ETA: 0s - loss: 7.7740 - acc: 0.509 - ETA: 0s - loss: 7.7594 - acc: 0.510 - ETA: 0s - loss: 7.7613 - acc: 0.510 - ETA: 0s - loss: 7.7248 - acc: 0.5124Epoch 00018: val_loss improved from 8.51034 to 8.48963, saving model to saved_models/weights.best.VGG16.hdf5\n",
      "6680/6680 [==============================] - 2s - loss: 7.7216 - acc: 0.5127 - val_loss: 8.4896 - val_acc: 0.4096\n",
      "Epoch 20/20\n",
      "6540/6680 [============================>.] - ETA: 2s - loss: 9.6743 - acc: 0.400 - ETA: 2s - loss: 8.5436 - acc: 0.462 - ETA: 2s - loss: 8.2258 - acc: 0.480 - ETA: 2s - loss: 7.9427 - acc: 0.497 - ETA: 2s - loss: 8.0257 - acc: 0.490 - ETA: 2s - loss: 8.1372 - acc: 0.483 - ETA: 2s - loss: 8.0157 - acc: 0.489 - ETA: 2s - loss: 7.8778 - acc: 0.496 - ETA: 2s - loss: 7.9026 - acc: 0.494 - ETA: 2s - loss: 7.8695 - acc: 0.498 - ETA: 1s - loss: 7.9238 - acc: 0.494 - ETA: 1s - loss: 7.8381 - acc: 0.500 - ETA: 1s - loss: 7.8295 - acc: 0.500 - ETA: 1s - loss: 7.8358 - acc: 0.501 - ETA: 1s - loss: 7.8372 - acc: 0.500 - ETA: 1s - loss: 7.7670 - acc: 0.505 - ETA: 1s - loss: 7.7616 - acc: 0.506 - ETA: 1s - loss: 7.7250 - acc: 0.509 - ETA: 1s - loss: 7.7020 - acc: 0.511 - ETA: 1s - loss: 7.6841 - acc: 0.512 - ETA: 1s - loss: 7.6141 - acc: 0.516 - ETA: 1s - loss: 7.6128 - acc: 0.517 - ETA: 1s - loss: 7.6319 - acc: 0.515 - ETA: 1s - loss: 7.6327 - acc: 0.515 - ETA: 1s - loss: 7.6428 - acc: 0.514 - ETA: 1s - loss: 7.6472 - acc: 0.514 - ETA: 1s - loss: 7.6019 - acc: 0.517 - ETA: 1s - loss: 7.5905 - acc: 0.518 - ETA: 1s - loss: 7.5571 - acc: 0.520 - ETA: 1s - loss: 7.5411 - acc: 0.521 - ETA: 1s - loss: 7.5523 - acc: 0.520 - ETA: 0s - loss: 7.5427 - acc: 0.521 - ETA: 0s - loss: 7.5506 - acc: 0.521 - ETA: 0s - loss: 7.5604 - acc: 0.520 - ETA: 0s - loss: 7.5488 - acc: 0.521 - ETA: 0s - loss: 7.5276 - acc: 0.522 - ETA: 0s - loss: 7.5488 - acc: 0.521 - ETA: 0s - loss: 7.5803 - acc: 0.519 - ETA: 0s - loss: 7.5845 - acc: 0.519 - ETA: 0s - loss: 7.5801 - acc: 0.519 - ETA: 0s - loss: 7.5807 - acc: 0.520 - ETA: 0s - loss: 7.6110 - acc: 0.518 - ETA: 0s - loss: 7.6454 - acc: 0.516 - ETA: 0s - loss: 7.6432 - acc: 0.516 - ETA: 0s - loss: 7.6532 - acc: 0.515 - ETA: 0s - loss: 7.6287 - acc: 0.517 - ETA: 0s - loss: 7.6377 - acc: 0.516 - ETA: 0s - loss: 7.6396 - acc: 0.516 - ETA: 0s - loss: 7.6293 - acc: 0.5174Epoch 00019: val_loss improved from 8.48963 to 8.31307, saving model to saved_models/weights.best.VGG16.hdf5\n",
      "6680/6680 [==============================] - 2s - loss: 7.6171 - acc: 0.5183 - val_loss: 8.3131 - val_acc: 0.4299\n"
     ]
    },
    {
     "data": {
      "text/plain": [
       "<keras.callbacks.History at 0x3f9c9be0>"
      ]
     },
     "execution_count": 25,
     "metadata": {},
     "output_type": "execute_result"
    }
   ],
   "source": [
    "checkpointer = ModelCheckpoint(filepath='saved_models/weights.best.VGG16.hdf5', \n",
    "                               verbose=1, save_best_only=True)\n",
    "\n",
    "VGG16_model.fit(train_VGG16, train_targets, \n",
    "          validation_data=(valid_VGG16, valid_targets),\n",
    "          epochs=20, batch_size=20, callbacks=[checkpointer], verbose=1)"
   ]
  },
  {
   "cell_type": "markdown",
   "metadata": {},
   "source": [
    "### Load the Model with the Best Validation Loss"
   ]
  },
  {
   "cell_type": "code",
   "execution_count": 26,
   "metadata": {},
   "outputs": [],
   "source": [
    "VGG16_model.load_weights('saved_models/weights.best.VGG16.hdf5')"
   ]
  },
  {
   "cell_type": "markdown",
   "metadata": {},
   "source": [
    "### Test the Model\n",
    "\n",
    "Now, we can use the CNN to test how well it identifies breed within our test dataset of dog images.  We print the test accuracy below."
   ]
  },
  {
   "cell_type": "code",
   "execution_count": 27,
   "metadata": {},
   "outputs": [
    {
     "name": "stdout",
     "output_type": "stream",
     "text": [
      "Test accuracy: 43.4211%\n"
     ]
    }
   ],
   "source": [
    "# get index of predicted dog breed for each image in test set\n",
    "VGG16_predictions = [np.argmax(VGG16_model.predict(np.expand_dims(feature, axis=0))) for feature in test_VGG16]\n",
    "\n",
    "# report test accuracy\n",
    "test_accuracy = 100*np.sum(np.array(VGG16_predictions)==np.argmax(test_targets, axis=1))/len(VGG16_predictions)\n",
    "print('Test accuracy: %.4f%%' % test_accuracy)"
   ]
  },
  {
   "cell_type": "markdown",
   "metadata": {},
   "source": [
    "### Predict Dog Breed with the Model"
   ]
  },
  {
   "cell_type": "code",
   "execution_count": 28,
   "metadata": {},
   "outputs": [],
   "source": [
    "from extract_bottleneck_features import *\n",
    "\n",
    "def VGG16_predict_breed(img_path):\n",
    "    # extract bottleneck features\n",
    "    bottleneck_feature = extract_VGG16(path_to_tensor(img_path))\n",
    "    # obtain predicted vector\n",
    "    predicted_vector = VGG16_model.predict(bottleneck_feature)\n",
    "    # return dog breed that is predicted by the model\n",
    "    return dog_names[np.argmax(predicted_vector)]"
   ]
  },
  {
   "cell_type": "markdown",
   "metadata": {},
   "source": [
    "---\n",
    "<a id='step5'></a>\n",
    "## Step 5: Create a CNN to Classify Dog Breeds (using Transfer Learning)\n",
    "\n",
    "You will now use transfer learning to create a CNN that can identify dog breed from images.  Your CNN must attain at least 60% accuracy on the test set.\n",
    "\n",
    "In Step 4, we used transfer learning to create a CNN using VGG-16 bottleneck features.  In this section, you must use the bottleneck features from a different pre-trained model.  To make things easier for you, we have pre-computed the features for all of the networks that are currently available in Keras:\n",
    "- [VGG-19](https://s3-us-west-1.amazonaws.com/udacity-aind/dog-project/DogVGG19Data.npz) bottleneck features\n",
    "- [ResNet-50](https://s3-us-west-1.amazonaws.com/udacity-aind/dog-project/DogResnet50Data.npz) bottleneck features\n",
    "- [Inception](https://s3-us-west-1.amazonaws.com/udacity-aind/dog-project/DogInceptionV3Data.npz) bottleneck features\n",
    "- [Xception](https://s3-us-west-1.amazonaws.com/udacity-aind/dog-project/DogXceptionData.npz) bottleneck features\n",
    "\n",
    "The files are encoded as such:\n",
    "\n",
    "    Dog{network}Data.npz\n",
    "    \n",
    "where `{network}`, in the above filename, can be one of `VGG19`, `Resnet50`, `InceptionV3`, or `Xception`.  Pick one of the above architectures, download the corresponding bottleneck features, and store the downloaded file in the `bottleneck_features/` folder in the repository.\n",
    "\n",
    "### (IMPLEMENTATION) Obtain Bottleneck Features\n",
    "\n",
    "In the code block below, extract the bottleneck features corresponding to the train, test, and validation sets by running the following:\n",
    "\n",
    "    bottleneck_features = np.load('bottleneck_features/Dog{network}Data.npz')\n",
    "    train_{network} = bottleneck_features['train']\n",
    "    valid_{network} = bottleneck_features['valid']\n",
    "    test_{network} = bottleneck_features['test']"
   ]
  },
  {
   "cell_type": "code",
   "execution_count": null,
   "metadata": {},
   "outputs": [],
   "source": [
    "### TODO: Obtain bottleneck features from another pre-trained CNN.\n",
    "bottleneck_features = np.load('bottleneck_features/DogInceptionV3Data.npz')\n",
    "train_InceptionV3 = bottleneck_features['train']\n",
    "valid_Inceptionv3 = bottleneck_featues['valid']\n",
    "test_InceptionV3 = bottleneck_features['test']"
   ]
  },
  {
   "cell_type": "markdown",
   "metadata": {},
   "source": [
    "### (IMPLEMENTATION) Model Architecture\n",
    "\n",
    "Create a CNN to classify dog breed.  At the end of your code cell block, summarize the layers of your model by executing the line:\n",
    "    \n",
    "        <your model's name>.summary()\n",
    "   \n",
    "__Question 5:__ Outline the steps you took to get to your final CNN architecture and your reasoning at each step.  Describe why you think the architecture is suitable for the current problem.\n",
    "\n",
    "__Answer:__ \n",
    "\n"
   ]
  },
  {
   "cell_type": "code",
   "execution_count": null,
   "metadata": {},
   "outputs": [],
   "source": [
    "### TODO: Define your architecture.\n",
    "InceptionV3_model = Sequential()\n",
    "InceptionV3_model.add(GlobalAveragePooling2D(input_shape=train_VGG16.shape[1:]))\n",
    "InceptionV3_model.add(Dense(133, activation='softmax'))\n",
    "\n",
    "InceptionV3_model.summary()"
   ]
  },
  {
   "cell_type": "markdown",
   "metadata": {},
   "source": [
    "### (IMPLEMENTATION) Compile the Model"
   ]
  },
  {
   "cell_type": "code",
   "execution_count": null,
   "metadata": {},
   "outputs": [],
   "source": [
    "### TODO: Compile the model.\n",
    "InceptionV3_model.compile(loss='categorical_crossentropy', optimizer='rmsprop', metrics=['accuracy'])"
   ]
  },
  {
   "cell_type": "markdown",
   "metadata": {},
   "source": [
    "### (IMPLEMENTATION) Train the Model\n",
    "\n",
    "Train your model in the code cell below.  Use model checkpointing to save the model that attains the best validation loss.  \n",
    "\n",
    "You are welcome to [augment the training data](https://blog.keras.io/building-powerful-image-classification-models-using-very-little-data.html), but this is not a requirement. "
   ]
  },
  {
   "cell_type": "code",
   "execution_count": null,
   "metadata": {},
   "outputs": [],
   "source": [
    "### TODO: Train the model.\n",
    "checkpointer = ModelCheckpoint(filepath='saved_models/weights.best.InceptionV3.hdf5', \n",
    "                               verbose=1, save_best_only=True)\n",
    "\n",
    "InceptionV3_model.fit(train_InceptionV3, train_targets, \n",
    "          validation_data=(valid_VGG16, valid_targets),\n",
    "          epochs=20, batch_size=20, callbacks=[checkpointer], verbose=1)"
   ]
  },
  {
   "cell_type": "markdown",
   "metadata": {},
   "source": [
    "### (IMPLEMENTATION) Load the Model with the Best Validation Loss"
   ]
  },
  {
   "cell_type": "code",
   "execution_count": null,
   "metadata": {},
   "outputs": [],
   "source": [
    "### TODO: Load the model weights with the best validation loss.\n",
    "InceptionV3_model.load_weights('saved_models/weights.best.InceptionV3.hdf5')"
   ]
  },
  {
   "cell_type": "markdown",
   "metadata": {},
   "source": [
    "### (IMPLEMENTATION) Test the Model\n",
    "\n",
    "Try out your model on the test dataset of dog images. Ensure that your test accuracy is greater than 60%."
   ]
  },
  {
   "cell_type": "code",
   "execution_count": null,
   "metadata": {},
   "outputs": [],
   "source": [
    "### TODO: Calculate classification accuracy on the test dataset.\n",
    "# get index of predicted dog breed for each image in test set\n",
    "InceptionV3_predictions = [np.argmax(InceptionV3_model.predict(np.expand_dims(feature, axis=0))) for feature in test_InceptionV3]\n",
    "\n",
    "# report test accuracy\n",
    "test_accuracy = 100*np.sum(np.array(InceptionV3_predictions)==np.argmax(test_targets, axis=1))/len(InceptionV3_predictions)\n",
    "print('Test accuracy: %.4f%%' % test_accuracy)"
   ]
  },
  {
   "cell_type": "markdown",
   "metadata": {},
   "source": [
    "### (IMPLEMENTATION) Predict Dog Breed with the Model\n",
    "\n",
    "Write a function that takes an image path as input and returns the dog breed (`Affenpinscher`, `Afghan_hound`, etc) that is predicted by your model.  \n",
    "\n",
    "Similar to the analogous function in Step 5, your function should have three steps:\n",
    "1. Extract the bottleneck features corresponding to the chosen CNN model.\n",
    "2. Supply the bottleneck features as input to the model to return the predicted vector.  Note that the argmax of this prediction vector gives the index of the predicted dog breed.\n",
    "3. Use the `dog_names` array defined in Step 0 of this notebook to return the corresponding breed.\n",
    "\n",
    "The functions to extract the bottleneck features can be found in `extract_bottleneck_features.py`, and they have been imported in an earlier code cell.  To obtain the bottleneck features corresponding to your chosen CNN architecture, you need to use the function\n",
    "\n",
    "    extract_{network}\n",
    "    \n",
    "where `{network}`, in the above filename, should be one of `VGG19`, `Resnet50`, `InceptionV3`, or `Xception`."
   ]
  },
  {
   "cell_type": "code",
   "execution_count": null,
   "metadata": {},
   "outputs": [],
   "source": [
    "### TODO: Write a function that takes a path to an image as input\n",
    "### and returns the dog breed that is predicted by the model.\n",
    "def InceptionV3_predict_breed(img_path):\n",
    "    # extract bottleneck features\n",
    "    bottleneck_feature = extract_InceptionV3(path_to_tensor(img_path))\n",
    "    # obtain predicted vector\n",
    "    predicted_vector = InceptionV3_model.predict(bottleneck_feature)\n",
    "    # return dog breed that is predicted by the model\n",
    "    return dog_names[np.argmax(predicted_vector)]"
   ]
  },
  {
   "cell_type": "markdown",
   "metadata": {},
   "source": [
    "---\n",
    "<a id='step6'></a>\n",
    "## Step 6: Write your Algorithm\n",
    "\n",
    "Write an algorithm that accepts a file path to an image and first determines whether the image contains a human, dog, or neither.  Then,\n",
    "- if a __dog__ is detected in the image, return the predicted breed.\n",
    "- if a __human__ is detected in the image, return the resembling dog breed.\n",
    "- if __neither__ is detected in the image, provide output that indicates an error.\n",
    "\n",
    "You are welcome to write your own functions for detecting humans and dogs in images, but feel free to use the `face_detector` and `dog_detector` functions developed above.  You are __required__ to use your CNN from Step 5 to predict dog breed.  \n",
    "\n",
    "Some sample output for our algorithm is provided below, but feel free to design your own user experience!\n",
    "\n",
    "![Sample Human Output](images/sample_human_output.png)\n",
    "\n",
    "\n",
    "### (IMPLEMENTATION) Write your Algorithm"
   ]
  },
  {
   "cell_type": "code",
   "execution_count": null,
   "metadata": {},
   "outputs": [],
   "source": [
    "### TODO: Write your algorithm.\n",
    "### Feel free to use as many code cells as needed."
   ]
  },
  {
   "cell_type": "markdown",
   "metadata": {},
   "source": [
    "---\n",
    "<a id='step7'></a>\n",
    "## Step 7: Test Your Algorithm\n",
    "\n",
    "In this section, you will take your new algorithm for a spin!  What kind of dog does the algorithm think that __you__ look like?  If you have a dog, does it predict your dog's breed accurately?  If you have a cat, does it mistakenly think that your cat is a dog?\n",
    "\n",
    "### (IMPLEMENTATION) Test Your Algorithm on Sample Images!\n",
    "\n",
    "Test your algorithm at least six images on your computer.  Feel free to use any images you like.  Use at least two human and two dog images.  \n",
    "\n",
    "__Question 6:__ Is the output better than you expected :) ?  Or worse :( ?  Provide at least three possible points of improvement for your algorithm.\n",
    "\n",
    "__Answer:__ "
   ]
  },
  {
   "cell_type": "code",
   "execution_count": null,
   "metadata": {},
   "outputs": [],
   "source": [
    "## TODO: Execute your algorithm from Step 6 on\n",
    "## at least 6 images on your computer.\n",
    "## Feel free to use as many code cells as needed."
   ]
  }
 ],
 "metadata": {
  "anaconda-cloud": {},
  "kernelspec": {
   "display_name": "Python [conda env:dog-project]",
   "language": "python",
   "name": "conda-env-dog-project-py"
  },
  "language_info": {
   "codemirror_mode": {
    "name": "ipython",
    "version": 3
   },
   "file_extension": ".py",
   "mimetype": "text/x-python",
   "name": "python",
   "nbconvert_exporter": "python",
   "pygments_lexer": "ipython3",
   "version": "3.5.3"
  }
 },
 "nbformat": 4,
 "nbformat_minor": 1
}
